{
 "cells": [
  {
   "cell_type": "markdown",
   "metadata": {},
   "source": [
    "Also see [steamreviews](https://pypi.org/project/steamreviews/)"
   ]
  },
  {
   "cell_type": "code",
   "execution_count": 1,
   "metadata": {
    "ExecuteTime": {
     "end_time": "2021-01-14T18:17:53.007256Z",
     "start_time": "2021-01-14T18:17:44.366822Z"
    }
   },
   "outputs": [],
   "source": [
    "%config Completer.use_jedi = False\n",
    "import gzip\n",
    "import spacy\n",
    "import textacy\n",
    "from spacymoji import Emoji\n",
    "\n",
    "\n",
    "def parse(path):\n",
    "    g = gzip.open(path, 'r')\n",
    "    for l in g:\n",
    "        yield eval(l)\n",
    "\n",
    "nlp = spacy.load(\"en_core_web_sm\")#, disable=[\"tagger\", \"parser\", \"ner\", \"textcat\"])\n",
    "emoji = Emoji(nlp)\n",
    "nlp.add_pipe(emoji, first=True)"
   ]
  },
  {
   "cell_type": "code",
   "execution_count": 2,
   "metadata": {
    "ExecuteTime": {
     "end_time": "2021-01-14T18:19:05.840708Z",
     "start_time": "2021-01-14T18:17:53.008606Z"
    }
   },
   "outputs": [
    {
     "name": "stdout",
     "output_type": "stream",
     "text": [
      "CPU times: user 1min 10s, sys: 1.84 s, total: 1min 12s\n",
      "Wall time: 1min 12s\n"
     ]
    }
   ],
   "source": [
    "%%time\n",
    "reviews = list(parse(\"./data/australian_user_reviews.json.gz\"))\n",
    "user_items = list(parse(\"./data/australian_users_items.json.gz\"))"
   ]
  },
  {
   "cell_type": "code",
   "execution_count": 3,
   "metadata": {
    "ExecuteTime": {
     "end_time": "2021-01-14T18:19:05.852534Z",
     "start_time": "2021-01-14T18:19:05.842412Z"
    }
   },
   "outputs": [],
   "source": [
    "from spacy.attrs import ORTH, LEMMA, NORM, TAG\n",
    "from spacy.lang.en.stop_words import STOP_WORDS\n",
    "TOKENIZER_EXCEPTIONS = {\n",
    "# do\n",
    "    \"don't\": [\n",
    "        {ORTH: \"do\", LEMMA: \"do\"},\n",
    "        {ORTH: \"n't\", LEMMA: \"not\", NORM: \"not\", TAG: \"RB\"}],\n",
    "    \"doesn't\": [\n",
    "        {ORTH: \"does\", LEMMA: \"do\"},\n",
    "        {ORTH: \"n't\", LEMMA: \"not\", NORM: \"not\", TAG: \"RB\"}],\n",
    "    \"didn't\": [\n",
    "        {ORTH: \"did\", LEMMA: \"do\"},\n",
    "        {ORTH: \"n't\", LEMMA: \"not\", NORM: \"not\", TAG: \"RB\"}],\n",
    "# can\n",
    "    \"can't\": [\n",
    "        {ORTH: \"ca\", LEMMA: \"can\"},\n",
    "        {ORTH: \"n't\", LEMMA: \"not\", NORM: \"not\", TAG: \"RB\"}],\n",
    "    \"couldn't\": [\n",
    "        {ORTH: \"could\", LEMMA: \"can\"},\n",
    "        {ORTH: \"n't\", LEMMA: \"not\", NORM: \"not\", TAG: \"RB\"}],\n",
    "# have\n",
    "    \"I've'\": [\n",
    "        {ORTH: \"I\", LEMMA: \"I\"},\n",
    "        {ORTH: \"'ve'\", LEMMA: \"have\", NORM: \"have\", TAG: \"VERB\"}],\n",
    "    \"haven't\": [\n",
    "        {ORTH: \"have\", LEMMA: \"have\"},\n",
    "        {ORTH: \"n't\", LEMMA: \"not\", NORM: \"not\", TAG: \"RB\"}],\n",
    "    \"hasn't\": [\n",
    "        {ORTH: \"has\", LEMMA: \"have\"},\n",
    "        {ORTH: \"n't\", LEMMA: \"not\", NORM: \"not\", TAG: \"RB\"}],\n",
    "    \"hadn't\": [\n",
    "        {ORTH: \"had\", LEMMA: \"have\"},\n",
    "        {ORTH: \"n't\", LEMMA: \"not\", NORM: \"not\", TAG: \"RB\"}],\n",
    "# will/shall will be replaced by will\n",
    "    \"I'll'\": [\n",
    "        {ORTH: \"I\", LEMMA: \"I\"},\n",
    "        {ORTH: \"'ll'\", LEMMA: \"will\", NORM: \"will\", TAG: \"VERB\"}],\n",
    "    \"he'll'\": [\n",
    "        {ORTH: \"he\", LEMMA: \"he\"},\n",
    "        {ORTH: \"'ll'\", LEMMA: \"will\", NORM: \"will\", TAG: \"VERB\"}],\n",
    "    \"she'll'\": [\n",
    "        {ORTH: \"she\", LEMMA: \"she\"},\n",
    "        {ORTH: \"'ll'\", LEMMA: \"will\", NORM: \"will\", TAG: \"VERB\"}],\n",
    "    \"it'll'\": [\n",
    "        {ORTH: \"it\", LEMMA: \"it\"},\n",
    "        {ORTH: \"'ll'\", LEMMA: \"will\", NORM: \"will\", TAG: \"VERB\"}],\n",
    "    \"won't\": [\n",
    "        {ORTH: \"wo\", LEMMA: \"will\"},\n",
    "        {ORTH: \"n't\", LEMMA: \"not\", NORM: \"not\", TAG: \"RB\"}],\n",
    "    \"wouldn't\": [\n",
    "        {ORTH: \"would\", LEMMA: \"will\"},\n",
    "        {ORTH: \"n't\", LEMMA: \"not\", NORM: \"not\", TAG: \"RB\"}],\n",
    "# be\n",
    "    \"I'm'\": [\n",
    "        {ORTH: \"I\", LEMMA: \"I\"},\n",
    "        {ORTH: \"'m'\", LEMMA: \"be\", NORM: \"am\", TAG: \"VERB\"}]\n",
    "}"
   ]
  },
  {
   "cell_type": "code",
   "execution_count": 4,
   "metadata": {
    "ExecuteTime": {
     "end_time": "2021-01-14T18:19:05.891966Z",
     "start_time": "2021-01-14T18:19:05.853889Z"
    }
   },
   "outputs": [
    {
     "data": {
      "text/plain": [
       "{'user_id': '76561197970982479',\n",
       " 'user_url': 'http://steamcommunity.com/profiles/76561197970982479',\n",
       " 'reviews': [{'funny': '',\n",
       "   'posted': 'Posted November 5, 2011.',\n",
       "   'last_edited': '',\n",
       "   'item_id': '1250',\n",
       "   'helpful': 'No ratings yet',\n",
       "   'recommend': True,\n",
       "   'review': 'Simple yet with great replayability. In my opinion does \"zombie\" hordes and team work better than left 4 dead plus has a global leveling system. Alot of down to earth \"zombie\" splattering fun for the whole family. Amazed this sort of FPS is so rare.'},\n",
       "  {'funny': '',\n",
       "   'posted': 'Posted July 15, 2011.',\n",
       "   'last_edited': '',\n",
       "   'item_id': '22200',\n",
       "   'helpful': 'No ratings yet',\n",
       "   'recommend': True,\n",
       "   'review': \"It's unique and worth a playthrough.\"},\n",
       "  {'funny': '',\n",
       "   'posted': 'Posted April 21, 2011.',\n",
       "   'last_edited': '',\n",
       "   'item_id': '43110',\n",
       "   'helpful': 'No ratings yet',\n",
       "   'recommend': True,\n",
       "   'review': 'Great atmosphere. The gunplay can be a bit chunky at times but at the end of the day this game is definitely worth it and I hope they do a sequel...so buy the game so I get a sequel!'}]}"
      ]
     },
     "execution_count": 4,
     "metadata": {},
     "output_type": "execute_result"
    }
   ],
   "source": [
    "reviews[0]"
   ]
  },
  {
   "cell_type": "code",
   "execution_count": 115,
   "metadata": {
    "ExecuteTime": {
     "end_time": "2021-01-14T21:30:16.281510Z",
     "start_time": "2021-01-14T21:30:16.087377Z"
    }
   },
   "outputs": [
    {
     "name": "stderr",
     "output_type": "stream",
     "text": [
      "<ipython-input-115-25f38a4f0223>:5: TqdmDeprecationWarning: This function will be removed in tqdm==5.0.0\n",
      "Please use `tqdm.notebook.tqdm` instead of `tqdm.tqdm_notebook`\n",
      "  for i, u in enumerate(tqdm_notebook(reviews)):\n"
     ]
    },
    {
     "data": {
      "application/vnd.jupyter.widget-view+json": {
       "model_id": "c2f32a9db04242b080eee776f5032dea",
       "version_major": 2,
       "version_minor": 0
      },
      "text/plain": [
       "  0%|          | 0/25799 [00:00<?, ?it/s]"
      ]
     },
     "metadata": {},
     "output_type": "display_data"
    }
   ],
   "source": [
    "from tqdm import tqdm_notebook\n",
    "reviews_meta = []\n",
    "reviews_text = []\n",
    "\n",
    "for i, u in enumerate(tqdm_notebook(reviews)):\n",
    "    d = {'user_id': u['user_id']}\n",
    "    for r in u['reviews']:\n",
    "        for k, v in r.items():\n",
    "            if k != 'review':\n",
    "                d[k] = v\n",
    "        reviews_text.append(r['review'])\n",
    "        reviews_meta.append(d)"
   ]
  },
  {
   "cell_type": "code",
   "execution_count": 116,
   "metadata": {
    "ExecuteTime": {
     "end_time": "2021-01-14T21:30:16.774629Z",
     "start_time": "2021-01-14T21:30:16.771419Z"
    },
    "scrolled": true
   },
   "outputs": [
    {
     "data": {
      "text/plain": [
       "({'user_id': '76561197970982479',\n",
       "  'funny': '',\n",
       "  'posted': 'Posted April 21, 2011.',\n",
       "  'last_edited': '',\n",
       "  'item_id': '43110',\n",
       "  'helpful': 'No ratings yet',\n",
       "  'recommend': True},\n",
       " 'Simple yet with great replayability. In my opinion does \"zombie\" hordes and team work better than left 4 dead plus has a global leveling system. Alot of down to earth \"zombie\" splattering fun for the whole family. Amazed this sort of FPS is so rare.')"
      ]
     },
     "execution_count": 116,
     "metadata": {},
     "output_type": "execute_result"
    }
   ],
   "source": [
    "reviews_meta[0], reviews_text[0]"
   ]
  },
  {
   "cell_type": "code",
   "execution_count": 117,
   "metadata": {
    "ExecuteTime": {
     "end_time": "2021-01-14T21:35:59.137972Z",
     "start_time": "2021-01-14T21:30:22.852009Z"
    },
    "scrolled": false
   },
   "outputs": [
    {
     "name": "stderr",
     "output_type": "stream",
     "text": [
      "<timed exec>:2: TqdmDeprecationWarning: This function will be removed in tqdm==5.0.0\n",
      "Please use `tqdm.notebook.tqdm` instead of `tqdm.tqdm_notebook`\n"
     ]
    },
    {
     "data": {
      "application/vnd.jupyter.widget-view+json": {
       "model_id": "f21c287cb6df4c00b1d3c2624d1eb17a",
       "version_major": 2,
       "version_minor": 0
      },
      "text/plain": [
       "  0%|          | 0/59305 [00:00<?, ?it/s]"
      ]
     },
     "metadata": {},
     "output_type": "display_data"
    },
    {
     "name": "stdout",
     "output_type": "stream",
     "text": [
      "CPU times: user 5min, sys: 36.1 s, total: 5min 36s\n",
      "Wall time: 5min 36s\n"
     ]
    }
   ],
   "source": [
    "%%time\n",
    "docs = list(nlp.pipe(reviews_text))\n",
    "prepared_texts = [\" \".join([t.lemma_ for t in d if not (t.is_stop or t._.is_emoji)]).lower() for d in tqdm_notebook(docs)]"
   ]
  },
  {
   "cell_type": "code",
   "execution_count": 118,
   "metadata": {
    "ExecuteTime": {
     "end_time": "2021-01-14T21:44:35.047195Z",
     "start_time": "2021-01-14T21:35:59.139059Z"
    },
    "scrolled": false
   },
   "outputs": [
    {
     "name": "stderr",
     "output_type": "stream",
     "text": [
      "<ipython-input-118-520dfd6306cf>:1: TqdmDeprecationWarning: This function will be removed in tqdm==5.0.0\n",
      "Please use `tqdm.notebook.tqdm` instead of `tqdm.tqdm_notebook`\n",
      "  docs = [textacy.make_spacy_doc(x, nlp) for x in tqdm_notebook(zip(prepared_texts, reviews_meta), total=len(reviews_meta))]\n"
     ]
    },
    {
     "data": {
      "application/vnd.jupyter.widget-view+json": {
       "model_id": "e332b42f835a4564822dc3cecd392efd",
       "version_major": 2,
       "version_minor": 0
      },
      "text/plain": [
       "  0%|          | 0/59305 [00:00<?, ?it/s]"
      ]
     },
     "metadata": {},
     "output_type": "display_data"
    }
   ],
   "source": [
    "docs = [textacy.make_spacy_doc(x, nlp) for x in tqdm_notebook(zip(prepared_texts, reviews_meta), total=len(reviews_meta))]"
   ]
  },
  {
   "cell_type": "code",
   "execution_count": 119,
   "metadata": {
    "ExecuteTime": {
     "end_time": "2021-01-14T21:44:35.340689Z",
     "start_time": "2021-01-14T21:44:35.048969Z"
    }
   },
   "outputs": [
    {
     "name": "stdout",
     "output_type": "stream",
     "text": [
      "CPU times: user 289 ms, sys: 444 µs, total: 289 ms\n",
      "Wall time: 288 ms\n"
     ]
    }
   ],
   "source": [
    "%%time\n",
    "corpus = textacy.Corpus(nlp, data=docs)"
   ]
  },
  {
   "cell_type": "code",
   "execution_count": 10,
   "metadata": {
    "ExecuteTime": {
     "end_time": "2021-01-14T18:33:58.219457Z",
     "start_time": "2021-01-14T18:33:58.216421Z"
    }
   },
   "outputs": [
    {
     "data": {
      "text/plain": [
       "unique worth playthrough ."
      ]
     },
     "execution_count": 10,
     "metadata": {},
     "output_type": "execute_result"
    }
   ],
   "source": [
    "corpus[1]"
   ]
  },
  {
   "cell_type": "code",
   "execution_count": 11,
   "metadata": {
    "ExecuteTime": {
     "end_time": "2021-01-14T18:33:58.245612Z",
     "start_time": "2021-01-14T18:33:58.220523Z"
    },
    "scrolled": true
   },
   "outputs": [
    {
     "data": {
      "text/plain": [
       "'worth'"
      ]
     },
     "execution_count": 11,
     "metadata": {},
     "output_type": "execute_result"
    }
   ],
   "source": [
    "corpus[1][1].lemma_"
   ]
  },
  {
   "cell_type": "code",
   "execution_count": 12,
   "metadata": {
    "ExecuteTime": {
     "end_time": "2021-01-14T18:33:59.212122Z",
     "start_time": "2021-01-14T18:33:58.246674Z"
    },
    "scrolled": true
   },
   "outputs": [
    {
     "name": "stderr",
     "output_type": "stream",
     "text": [
      "<timed exec>:3: TqdmDeprecationWarning: This function will be removed in tqdm==5.0.0\n",
      "Please use `tqdm.notebook.tqdm` instead of `tqdm.tqdm_notebook`\n"
     ]
    },
    {
     "data": {
      "application/vnd.jupyter.widget-view+json": {
       "model_id": "9b878cbd463e4364a6eada0203831e10",
       "version_major": 2,
       "version_minor": 0
      },
      "text/plain": [
       "  0%|          | 0/59305 [00:00<?, ?it/s]"
      ]
     },
     "metadata": {},
     "output_type": "display_data"
    },
    {
     "name": "stdout",
     "output_type": "stream",
     "text": [
      "CPU times: user 892 ms, sys: 44 ms, total: 936 ms\n",
      "Wall time: 930 ms\n"
     ]
    }
   ],
   "source": [
    "%%time\n",
    "normalized = [\n",
    "    doc._.to_terms_list(ngrams=[1], entities=True, as_strings=True, normalize='lemma')\n",
    "    for doc in tqdm_notebook(corpus)\n",
    "]"
   ]
  },
  {
   "cell_type": "code",
   "execution_count": 13,
   "metadata": {
    "ExecuteTime": {
     "end_time": "2021-01-14T18:34:15.956376Z",
     "start_time": "2021-01-14T18:33:59.213399Z"
    }
   },
   "outputs": [
    {
     "name": "stderr",
     "output_type": "stream",
     "text": [
      "/home/nizhikebinesi/fixed/classic-ml/venv_my/lib/python3.8/site-packages/sklearn/decomposition/_nmf.py:1076: ConvergenceWarning: Maximum number of iterations 200 reached. Increase it to improve convergence.\n",
      "  warnings.warn(\"Maximum number of iterations %d reached. Increase it to\"\n"
     ]
    }
   ],
   "source": [
    "import textacy.tm\n",
    "import textacy.vsm\n",
    "vectorizer = textacy.vsm.Vectorizer(\n",
    "    tf_type=\"linear\", \n",
    "    apply_idf=True, \n",
    "    idf_type=\"smooth\", \n",
    "    norm=\"l2\",\n",
    "    min_df=5, \n",
    "    max_df=0.95\n",
    ")\n",
    "\n",
    "doc_term_matrix = vectorizer.fit_transform(normalized)\n",
    "model = textacy.tm.TopicModel(\"nmf\", n_topics=15)\n",
    "model.fit(doc_term_matrix)\n",
    "\n",
    "doc_topic_matrix = model.transform(doc_term_matrix)"
   ]
  },
  {
   "cell_type": "code",
   "execution_count": 14,
   "metadata": {
    "ExecuteTime": {
     "end_time": "2021-01-14T18:34:15.967651Z",
     "start_time": "2021-01-14T18:34:15.957444Z"
    },
    "scrolled": true
   },
   "outputs": [
    {
     "name": "stdout",
     "output_type": "stream",
     "text": [
      "topic 0 : game   recommend   cool   epic   favourite   awsome   funny   steam   year   suck\n",
      "topic 1 : good   pretty   fps   free   graphic   game   shooter   simulator   far   rpg\n",
      "topic 2 : fun   friend   lot   addictive   hard   pretty   addict   heap   alot   super\n",
      "topic 3 : awesome   graphic   e   fps   recommend   gameplay   friend   word   worth   u\n",
      "topic 4 : great   friend   game   graphic   story   gameplay   community   fps   storyline   multiplayer\n",
      "topic 5 : play   friend   free   stop   hour   steam   people   enjoy   online   day\n",
      "topic 6 : 10/10   ign   bang   kill   life   simulator   rate   ruin   die   -ign\n",
      "topic 7 : love   <3   bit   absolutely   far   e   story   game   mod   hate\n",
      "topic 8 : amazing   graphic   simply   story   gameplay   e   absolutely   word   recommend   soundtrack\n",
      "topic 9 : like   minecraft   feel   people   look   thing   gun   dayz   zombie   u\n",
      "topic 10 : buy   worth   money   sale   $   dlc   regret   read   review   not\n",
      "topic 11 : jogo   e   de   muito   bom   que   o   é   um   com\n",
      "topic 12 : time   bad   recommend   want   people   2   thing   hour   story   think\n",
      "topic 13 : nice   graphic   gameplay   story   v   music   :3   little   style   game nice\n",
      "topic 14 : d   =   recommend   awsome   old   u   free   <3   epic   addict\n"
     ]
    }
   ],
   "source": [
    "for topic_idx, top_terms in model.top_topic_terms(vectorizer.id_to_term, top_n=10):\n",
    "    print(\"topic\", topic_idx, \":\", \"   \".join(top_terms))"
   ]
  },
  {
   "cell_type": "code",
   "execution_count": null,
   "metadata": {},
   "outputs": [],
   "source": []
  },
  {
   "cell_type": "code",
   "execution_count": 15,
   "metadata": {
    "ExecuteTime": {
     "end_time": "2021-01-14T18:34:16.054576Z",
     "start_time": "2021-01-14T18:34:15.968780Z"
    }
   },
   "outputs": [
    {
     "data": {
      "text/plain": [
       "'SYM'"
      ]
     },
     "execution_count": 15,
     "metadata": {},
     "output_type": "execute_result"
    }
   ],
   "source": [
    "doc = nlp('$')\n",
    "doc[0].pos_"
   ]
  },
  {
   "cell_type": "code",
   "execution_count": 120,
   "metadata": {
    "ExecuteTime": {
     "end_time": "2021-01-14T21:44:37.326655Z",
     "start_time": "2021-01-14T21:44:35.342301Z"
    },
    "scrolled": false
   },
   "outputs": [
    {
     "name": "stderr",
     "output_type": "stream",
     "text": [
      "<ipython-input-120-2007bdcec715>:1: TqdmDeprecationWarning: This function will be removed in tqdm==5.0.0\n",
      "Please use `tqdm.notebook.tqdm` instead of `tqdm.tqdm_notebook`\n",
      "  prepared_texts = [\" \".join([t.text for t in d if (t.pos_ not in ['X', 'SYM'] and len(t.text) > 2)]).lower() for d in tqdm_notebook(docs)]\n"
     ]
    },
    {
     "data": {
      "application/vnd.jupyter.widget-view+json": {
       "model_id": "382b2eaa36c0478abd8cd3616f3ad005",
       "version_major": 2,
       "version_minor": 0
      },
      "text/plain": [
       "  0%|          | 0/59305 [00:00<?, ?it/s]"
      ]
     },
     "metadata": {},
     "output_type": "display_data"
    }
   ],
   "source": [
    "prepared_texts = [\" \".join([t.text for t in d if (t.pos_ not in ['X', 'SYM'] and len(t.text) > 2)]).lower() for d in tqdm_notebook(docs)]"
   ]
  },
  {
   "cell_type": "code",
   "execution_count": 121,
   "metadata": {
    "ExecuteTime": {
     "end_time": "2021-01-14T21:52:19.521792Z",
     "start_time": "2021-01-14T21:44:37.327867Z"
    }
   },
   "outputs": [
    {
     "name": "stderr",
     "output_type": "stream",
     "text": [
      "<timed exec>:1: TqdmDeprecationWarning: This function will be removed in tqdm==5.0.0\n",
      "Please use `tqdm.notebook.tqdm` instead of `tqdm.tqdm_notebook`\n"
     ]
    },
    {
     "data": {
      "application/vnd.jupyter.widget-view+json": {
       "model_id": "338773f85c1e4423b323e372e62395ce",
       "version_major": 2,
       "version_minor": 0
      },
      "text/plain": [
       "  0%|          | 0/59305 [00:00<?, ?it/s]"
      ]
     },
     "metadata": {},
     "output_type": "display_data"
    },
    {
     "name": "stdout",
     "output_type": "stream",
     "text": [
      "CPU times: user 7min 41s, sys: 1.85 s, total: 7min 43s\n",
      "Wall time: 7min 42s\n"
     ]
    }
   ],
   "source": [
    "%%time\n",
    "docs = [textacy.make_spacy_doc(x, nlp) for x in tqdm_notebook(zip(prepared_texts, reviews_meta), total=len(reviews_meta))]\n",
    "corpus = textacy.Corpus(nlp, data=docs)"
   ]
  },
  {
   "cell_type": "code",
   "execution_count": 18,
   "metadata": {
    "ExecuteTime": {
     "end_time": "2021-01-14T18:42:19.761818Z",
     "start_time": "2021-01-14T18:42:19.363654Z"
    }
   },
   "outputs": [
    {
     "name": "stderr",
     "output_type": "stream",
     "text": [
      "<timed exec>:3: TqdmDeprecationWarning: This function will be removed in tqdm==5.0.0\n",
      "Please use `tqdm.notebook.tqdm` instead of `tqdm.tqdm_notebook`\n"
     ]
    },
    {
     "data": {
      "application/vnd.jupyter.widget-view+json": {
       "model_id": "46be783a6f764863b8457fbac2286b00",
       "version_major": 2,
       "version_minor": 0
      },
      "text/plain": [
       "  0%|          | 0/59305 [00:00<?, ?it/s]"
      ]
     },
     "metadata": {},
     "output_type": "display_data"
    },
    {
     "name": "stdout",
     "output_type": "stream",
     "text": [
      "CPU times: user 346 ms, sys: 51.8 ms, total: 398 ms\n",
      "Wall time: 395 ms\n"
     ]
    }
   ],
   "source": [
    "%%time\n",
    "normalized = [\n",
    "    doc._.to_terms_list(ngrams=[1], entities=True, as_strings=True, normalize='lemma')\n",
    "    for doc in tqdm_notebook(corpus)\n",
    "]"
   ]
  },
  {
   "cell_type": "code",
   "execution_count": 19,
   "metadata": {
    "ExecuteTime": {
     "end_time": "2021-01-14T18:42:33.846104Z",
     "start_time": "2021-01-14T18:42:19.763624Z"
    }
   },
   "outputs": [
    {
     "name": "stderr",
     "output_type": "stream",
     "text": [
      "/home/nizhikebinesi/fixed/classic-ml/venv_my/lib/python3.8/site-packages/sklearn/decomposition/_nmf.py:1076: ConvergenceWarning: Maximum number of iterations 200 reached. Increase it to improve convergence.\n",
      "  warnings.warn(\"Maximum number of iterations %d reached. Increase it to\"\n"
     ]
    }
   ],
   "source": [
    "import textacy.tm\n",
    "import textacy.vsm\n",
    "vectorizer = textacy.vsm.Vectorizer(\n",
    "    tf_type=\"linear\", \n",
    "    apply_idf=True, \n",
    "    idf_type=\"smooth\", \n",
    "    norm=\"l2\",\n",
    "    min_df=5, \n",
    "    max_df=0.95\n",
    ")\n",
    "\n",
    "doc_term_matrix = vectorizer.fit_transform(normalized)\n",
    "model = textacy.tm.TopicModel(\"nmf\", n_topics=15)\n",
    "model.fit(doc_term_matrix)\n",
    "\n",
    "doc_topic_matrix = model.transform(doc_term_matrix)"
   ]
  },
  {
   "cell_type": "code",
   "execution_count": 20,
   "metadata": {
    "ExecuteTime": {
     "end_time": "2021-01-14T18:42:33.859285Z",
     "start_time": "2021-01-14T18:42:33.847559Z"
    },
    "scrolled": true
   },
   "outputs": [
    {
     "name": "stdout",
     "output_type": "stream",
     "text": [
      "topic 0 : game   recommend   epic   favourite   awsome   year   funny   steam   suck   enjoy\n",
      "topic 1 : good   pretty   fps   free   graphic   game   shooter   simulator   far   zombie\n",
      "topic 2 : fun   friend   lot   addictive   hard   addict   pretty   heap   alot   super\n",
      "topic 3 : awesome   graphic   fps   recommend   word   friend   gameplay   e   worth   look\n",
      "topic 4 : great   friend   graphic   game   story   gameplay   multiplayer   community   storyline   fps\n",
      "topic 5 : play   friend   free   stop   hour   steam   people   day   enjoy   online\n",
      "topic 6 : 10/10   ign   bang   kill   life   simulator   rate   ruin   die   -ign\n",
      "topic 7 : love   absolutely   story   mod   bit   life   far   game   tf2   hate\n",
      "topic 8 : amazing   graphic   simply   story   gameplay   absolutely   word   worth   recommend   soundtrack\n",
      "topic 9 : like   minecraft   feel   people   look   thing   gun   stuff   tf2   skyrim\n",
      "topic 10 : buy   worth   money   sale   dlc   regret   read   review   want   ing\n",
      "topic 11 : time   recommend   bad   want   people   hour   thing   story   think   worth\n",
      "topic 12 : nice   graphic   gameplay   music   story   little   style   nice game nice   game nice   look\n",
      "topic 13 : jogo   muito   bom   que   muito bom   com   esse   recomendo   para   jogo muito\n",
      "topic 14 : cool   pretty   stuff   man   yeah   mod   guess   weapon   multiplayer   hat\n"
     ]
    }
   ],
   "source": [
    "for topic_idx, top_terms in model.top_topic_terms(vectorizer.id_to_term, top_n=10):\n",
    "    print(\"topic\", topic_idx, \":\", \"   \".join(top_terms))"
   ]
  },
  {
   "cell_type": "code",
   "execution_count": 21,
   "metadata": {
    "ExecuteTime": {
     "end_time": "2021-01-14T18:42:33.951548Z",
     "start_time": "2021-01-14T18:42:33.860681Z"
    }
   },
   "outputs": [],
   "source": [
    "# doc.lang_"
   ]
  },
  {
   "cell_type": "code",
   "execution_count": 122,
   "metadata": {
    "ExecuteTime": {
     "end_time": "2021-01-14T21:59:47.845422Z",
     "start_time": "2021-01-14T21:52:19.522983Z"
    },
    "scrolled": true
   },
   "outputs": [
    {
     "name": "stderr",
     "output_type": "stream",
     "text": [
      "<timed exec>:1: TqdmDeprecationWarning: This function will be removed in tqdm==5.0.0\n",
      "Please use `tqdm.notebook.tqdm` instead of `tqdm.tqdm_notebook`\n"
     ]
    },
    {
     "data": {
      "application/vnd.jupyter.widget-view+json": {
       "model_id": "79dce05036ab409c9ed325393b706531",
       "version_major": 2,
       "version_minor": 0
      },
      "text/plain": [
       "  0%|          | 0/59305 [00:00<?, ?it/s]"
      ]
     },
     "metadata": {},
     "output_type": "display_data"
    },
    {
     "name": "stderr",
     "output_type": "stream",
     "text": [
      "<timed exec>:2: TqdmDeprecationWarning: This function will be removed in tqdm==5.0.0\n",
      "Please use `tqdm.notebook.tqdm` instead of `tqdm.tqdm_notebook`\n"
     ]
    },
    {
     "data": {
      "application/vnd.jupyter.widget-view+json": {
       "model_id": "7d2e6e46c55144b7b36bb38c682a1bf6",
       "version_major": 2,
       "version_minor": 0
      },
      "text/plain": [
       "  0%|          | 0/59305 [00:00<?, ?it/s]"
      ]
     },
     "metadata": {},
     "output_type": "display_data"
    },
    {
     "name": "stdout",
     "output_type": "stream",
     "text": [
      "CPU times: user 7min 28s, sys: 1.98 s, total: 7min 30s\n",
      "Wall time: 7min 28s\n"
     ]
    }
   ],
   "source": [
    "%%time\n",
    "prepared_texts = [\" \".join([t.text for t in d if t.lemma_ != 'game']).lower() for d in tqdm_notebook(docs)]\n",
    "docs = [textacy.make_spacy_doc(x, nlp) for x in tqdm_notebook(zip(prepared_texts, reviews_meta), total=len(reviews_meta))]\n",
    "docs = [doc for doc in docs if doc.lang_ == 'en']\n",
    "corpus = textacy.Corpus(nlp, data=docs)"
   ]
  },
  {
   "cell_type": "code",
   "execution_count": 23,
   "metadata": {
    "ExecuteTime": {
     "end_time": "2021-01-14T18:50:30.081896Z",
     "start_time": "2021-01-14T18:50:28.764402Z"
    }
   },
   "outputs": [
    {
     "name": "stderr",
     "output_type": "stream",
     "text": [
      "<timed exec>:3: TqdmDeprecationWarning: This function will be removed in tqdm==5.0.0\n",
      "Please use `tqdm.notebook.tqdm` instead of `tqdm.tqdm_notebook`\n"
     ]
    },
    {
     "data": {
      "application/vnd.jupyter.widget-view+json": {
       "model_id": "a1e2cf9cafd44387943a9ccb6870d5d1",
       "version_major": 2,
       "version_minor": 0
      },
      "text/plain": [
       "  0%|          | 0/59305 [00:00<?, ?it/s]"
      ]
     },
     "metadata": {},
     "output_type": "display_data"
    },
    {
     "name": "stdout",
     "output_type": "stream",
     "text": [
      "CPU times: user 1.29 s, sys: 32.1 ms, total: 1.32 s\n",
      "Wall time: 1.31 s\n"
     ]
    }
   ],
   "source": [
    "%%time\n",
    "normalized = [\n",
    "    doc._.to_terms_list(ngrams=[1], entities=True, as_strings=True, normalize='lemma')\n",
    "    for doc in tqdm_notebook(corpus)\n",
    "]"
   ]
  },
  {
   "cell_type": "code",
   "execution_count": 24,
   "metadata": {
    "ExecuteTime": {
     "end_time": "2021-01-14T18:50:43.590351Z",
     "start_time": "2021-01-14T18:50:30.083098Z"
    }
   },
   "outputs": [
    {
     "name": "stderr",
     "output_type": "stream",
     "text": [
      "/home/nizhikebinesi/fixed/classic-ml/venv_my/lib/python3.8/site-packages/sklearn/decomposition/_nmf.py:1076: ConvergenceWarning: Maximum number of iterations 200 reached. Increase it to improve convergence.\n",
      "  warnings.warn(\"Maximum number of iterations %d reached. Increase it to\"\n"
     ]
    }
   ],
   "source": [
    "import textacy.tm\n",
    "import textacy.vsm\n",
    "vectorizer = textacy.vsm.Vectorizer(\n",
    "    tf_type=\"linear\", \n",
    "    apply_idf=True, \n",
    "    idf_type=\"smooth\", \n",
    "    norm=\"l2\",\n",
    "    min_df=5, \n",
    "    max_df=0.95\n",
    ")\n",
    "\n",
    "doc_term_matrix = vectorizer.fit_transform(normalized)\n",
    "model = textacy.tm.TopicModel(\"nmf\", n_topics=15)\n",
    "model.fit(doc_term_matrix)\n",
    "\n",
    "doc_topic_matrix = model.transform(doc_term_matrix)"
   ]
  },
  {
   "cell_type": "code",
   "execution_count": 25,
   "metadata": {
    "ExecuteTime": {
     "end_time": "2021-01-14T18:50:43.602615Z",
     "start_time": "2021-01-14T18:50:43.591889Z"
    }
   },
   "outputs": [
    {
     "name": "stdout",
     "output_type": "stream",
     "text": [
      "topic 0 : good   pretty   fps   graphic   shooter   zombie   far   simulator   world   f2p\n",
      "topic 1 : fun   friend   lot   addictive   addict   hard   pretty   alot   super   heap\n",
      "topic 2 : great   friend   graphic   story   gameplay   recommend   community   multiplayer   addictive   storyline\n",
      "topic 3 : awesome   graphic   recommend   fps   word   friend   e   gameplay   worth   try\n",
      "topic 4 : play   friend   stop   hour   enjoy   steam   people   day   know   year\n",
      "topic 5 : love   absolutely   mod   bit   awsome   story   life   far   hate   recomend\n",
      "topic 6 : 10/10   ign   bang   kill   life   simulator   rate   die   ruin   -ign\n",
      "topic 7 : like   minecraft   feel   people   look   thing   gun   stuff   tf2   zombie\n",
      "topic 8 : amazing   graphic   simply   story   gameplay   absolutely   word   recommend   worth   soundtrack\n",
      "topic 9 : buy   worth   money   sale   dlc   regret   read   review   want   steam\n",
      "topic 10 : time   recommend   bad   want   people   hour   thing   think   story   worth\n",
      "topic 11 : nice   graphic   gameplay   story   music   little   look   style   meme   fps\n",
      "topic 12 : jogo   muito   bom   que   muito bom   com   esse   recomendo   para   jogo muito\n",
      "topic 13 : cool   pretty   stuff   super   man   yeah   mod   weapon   guess   multiplayer\n",
      "topic 14 : free   fps   pay   steam   hat   download   tf2   roam   win   shooter\n"
     ]
    }
   ],
   "source": [
    "for topic_idx, top_terms in model.top_topic_terms(vectorizer.id_to_term, top_n=10):\n",
    "    print(\"topic\", topic_idx, \":\", \"   \".join(top_terms))"
   ]
  },
  {
   "cell_type": "code",
   "execution_count": 26,
   "metadata": {
    "ExecuteTime": {
     "end_time": "2021-01-14T19:16:21.286480Z",
     "start_time": "2021-01-14T19:16:21.283644Z"
    }
   },
   "outputs": [
    {
     "data": {
      "text/plain": [
       "217.79578550779647"
      ]
     },
     "execution_count": 26,
     "metadata": {},
     "output_type": "execute_result"
    }
   ],
   "source": [
    "model.model.reconstruction_err_"
   ]
  },
  {
   "cell_type": "code",
   "execution_count": 32,
   "metadata": {
    "ExecuteTime": {
     "end_time": "2021-01-14T19:17:46.468617Z",
     "start_time": "2021-01-14T19:17:46.121949Z"
    }
   },
   "outputs": [
    {
     "name": "stderr",
     "output_type": "stream",
     "text": [
      "<timed exec>:3: TqdmDeprecationWarning: This function will be removed in tqdm==5.0.0\n",
      "Please use `tqdm.notebook.tqdm` instead of `tqdm.tqdm_notebook`\n"
     ]
    },
    {
     "data": {
      "application/vnd.jupyter.widget-view+json": {
       "model_id": "0c2928fb9ff5475e8eb326980de5c383",
       "version_major": 2,
       "version_minor": 0
      },
      "text/plain": [
       "  0%|          | 0/59305 [00:00<?, ?it/s]"
      ]
     },
     "metadata": {},
     "output_type": "display_data"
    },
    {
     "name": "stdout",
     "output_type": "stream",
     "text": [
      "CPU times: user 319 ms, sys: 27.9 ms, total: 347 ms\n",
      "Wall time: 344 ms\n"
     ]
    }
   ],
   "source": [
    "%%time\n",
    "normalized = [\n",
    "    doc._.to_terms_list(ngrams=[1], entities=True, as_strings=True, normalize='lemma')\n",
    "    for doc in tqdm_notebook(corpus)\n",
    "]"
   ]
  },
  {
   "cell_type": "code",
   "execution_count": 33,
   "metadata": {
    "ExecuteTime": {
     "end_time": "2021-01-14T19:18:04.012264Z",
     "start_time": "2021-01-14T19:17:46.469933Z"
    }
   },
   "outputs": [
    {
     "name": "stderr",
     "output_type": "stream",
     "text": [
      "/home/nizhikebinesi/fixed/classic-ml/venv_my/lib/python3.8/site-packages/sklearn/decomposition/_nmf.py:1076: ConvergenceWarning: Maximum number of iterations 200 reached. Increase it to improve convergence.\n",
      "  warnings.warn(\"Maximum number of iterations %d reached. Increase it to\"\n"
     ]
    }
   ],
   "source": [
    "import textacy.tm\n",
    "import textacy.vsm\n",
    "vectorizer = textacy.vsm.Vectorizer(\n",
    "    tf_type=\"linear\", \n",
    "    apply_idf=True, \n",
    "    idf_type=\"smooth\", \n",
    "    norm=\"l2\",\n",
    "    min_df=5, \n",
    "    max_df=0.95\n",
    ")\n",
    "\n",
    "doc_term_matrix = vectorizer.fit_transform(normalized)\n",
    "model = textacy.tm.TopicModel(\"nmf\", n_topics=20)\n",
    "model.fit(doc_term_matrix)\n",
    "\n",
    "doc_topic_matrix = model.transform(doc_term_matrix)"
   ]
  },
  {
   "cell_type": "code",
   "execution_count": 34,
   "metadata": {
    "ExecuteTime": {
     "end_time": "2021-01-14T19:18:04.027437Z",
     "start_time": "2021-01-14T19:18:04.013790Z"
    }
   },
   "outputs": [
    {
     "name": "stdout",
     "output_type": "stream",
     "text": [
      "topic 0 : good   fps   graphic   shooter   zombie   far   world   simulator   steam   f2p\n",
      "topic 1 : fun   lot   addictive   addict   hard   super   alot   heap   load   enjoyable\n",
      "topic 2 : great   graphic   story   gameplay   community   multiplayer   addictive   storyline   fps   lot\n",
      "topic 3 : awesome   graphic   fps   word   gameplay   e   worth   try   look   epic\n",
      "topic 4 : play   stop   hour   enjoy   steam   day   people   know   year   far\n",
      "topic 5 : love   absolutely   mod   awsome   bit   hate   recomend   story   far   life\n",
      "topic 6 : 10/10   ign   bang   kill   life   simulator   rate   die   ruin   -ign\n",
      "topic 7 : like   minecraft   feel   people   look   thing   gun   stuff   tf2   zombie\n",
      "topic 8 : amazing   graphic   simply   gameplay   story   absolutely   word   worth   soundtrack   music\n",
      "topic 9 : buy   worth   money   sale   dlc   regret   read   review   want   steam\n",
      "topic 10 : time   want   hour   think   thing   people   worth   story   need   new\n",
      "topic 11 : nice   graphic   gameplay   music   story   look   little   style   fps   meme\n",
      "topic 12 : jogo   muito   bom   que   muito bom   com   esse   recomendo   para   jogo muito\n",
      "topic 13 : cool   stuff   super   mod   man   weapon   gun   hat   funny   multiplayer\n",
      "topic 14 : free   fps   pay   steam   hat   download   roam   tf2   win   shooter\n",
      "topic 15 : bad   rat   graphic   thing   terrible   people   port   review   community   actually\n",
      "topic 16 : friend   kill   especially   zombie   multiplayer   boring   online   group   heap   laugh\n",
      "topic 17 : recommend   highly   definitely   addictive   fps   enjoy   strongly   people   100   totally\n",
      "topic 18 : pretty   yeah   decent   hey   graphic   dank   boring   damn   sure   actually\n",
      "topic 19 : yes   hell   answer   omg   cause   awsome   100   recomend   word   shark\n"
     ]
    }
   ],
   "source": [
    "for topic_idx, top_terms in model.top_topic_terms(vectorizer.id_to_term, top_n=10):\n",
    "    print(\"topic\", topic_idx, \":\", \"   \".join(top_terms))"
   ]
  },
  {
   "cell_type": "code",
   "execution_count": 35,
   "metadata": {
    "ExecuteTime": {
     "end_time": "2021-01-14T19:18:04.059228Z",
     "start_time": "2021-01-14T19:18:04.028604Z"
    }
   },
   "outputs": [
    {
     "data": {
      "text/plain": [
       "215.61472090472648"
      ]
     },
     "execution_count": 35,
     "metadata": {},
     "output_type": "execute_result"
    }
   ],
   "source": [
    "model.model.reconstruction_err_"
   ]
  },
  {
   "cell_type": "code",
   "execution_count": 40,
   "metadata": {
    "ExecuteTime": {
     "end_time": "2021-01-14T19:21:26.796287Z",
     "start_time": "2021-01-14T19:21:26.793555Z"
    }
   },
   "outputs": [],
   "source": [
    "import nltk\n",
    "from nltk.corpus import stopwords\n",
    "STOP_WORDS = set(stopwords.words('english'))"
   ]
  },
  {
   "cell_type": "code",
   "execution_count": 123,
   "metadata": {
    "ExecuteTime": {
     "end_time": "2021-01-14T22:07:19.829611Z",
     "start_time": "2021-01-14T21:59:47.846817Z"
    },
    "scrolled": true
   },
   "outputs": [
    {
     "name": "stderr",
     "output_type": "stream",
     "text": [
      "<timed exec>:1: TqdmDeprecationWarning: This function will be removed in tqdm==5.0.0\n",
      "Please use `tqdm.notebook.tqdm` instead of `tqdm.tqdm_notebook`\n"
     ]
    },
    {
     "data": {
      "application/vnd.jupyter.widget-view+json": {
       "model_id": "3f5bd118a3c3442a994c5c33d9c7b53c",
       "version_major": 2,
       "version_minor": 0
      },
      "text/plain": [
       "  0%|          | 0/59305 [00:00<?, ?it/s]"
      ]
     },
     "metadata": {},
     "output_type": "display_data"
    },
    {
     "name": "stderr",
     "output_type": "stream",
     "text": [
      "<timed exec>:2: TqdmDeprecationWarning: This function will be removed in tqdm==5.0.0\n",
      "Please use `tqdm.notebook.tqdm` instead of `tqdm.tqdm_notebook`\n"
     ]
    },
    {
     "data": {
      "application/vnd.jupyter.widget-view+json": {
       "model_id": "71529d082e994d56baa4fe6e42d8472d",
       "version_major": 2,
       "version_minor": 0
      },
      "text/plain": [
       "  0%|          | 0/59305 [00:00<?, ?it/s]"
      ]
     },
     "metadata": {},
     "output_type": "display_data"
    },
    {
     "name": "stdout",
     "output_type": "stream",
     "text": [
      "CPU times: user 7min 31s, sys: 1.83 s, total: 7min 33s\n",
      "Wall time: 7min 31s\n"
     ]
    }
   ],
   "source": [
    "%%time\n",
    "prepared_texts = [\" \".join([t.text for t in d if t.text not in STOP_WORDS and \"/\" not in t.text]).lower() for d in tqdm_notebook(docs)]\n",
    "docs = [textacy.make_spacy_doc(x, nlp) for x in tqdm_notebook(zip(prepared_texts, reviews_meta), total=len(reviews_meta))]\n",
    "docs = [doc for doc in docs if doc.lang_ == 'en']\n",
    "corpus = textacy.Corpus(nlp, data=docs)"
   ]
  },
  {
   "cell_type": "code",
   "execution_count": 46,
   "metadata": {
    "ExecuteTime": {
     "end_time": "2021-01-14T19:35:07.710605Z",
     "start_time": "2021-01-14T19:35:06.211108Z"
    },
    "scrolled": true
   },
   "outputs": [
    {
     "name": "stderr",
     "output_type": "stream",
     "text": [
      "<timed exec>:3: TqdmDeprecationWarning: This function will be removed in tqdm==5.0.0\n",
      "Please use `tqdm.notebook.tqdm` instead of `tqdm.tqdm_notebook`\n"
     ]
    },
    {
     "data": {
      "application/vnd.jupyter.widget-view+json": {
       "model_id": "eaf134f0a5b14deda0818845001ab344",
       "version_major": 2,
       "version_minor": 0
      },
      "text/plain": [
       "  0%|          | 0/59305 [00:00<?, ?it/s]"
      ]
     },
     "metadata": {},
     "output_type": "display_data"
    },
    {
     "name": "stdout",
     "output_type": "stream",
     "text": [
      "CPU times: user 1.46 s, sys: 43.8 ms, total: 1.5 s\n",
      "Wall time: 1.5 s\n"
     ]
    }
   ],
   "source": [
    "%%time\n",
    "normalized = [\n",
    "    doc._.to_terms_list(ngrams=[1], entities=True, as_strings=True, normalize='lemma')\n",
    "    for doc in tqdm_notebook(corpus)\n",
    "]"
   ]
  },
  {
   "cell_type": "code",
   "execution_count": 47,
   "metadata": {
    "ExecuteTime": {
     "end_time": "2021-01-14T19:36:29.199028Z",
     "start_time": "2021-01-14T19:35:07.711859Z"
    }
   },
   "outputs": [
    {
     "name": "stderr",
     "output_type": "stream",
     "text": [
      "/home/nizhikebinesi/fixed/classic-ml/venv_my/lib/python3.8/site-packages/sklearn/decomposition/_nmf.py:1076: ConvergenceWarning: Maximum number of iterations 200 reached. Increase it to improve convergence.\n",
      "  warnings.warn(\"Maximum number of iterations %d reached. Increase it to\"\n"
     ]
    }
   ],
   "source": [
    "import textacy.tm\n",
    "import textacy.vsm\n",
    "vectorizer = textacy.vsm.Vectorizer(\n",
    "    tf_type=\"linear\", \n",
    "    apply_idf=True, \n",
    "    idf_type=\"smooth\", \n",
    "    norm=\"l2\",\n",
    "    min_df=5, \n",
    "    max_df=0.95\n",
    ")\n",
    "\n",
    "doc_term_matrix = vectorizer.fit_transform(normalized)\n",
    "model = textacy.tm.TopicModel(\"nmf\", n_topics=60)\n",
    "model.fit(doc_term_matrix)\n",
    "\n",
    "doc_topic_matrix = model.transform(doc_term_matrix)"
   ]
  },
  {
   "cell_type": "code",
   "execution_count": 48,
   "metadata": {
    "ExecuteTime": {
     "end_time": "2021-01-14T19:36:29.234866Z",
     "start_time": "2021-01-14T19:36:29.200567Z"
    },
    "scrolled": true
   },
   "outputs": [
    {
     "name": "stdout",
     "output_type": "stream",
     "text": [
      "topic 0 : good   far   world   rpg   f2p   ing   damn   stuff   survival   probably\n",
      "topic 1 : fun   addict   alot   super   heap   load   enjoyable   simple   little   online\n",
      "topic 2 : great   community   storyline   strategy   reccomend   recomend   overall   survival   classic   job\n",
      "topic 3 : awesome   word   e   super   storyline   bloody   holy   recomend   gore   totally\n",
      "topic 4 : play   stop   enjoy   day   far   minute   long   online   probably   start\n",
      "topic 5 : love   absolutely   hate   recomend   bit   far   tf2   ing   favourite   style\n",
      "topic 6 : like   minecraft   feel   tf2   stuff   cod   alot   skyrim   dayz   space\n",
      "topic 7 : amazing   simply   absolutely   word   reccomend   soundtrack   music   truly   storyline   overall\n",
      "topic 8 : buy   sale   regret   read   review   ing   cheap   stop   wait   price\n",
      "topic 9 : nice   music   little   style   meme   great nice   art   dota   visual   short\n",
      "topic 10 : dis   liek   gam   dank   gewd   luv   gem   wtf   bro   cri\n",
      "topic 11 : jogo   esse   com   que   melhor   mais   não   recomendo   muito   uma\n",
      "topic 12 : cool   stuff   super   man   weapon   funny   puzzle   guess   add   platformer\n",
      "topic 13 : free   roam   download   plus   tf2   online   weekend   probably   stuff   fortress\n",
      "topic 14 : friend   especially   boring   online   heap   group   laugh   funny   solo   random\n",
      "topic 15 : bad   rat   terrible   port   review   community   actually   crap   hacker   horrible\n",
      "topic 16 : recommend   highly   definitely   strongly   enjoy   100   totally   fan   addict   lover\n",
      "topic 17 : pretty   decent   hey   dank   boring   damn   yeah   sure   actually   sick\n",
      "topic 18 : yes   hell   answer   omg   cause   100   recomend   shark   word   meme\n",
      "topic 19 : time   long   waste   favourite   spend   pass   waster   crash   way   killer\n",
      "topic 20 : life   half   ruin   real   ruin life   waste   dota   change   end   steal\n",
      "topic 21 : worth   price   definitely   dollar   sale   cent   totally   buying   definately   money\n",
      "topic 22 : kill   floor   die   chicken   shoot   guy   enemy   get   naked   hit\n",
      "topic 23 : que   juego   muy   bueno   los   para   este   buen   con   pero\n",
      "topic 24 : need   work   fix   computer   server   update   teamwork   bug   player   mac\n",
      "topic 25 : awsome   e   wait   beautiful   tf2   wow   cod   hell   soooooo   german\n",
      "topic 26 : hour   spend   finish   gameplay   day   end   hour hour   complete   100   lose\n",
      "topic 27 : gud   git   gaem   gam   veri   tis   liek   meme   gaym   rly\n",
      "topic 28 : fps   best   cod   competitive   low   battlefield   valve   run   high   team\n",
      "topic 29 : zombie   survival   dayz   dead   survive   die   apocalypse   map   minecraft   leave\n",
      "topic 30 : epic   word   battle   strategy   f2p   knight   super   pls   funny   scared\n",
      "topic 31 : story   line   character   short   end   interesting   tell   combat   puzzle   beautiful\n",
      "topic 32 : hat   tf2   weapon   fortress   team   class   item   trade   collect   spend\n",
      "topic 33 : hard   easy   master   learn   start   level   bit   challenge   rage   difficulty\n",
      "topic 34 : want   refund   goat   challenge   sandbox   die   stop   leave   quick   end\n",
      "topic 35 : bom   muito   muito bom   jogo muito   recomendo   divertido   pena   vale   mto   jogar\n",
      "topic 36 : lot   potential   content   stuff   gamemode   mode   die   require   minecraft   weapon\n",
      "topic 37 : addictive   highly   extremely   simple   amazingly   difficult   learn   warn   crack   fantastic\n",
      "topic 38 : money   waste   spend   real   lose   save   refund   gaben   virtual   skin\n",
      "topic 39 : new   player   find   feel   work   start   way   run   come   update\n",
      "topic 40 : think   portal   wrong   puzzle   personally   actually   guy   review   enjoy   little\n",
      "topic 41 : mod   garry   garry mod   download   dayz   garrys   workshop   sandbox   gamemode   garrys mod\n",
      "topic 42 : people   shoot   server   dayz   recomend   kick   reccomend   community   online   hate\n",
      "topic 43 : ign   bang   rate   duty   okay   water   sick   review   mlg   uninstall\n",
      "topic 44 : look   forward   review   beautiful   trailer   different   stop   interesting   run   simple\n",
      "topic 45 : shooter   person   team   3rd   online   tactical   fortress   classic   realistic   fast\n",
      "topic 46 : lol   dota   moba   melhor   funny   hero   trash   rip   lol dota   wot\n",
      "topic 47 : simulator   2014   2015   goat   2016   walk   2013   crash   wait   truck\n",
      "topic 48 : graphic   gameplay   storyline   beautiful   smooth   overall   realistic   card   mechanic   style\n",
      "topic 49 : thing   happen   build   burn   change   blow   add   find   scare   funny\n",
      "topic 50 : year   old   year old   ago   school   year ago   wait   innovative   come   later\n",
      "topic 51 : multiplayer   online   player   single   mode   campaign   singleplayer   add   experience   server\n",
      "topic 52 : know   mean   crash   ing   nee   review   read   guy   happen   tell\n",
      "topic 53 : suck   ing   ball   community   actually   wait   seriously   nuts   best   noob\n",
      "topic 54 : steam   workshop   download   account   tf2   library   favourite   probably   sale   user\n",
      "topic 55 : pay   win   price   dollar   f2p   grind   skin   fact   100   weapon\n",
      "topic 56 : dlc   payday   overkill   cost   add   new   microtransaction   heist   content   pack\n",
      "topic 57 : alright   yeah   guess   hell   stuff   bit   heck   meh   america   sure\n",
      "topic 58 : try   crash   work   join   minute   problem   fix   die   f2p   guy\n",
      "topic 59 : gun   shoot   skyrim   skin   weapon   car   use   run   ammo   map\n"
     ]
    }
   ],
   "source": [
    "for topic_idx, top_terms in model.top_topic_terms(vectorizer.id_to_term, top_n=10):\n",
    "    print(\"topic\", topic_idx, \":\", \"   \".join(top_terms))"
   ]
  },
  {
   "cell_type": "code",
   "execution_count": null,
   "metadata": {},
   "outputs": [],
   "source": []
  },
  {
   "cell_type": "code",
   "execution_count": 124,
   "metadata": {
    "ExecuteTime": {
     "end_time": "2021-01-14T22:14:32.769155Z",
     "start_time": "2021-01-14T22:07:19.831616Z"
    },
    "scrolled": true
   },
   "outputs": [
    {
     "name": "stderr",
     "output_type": "stream",
     "text": [
      "<timed exec>:1: TqdmDeprecationWarning: This function will be removed in tqdm==5.0.0\n",
      "Please use `tqdm.notebook.tqdm` instead of `tqdm.tqdm_notebook`\n"
     ]
    },
    {
     "data": {
      "application/vnd.jupyter.widget-view+json": {
       "model_id": "11fe2e4a62b3485a8232177ca50472f6",
       "version_major": 2,
       "version_minor": 0
      },
      "text/plain": [
       "  0%|          | 0/59305 [00:00<?, ?it/s]"
      ]
     },
     "metadata": {},
     "output_type": "display_data"
    },
    {
     "name": "stderr",
     "output_type": "stream",
     "text": [
      "<timed exec>:2: TqdmDeprecationWarning: This function will be removed in tqdm==5.0.0\n",
      "Please use `tqdm.notebook.tqdm` instead of `tqdm.tqdm_notebook`\n"
     ]
    },
    {
     "data": {
      "application/vnd.jupyter.widget-view+json": {
       "model_id": "e92f734b2a4646afb55152b2026e1ebd",
       "version_major": 2,
       "version_minor": 0
      },
      "text/plain": [
       "  0%|          | 0/59305 [00:00<?, ?it/s]"
      ]
     },
     "metadata": {},
     "output_type": "display_data"
    },
    {
     "name": "stderr",
     "output_type": "stream",
     "text": [
      "<timed exec>:7: TqdmDeprecationWarning: This function will be removed in tqdm==5.0.0\n",
      "Please use `tqdm.notebook.tqdm` instead of `tqdm.tqdm_notebook`\n"
     ]
    },
    {
     "data": {
      "application/vnd.jupyter.widget-view+json": {
       "model_id": "b52b17c5e1944fa1912e615c89e6af31",
       "version_major": 2,
       "version_minor": 0
      },
      "text/plain": [
       "  0%|          | 0/59305 [00:00<?, ?it/s]"
      ]
     },
     "metadata": {},
     "output_type": "display_data"
    },
    {
     "name": "stdout",
     "output_type": "stream",
     "text": [
      "CPU times: user 7min 12s, sys: 1.7 s, total: 7min 14s\n",
      "Wall time: 7min 12s\n"
     ]
    }
   ],
   "source": [
    "%%time\n",
    "prepared_texts = [\" \".join([t.text for t in d if t.pos_ not in ['NUM']]) for d in tqdm_notebook(docs)]\n",
    "docs = [textacy.make_spacy_doc(x, nlp) for x in tqdm_notebook(zip(prepared_texts, reviews_meta), total=len(reviews_meta))]\n",
    "docs = [doc for doc in docs if doc.lang_ == 'en']\n",
    "corpus = textacy.Corpus(nlp, data=docs)\n",
    "normalized = [\n",
    "    doc._.to_terms_list(ngrams=[1], entities=True, as_strings=True, normalize='lemma')\n",
    "    for doc in tqdm_notebook(corpus)\n",
    "]"
   ]
  },
  {
   "cell_type": "code",
   "execution_count": 65,
   "metadata": {
    "ExecuteTime": {
     "end_time": "2021-01-14T19:53:09.107726Z",
     "start_time": "2021-01-14T19:53:07.583133Z"
    }
   },
   "outputs": [
    {
     "data": {
      "image/png": "[encoded data removed]",
      "text/plain": [
       "<Figure size 432x288 with 1 Axes>"
      ]
     },
     "metadata": {
      "needs_background": "light"
     },
     "output_type": "display_data"
    }
   ],
   "source": [
    "import numpy as np\n",
    "import matplotlib.pyplot as plt\n",
    "%matplotlib inline\n",
    "\n",
    "sizes = np.array([len(doc) for doc in docs])\n",
    "plt.hist(sizes, bins=1000);"
   ]
  },
  {
   "cell_type": "code",
   "execution_count": 71,
   "metadata": {
    "ExecuteTime": {
     "end_time": "2021-01-14T19:54:16.213883Z",
     "start_time": "2021-01-14T19:54:16.209120Z"
    }
   },
   "outputs": [
    {
     "data": {
      "text/plain": [
       "(6.0, 9041, 59305, 5930.5)"
      ]
     },
     "execution_count": 71,
     "metadata": {},
     "output_type": "execute_result"
    }
   ],
   "source": [
    "np.median(sizes), len(sizes[sizes < 2]), len(sizes), len(sizes) * 0.1"
   ]
  },
  {
   "cell_type": "code",
   "execution_count": 125,
   "metadata": {
    "ExecuteTime": {
     "end_time": "2021-01-14T22:14:33.295974Z",
     "start_time": "2021-01-14T22:14:32.770610Z"
    },
    "scrolled": true
   },
   "outputs": [
    {
     "name": "stderr",
     "output_type": "stream",
     "text": [
      "<timed exec>:5: TqdmDeprecationWarning: This function will be removed in tqdm==5.0.0\n",
      "Please use `tqdm.notebook.tqdm` instead of `tqdm.tqdm_notebook`\n"
     ]
    },
    {
     "data": {
      "application/vnd.jupyter.widget-view+json": {
       "model_id": "e5acfcb4d55b411982a471fb3610478e",
       "version_major": 2,
       "version_minor": 0
      },
      "text/plain": [
       "  0%|          | 0/50264 [00:00<?, ?it/s]"
      ]
     },
     "metadata": {},
     "output_type": "display_data"
    },
    {
     "name": "stdout",
     "output_type": "stream",
     "text": [
      "CPU times: user 483 ms, sys: 39.7 ms, total: 522 ms\n",
      "Wall time: 522 ms\n"
     ]
    }
   ],
   "source": [
    "%%time\n",
    "docs = [doc for doc in docs if len(doc) >= 2]\n",
    "corpus = textacy.Corpus(nlp, data=docs)\n",
    "normalized = [\n",
    "    doc._.to_terms_list(ngrams=[1], entities=True, as_strings=True, normalize='lemma')\n",
    "    for doc in tqdm_notebook(corpus)\n",
    "]"
   ]
  },
  {
   "cell_type": "code",
   "execution_count": 73,
   "metadata": {
    "ExecuteTime": {
     "end_time": "2021-01-14T19:57:10.205715Z",
     "start_time": "2021-01-14T19:56:19.150613Z"
    },
    "scrolled": true
   },
   "outputs": [
    {
     "name": "stdout",
     "output_type": "stream",
     "text": [
      "topic 0 : great   community   storyline   reccomend   strategy   recomend   overall   survival   classic   job\n",
      "topic 1 : good   far   world   rpg   f2p   damn   yeah   probably   stuff   survival\n",
      "topic 2 : fun   addict   alot   super   load   heap   enjoyable   simple   little   online\n",
      "topic 3 : play   stop   day   minute   long   start   online   far   dota   probably\n",
      "topic 4 : player   find   try   way   start   run   level   weapon   character   come\n",
      "topic 5 : awesome   word   e   try   epic   super   storyline   bloody   holy   gore\n",
      "topic 6 : love   absolutely   awsome   hate   bit   recomend   far   tf2   favourite   style\n",
      "topic 7 : buy   sale   regret   read   review   cheap   wait   stop   epic   price\n",
      "topic 8 : amazing   simply   absolutely   word   reccomend   soundtrack   music   truly   storyline   overall\n",
      "topic 9 : jogo   esse   com   que   melhor   mais   não   uma   pra   recomendo\n",
      "topic 10 : like   alot   stuff   tf2   cod   skyrim   space   kinda   duty   war\n",
      "topic 11 : friend   especially   boring   group   laugh   online   solo   heap   funny   play\n",
      "topic 12 : free   roam   download   plus   online   tf2   try   weekend   epic   probably\n",
      "topic 13 : pretty   yeah   decent   hey   dank   boring   damn   sure   actually   gud\n",
      "topic 14 : recommend   highly   definitely   strongly   totally   fan   lover   gamer   addict   absolutely\n",
      "topic 15 : time   long   waste   favourite   spend   pass   waster   killer   download   favorite\n",
      "topic 16 : life   half   ruin   real   ruin life   waste   dota   change   end   steal\n",
      "topic 17 : worth   price   definitely   dollar   sale   cent   totally   buying   money   definately\n",
      "topic 18 : zombie   survival   dead   survive   dayz   apocalypse   die   map   leave   mode\n",
      "topic 19 : que   juego   muy   bueno   los   este   para   buen   con   pero\n",
      "topic 20 : hour   spend   finish   gameplay   hour hour   day   complete   lose   alright   bore\n",
      "topic 21 : need   fix   computer   player   teamwork   change   alot   big   online   review\n",
      "topic 22 : bad   rat   terrible   port   review   community   hacker   actually   crap   developer\n",
      "topic 23 : nice   music   little   style   meme   dota   great nice   art   visual   kinda\n",
      "topic 24 : fps   best   cod   competitive   low   run   high   battlefield   valve   online\n",
      "topic 25 : kill   floor   chicken   die   guy   shoot   enemy   get   naked   hit\n",
      "topic 26 : simulator   goat   walk   wait   truck   russian   chicken   farming   military   train\n",
      "topic 27 : story   line   character   short   interesting   end   tell   gameplay   combat   puzzle\n",
      "topic 28 : cool   stuff   super   man   weapon   funny   guess   puzzle   add   platformer\n",
      "topic 29 : want   refund   goat   sandbox   challenge   stop   quick   leave   self   seriously\n",
      "topic 30 : lot   potential   content   stuff   gamemode   mode   require   die   lag   weapon\n",
      "topic 31 : mod   garry   garry mod   download   garrys   workshop   gamemode   sandbox   dayz   garrys mod\n",
      "topic 32 : hard   easy   master   learn   start   bit   level   challenge   rage   difficulty\n",
      "topic 33 : muito   bom   muito bom   jogo muito   recomendo   divertido   pena   vale   mto   jogar\n",
      "topic 34 : think   portal   wrong   puzzle   personally   actually   guy   review   try   add\n",
      "topic 35 : multiplayer   online   single   player   mode   campaign   singleplayer   add   experience   hope\n",
      "topic 36 : money   waste   spend   real   lose   save   gaben   refund   skin   virtual\n",
      "topic 37 : people   shoot   recomend   kick   reccomend   online   community   hate   dayz   meet\n",
      "topic 38 : shooter   person   team   3rd   tactical   online   fortress   classic   realistic   fast\n",
      "topic 39 : graphic   gameplay   storyline   beautiful   smooth   realistic   card   overall   mechanic   low\n",
      "topic 40 : look   forward   review   epic   beautiful   trailer   stop   interesting   different   future\n",
      "topic 41 : addictive   highly   extremely   difficult   simple   amazingly   warn   crack   learn   fantastic\n",
      "topic 42 : hat   tf2   fortress   team   weapon   class   item   trade   collect   dollar\n",
      "topic 43 : steam   workshop   download   account   library   tf2   favourite   probably   sale   user\n",
      "topic 44 : thing   happen   build   change   burn   add   blow   scare   fix   funny\n",
      "topic 45 : work   team   stop   art   mac   screen   try   help   tell   uninstall\n",
      "topic 46 : pay   win   dollar   price   f2p   grind   skin   fact   teamwork   stuff\n",
      "topic 47 : update   new   wait   add   come   release   content   version   future   dev\n",
      "topic 48 : feel   sorry   right   trip   actually   arcade   end   man   real   sad\n",
      "topic 49 : year   old   year old   ago   school   year ago   kid   classic   day   innovative\n",
      "topic 50 : know   yeah   mean   nee   review   happen   guy   read   tell   start\n",
      "topic 51 : enjoy   alot   thoroughly   hope   bit   far   sure   actually   recomend   tf2\n",
      "topic 52 : crash   fix   bug   problem   start   computer   issue   load   lag   screen\n",
      "topic 53 : ign   bang   rate   duty   okay   water   sick   mlg   review   uninstall\n",
      "topic 54 : minecraft   dayz   terraria   survival   rust   mix   meet   baby   boss   roblox\n",
      "topic 55 : yes   hell   answer   omg   cause   awsome   shark   definatly   meme   word\n",
      "topic 56 : dlc   payday   overkill   cost   add   microtransaction   heist   content   pack   edition\n",
      "topic 57 : server   join   australian   lag   ping   player   community   connect   australia   hacker\n",
      "topic 58 : gun   shoot   skyrim   skin   weapon   head   car   run   face   ammo\n",
      "topic 59 : ing   suck   e   hate   mother   horrible   fix   read   stupid   get\n"
     ]
    }
   ],
   "source": [
    "import textacy.tm\n",
    "import textacy.vsm\n",
    "vectorizer = textacy.vsm.Vectorizer(\n",
    "    tf_type=\"linear\", \n",
    "    apply_idf=True, \n",
    "    idf_type=\"smooth\", \n",
    "    norm=\"l2\",\n",
    "    min_df=5, \n",
    "    max_df=0.95\n",
    ")\n",
    "\n",
    "doc_term_matrix = vectorizer.fit_transform(normalized)\n",
    "model = textacy.tm.TopicModel(\"nmf\", n_topics=60)\n",
    "model.fit(doc_term_matrix)\n",
    "\n",
    "doc_topic_matrix = model.transform(doc_term_matrix)\n",
    "\n",
    "for topic_idx, top_terms in model.top_topic_terms(vectorizer.id_to_term, top_n=10):\n",
    "    print(\"topic\", topic_idx, \":\", \"   \".join(top_terms))"
   ]
  },
  {
   "cell_type": "code",
   "execution_count": 75,
   "metadata": {
    "ExecuteTime": {
     "end_time": "2021-01-14T20:02:46.407719Z",
     "start_time": "2021-01-14T20:02:46.405810Z"
    }
   },
   "outputs": [],
   "source": [
    "# \"yes\" in STOP_WORDS"
   ]
  },
  {
   "cell_type": "code",
   "execution_count": 126,
   "metadata": {
    "ExecuteTime": {
     "end_time": "2021-01-14T22:21:25.660305Z",
     "start_time": "2021-01-14T22:14:33.297116Z"
    },
    "scrolled": true
   },
   "outputs": [
    {
     "name": "stderr",
     "output_type": "stream",
     "text": [
      "<timed exec>:1: TqdmDeprecationWarning: This function will be removed in tqdm==5.0.0\n",
      "Please use `tqdm.notebook.tqdm` instead of `tqdm.tqdm_notebook`\n"
     ]
    },
    {
     "data": {
      "application/vnd.jupyter.widget-view+json": {
       "model_id": "ab72d4c459e84e7bb521237d14c86953",
       "version_major": 2,
       "version_minor": 0
      },
      "text/plain": [
       "  0%|          | 0/50264 [00:00<?, ?it/s]"
      ]
     },
     "metadata": {},
     "output_type": "display_data"
    },
    {
     "name": "stderr",
     "output_type": "stream",
     "text": [
      "<timed exec>:2: TqdmDeprecationWarning: This function will be removed in tqdm==5.0.0\n",
      "Please use `tqdm.notebook.tqdm` instead of `tqdm.tqdm_notebook`\n"
     ]
    },
    {
     "data": {
      "application/vnd.jupyter.widget-view+json": {
       "model_id": "382b29bf84e64764b5d69e126a38607b",
       "version_major": 2,
       "version_minor": 0
      },
      "text/plain": [
       "  0%|          | 0/50264 [00:00<?, ?it/s]"
      ]
     },
     "metadata": {},
     "output_type": "display_data"
    },
    {
     "name": "stderr",
     "output_type": "stream",
     "text": [
      "<timed exec>:7: TqdmDeprecationWarning: This function will be removed in tqdm==5.0.0\n",
      "Please use `tqdm.notebook.tqdm` instead of `tqdm.tqdm_notebook`\n"
     ]
    },
    {
     "data": {
      "application/vnd.jupyter.widget-view+json": {
       "model_id": "438dbd70990e4c76a120eb7111de7505",
       "version_major": 2,
       "version_minor": 0
      },
      "text/plain": [
       "  0%|          | 0/50251 [00:00<?, ?it/s]"
      ]
     },
     "metadata": {},
     "output_type": "display_data"
    },
    {
     "name": "stdout",
     "output_type": "stream",
     "text": [
      "CPU times: user 6min 52s, sys: 1.67 s, total: 6min 53s\n",
      "Wall time: 6min 52s\n"
     ]
    }
   ],
   "source": [
    "%%time\n",
    "prepared_texts = [\" \".join([t.lemma_ for t in d if len(t.lemma_) > 2]) for d in tqdm_notebook(docs)]\n",
    "docs = [textacy.make_spacy_doc(x, nlp) for x in tqdm_notebook(prepared_texts)]\n",
    "docs = [doc for doc in docs if len(doc) >= 2]\n",
    "corpus = textacy.Corpus(nlp, data=docs)\n",
    "normalized = [\n",
    "    doc._.to_terms_list(ngrams=[1], entities=True, as_strings=True, normalize='lemma')\n",
    "    for doc in tqdm_notebook(corpus)\n",
    "]"
   ]
  },
  {
   "cell_type": "code",
   "execution_count": 92,
   "metadata": {
    "ExecuteTime": {
     "end_time": "2021-01-14T20:42:28.381765Z",
     "start_time": "2021-01-14T20:41:35.223332Z"
    }
   },
   "outputs": [
    {
     "name": "stderr",
     "output_type": "stream",
     "text": [
      "<ipython-input-92-b1addda514a7>:13: TqdmDeprecationWarning: This function will be removed in tqdm==5.0.0\n",
      "Please use `tqdm.notebook.tqdm` instead of `tqdm.tqdm_notebook`\n",
      "  for doc in tqdm_notebook(corpus)\n"
     ]
    },
    {
     "data": {
      "application/vnd.jupyter.widget-view+json": {
       "model_id": "9075c12354f647958ecdc0b082ea2569",
       "version_major": 2,
       "version_minor": 0
      },
      "text/plain": [
       "  0%|          | 0/50251 [00:00<?, ?it/s]"
      ]
     },
     "metadata": {},
     "output_type": "display_data"
    },
    {
     "name": "stdout",
     "output_type": "stream",
     "text": [
      "topic 0 : great   community   storyline   reccomend   strategy   recomend   overall   survival   classic   job\n",
      "topic 1 : good   far   world   rpg   f2p   damn   probably   stuff   survival   possibly\n",
      "topic 2 : fun   addict   alot   super   load   heap   enjoyable   simple   online   challenging\n",
      "topic 3 : play   stop   day   know   minute   start   long   online   far   dota\n",
      "topic 4 : player   find   feel   way   start   know   run   level   character   weapon\n",
      "topic 5 : awesome   word   epic   super   storyline   bloody   holy   gore   freakin   totally\n",
      "topic 6 : love   absolutely   awsome   hate   recomend   far   tf2   favourite   style   fall\n",
      "topic 7 : buy   sale   regret   read   review   ing   cheap   wait   stop   epic\n",
      "topic 8 : amazing   simply   absolutely   word   reccomend   soundtrack   music   truly   storyline   overall\n",
      "topic 9 : jogo   esse   com   que   melhor   mais   não   uma   pra   recomendo\n",
      "topic 10 : like   feel   alot   stuff   cod   tf2   skyrim   space   kinda   duty\n",
      "topic 11 : friend   especially   boring   group   laugh   online   solo   heap   funny   play\n",
      "topic 12 : free   roam   download   plus   online   tf2   weekend   epic   probably   fortress\n",
      "topic 13 : pretty   decent   hey   dank   boring   damn   sure   gud   actually   suck\n",
      "topic 14 : recommend   highly   definitely   strongly   totally   fan   lover   addict   gamer   absolutely\n",
      "topic 15 : time   long   waste   favourite   spend   pass   waster   killer   download   favorite\n",
      "topic 16 : life   half   ruin   ruin life   real   waste   dota   change   end   steal\n",
      "topic 17 : worth   price   definitely   dollar   sale   cent   totally   buying   money   definately\n",
      "topic 18 : zombie   survival   dead   survive   dayz   apocalypse   die   map   leave   mode\n",
      "topic 19 : que   juego   muy   bueno   los   este   para   buen   con   pero\n",
      "topic 20 : hour   spend   finish   gameplay   hour hour   day   lose   complete   end   alright\n",
      "topic 21 : bad   rat   terrible   port   review   community   hacker   actually   crap   suck\n",
      "topic 22 : need   fix   computer   player   teamwork   know   change   alot   big   online\n",
      "topic 23 : nice   music   style   meme   dota   great nice   art   visual   kinda   stuff\n",
      "topic 24 : fps   best   cod   competitive   low   run   battlefield   high   valve   online\n",
      "topic 25 : kill   floor   chicken   die   guy   enemy   shoot   naked   hit   spawn\n",
      "topic 26 : simulator   goat   walk   wait   truck   russian   chicken   farming   military   space\n",
      "topic 27 : update   new   wait   add   come   release   content   version   future   dev\n",
      "topic 28 : cool   stuff   super   man   weapon   funny   guess   puzzle   add   platformer\n",
      "topic 29 : want   refund   goat   sandbox   know   challenge   stop   quick   self   leave\n",
      "topic 30 : lot   potential   content   stuff   gamemode   mode   die   require   lag   weapon\n",
      "topic 31 : mod   garry   garry mod   download   garrys   workshop   gamemode   sandbox   dayz   garrys mod\n",
      "topic 32 : hard   easy   master   learn   start   level   challenge   rage   difficulty   control\n",
      "topic 33 : muito   bom   muito bom   jogo muito   recomendo   divertido   pena   vale   mto   jogar\n",
      "topic 34 : think   portal   wrong   puzzle   personally   guy   actually   review   add   box\n",
      "topic 35 : server   join   australian   lag   ping   player   community   connect   australia   hacker\n",
      "topic 36 : money   waste   spend   real   lose   gaben   save   refund   virtual   skin\n",
      "topic 37 : people   shoot   recomend   kick   reccomend   online   community   hate   dayz   meet\n",
      "topic 38 : work   team   stop   art   mac   screen   help   tell   uninstall   window\n",
      "topic 39 : graphic   gameplay   storyline   beautiful   smooth   card   realistic   mechanic   overall   low\n",
      "topic 40 : look   forward   review   epic   beautiful   trailer   stop   different   interesting   run\n",
      "topic 41 : addictive   highly   extremely   difficult   simple   amazingly   warn   crack   learn   fantastic\n",
      "topic 42 : hat   tf2   fortress   team   weapon   class   item   trade   collect   dollar\n",
      "topic 43 : steam   workshop   download   account   library   tf2   favourite   probably   sale   user\n",
      "topic 44 : thing   happen   build   change   burn   add   blow   scare   funny   fix\n",
      "topic 45 : shooter   person   team   3rd   tactical   online   fortress   classic   realistic   fast\n",
      "topic 46 : pay   win   dollar   price   f2p   grind   skin   fact   teamwork   stuff\n",
      "topic 47 : try   join   minute   problem   f2p   guy   die   self   reason   matter\n",
      "topic 48 : year   old   year old   ago   school   year ago   kid   classic   innovative   day\n",
      "topic 49 : story   line   character   short   interesting   end   tell   gameplay   combat   puzzle\n",
      "topic 50 : minecraft   dayz   terraria   survival   rust   mix   meet   baby   boss   roblox\n",
      "topic 51 : gun   shoot   skyrim   skin   weapon   head   run   car   face   ammo\n",
      "topic 52 : enjoy   alot   thoroughly   hope   far   sure   actually   recomend   tf2   second\n",
      "topic 53 : ign   bang   rate   duty   okay   water   sick   mlg   review   uninstall\n",
      "topic 54 : multiplayer   online   single   player   mode   campaign   singleplayer   add   experience   hope\n",
      "topic 55 : dlc   payday   overkill   cost   add   microtransaction   heist   content   pack   edition\n",
      "topic 56 : crash   fix   ing   bug   problem   start   issue   load   computer   lag\n",
      "topic 57 : yes   hell   answer   omg   cause   shark   awsome   definatly   word   recomend\n",
      "topic 58 : yeah   alright   hell   guess   stuff   heck   know   america   sure   badge\n",
      "topic 59 : bit   little   short   buggy   boring   laggy   alright   repetitive   control   overall\n"
     ]
    }
   ],
   "source": [
    "import textacy.tm\n",
    "import textacy.vsm\n",
    "vectorizer = textacy.vsm.Vectorizer(\n",
    "    tf_type=\"linear\", \n",
    "    apply_idf=True, \n",
    "    idf_type=\"smooth\", \n",
    "    norm=\"l2\",\n",
    "    min_df=5, \n",
    "    max_df=0.95\n",
    ")\n",
    "normalized = [\n",
    "    doc._.to_terms_list(ngrams=[1], entities=True, as_strings=True, normalize='lemma')\n",
    "    for doc in tqdm_notebook(corpus)\n",
    "]\n",
    "\n",
    "doc_term_matrix = vectorizer.fit_transform(normalized)\n",
    "model = textacy.tm.TopicModel(\"nmf\", n_topics=60)\n",
    "model.fit(doc_term_matrix)\n",
    "\n",
    "doc_topic_matrix = model.transform(doc_term_matrix)\n",
    "\n",
    "for topic_idx, top_terms in model.top_topic_terms(vectorizer.id_to_term, top_n=10):\n",
    "    print(\"topic\", topic_idx, \":\", \"   \".join(top_terms))"
   ]
  },
  {
   "cell_type": "code",
   "execution_count": 127,
   "metadata": {
    "ExecuteTime": {
     "end_time": "2021-01-14T22:21:25.664929Z",
     "start_time": "2021-01-14T22:21:25.661553Z"
    },
    "scrolled": true
   },
   "outputs": [
    {
     "name": "stdout",
     "output_type": "stream",
     "text": [
      "CPU times: user 4 µs, sys: 1 µs, total: 5 µs\n",
      "Wall time: 8.58 µs\n"
     ]
    }
   ],
   "source": [
    "%%time\n",
    "portugese = {\n",
    "    'jogo',\n",
    "    'esse',\n",
    "    'que',\n",
    "    'melhor',\n",
    "    'mais',\n",
    "    'não',\n",
    "    'uma',\n",
    "    'recomendo'\n",
    "}\n",
    "\n",
    "# prepared_texts = [\" \".join([t.lemma_ for t in d if t.lemma_ not in portugese]) for d in tqdm_notebook(docs)]\n",
    "# docs = [textacy.make_spacy_doc(x, nlp) for x in tqdm_notebook(prepared_texts)]\n",
    "# docs = [doc for doc in docs if len(doc) >= 2]\n",
    "# corpus = textacy.Corpus(nlp, data=docs)\n",
    "# normalized = [\n",
    "#     doc._.to_terms_list(ngrams=[1], entities=True, as_strings=True, normalize='lemma')\n",
    "#     for doc in tqdm_notebook(corpus)\n",
    "# ]"
   ]
  },
  {
   "cell_type": "code",
   "execution_count": 96,
   "metadata": {
    "ExecuteTime": {
     "end_time": "2021-01-14T21:00:53.228495Z",
     "start_time": "2021-01-14T21:00:44.497987Z"
    },
    "scrolled": true
   },
   "outputs": [
    {
     "name": "stderr",
     "output_type": "stream",
     "text": [
      "<ipython-input-96-ceb5b9ac7c5a>:13: TqdmDeprecationWarning: This function will be removed in tqdm==5.0.0\n",
      "Please use `tqdm.notebook.tqdm` instead of `tqdm.tqdm_notebook`\n",
      "  for doc in tqdm_notebook(corpus)\n"
     ]
    },
    {
     "data": {
      "application/vnd.jupyter.widget-view+json": {
       "model_id": "34a589355aa4453298f4cb1ae4bc6e0c",
       "version_major": 2,
       "version_minor": 0
      },
      "text/plain": [
       "  0%|          | 0/50124 [00:00<?, ?it/s]"
      ]
     },
     "metadata": {},
     "output_type": "display_data"
    },
    {
     "name": "stdout",
     "output_type": "stream",
     "text": [
      "topic 0 : great   friend   graphic   story   gameplay   recommend   multiplayer   community   fps   storyline\n",
      "topic 1 : good   pretty   free   fps   graphic   shooter   zombie   simulator   far   world\n",
      "topic 2 : fun   friend   lot   addictive   hard   addict   recommend   pretty   alot   super\n",
      "topic 3 : play   friend   free   hour   stop   steam   enjoy   day   know   people\n",
      "topic 4 : time   recommend   want   people   hour   thing   think   bad   need   kill\n",
      "topic 5 : awesome   recommend   graphic   fps   word   gameplay   free   worth   try   epic\n",
      "topic 6 : love   absolutely   mod   life   awsome   bit   hate   far   recomend   wait\n",
      "topic 7 : buy   worth   money   sale   dlc   regret   read   want   review   steam\n",
      "topic 8 : amazing   graphic   story   gameplay   simply   recommend   absolutely   word   worth   highly\n",
      "topic 9 : like   minecraft   feel   people   look   gun   thing   zombie   dayz   tf2\n"
     ]
    }
   ],
   "source": [
    "import textacy.tm\n",
    "import textacy.vsm\n",
    "vectorizer = textacy.vsm.Vectorizer(\n",
    "    tf_type=\"linear\", \n",
    "    apply_idf=True, \n",
    "    idf_type=\"smooth\", \n",
    "    norm=\"l2\",\n",
    "    min_df=5, \n",
    "    max_df=0.95\n",
    ")\n",
    "normalized = [\n",
    "    doc._.to_terms_list(ngrams=[1], entities=True, as_strings=True, normalize='lemma')\n",
    "    for doc in tqdm_notebook(corpus)\n",
    "]\n",
    "\n",
    "doc_term_matrix = vectorizer.fit_transform(normalized)\n",
    "model = textacy.tm.TopicModel(\"nmf\", n_topics=10)\n",
    "model.fit(doc_term_matrix)\n",
    "\n",
    "doc_topic_matrix = model.transform(doc_term_matrix)\n",
    "\n",
    "for topic_idx, top_terms in model.top_topic_terms(vectorizer.id_to_term, top_n=10):\n",
    "    print(\"topic\", topic_idx, \":\", \"   \".join(top_terms))"
   ]
  },
  {
   "cell_type": "code",
   "execution_count": 97,
   "metadata": {
    "ExecuteTime": {
     "end_time": "2021-01-14T21:01:51.129796Z",
     "start_time": "2021-01-14T21:01:23.528252Z"
    }
   },
   "outputs": [
    {
     "name": "stderr",
     "output_type": "stream",
     "text": [
      "<ipython-input-97-939ba9149485>:13: TqdmDeprecationWarning: This function will be removed in tqdm==5.0.0\n",
      "Please use `tqdm.notebook.tqdm` instead of `tqdm.tqdm_notebook`\n",
      "  for doc in tqdm_notebook(corpus)\n"
     ]
    },
    {
     "data": {
      "application/vnd.jupyter.widget-view+json": {
       "model_id": "21edb79950b14197a5556622c1951a23",
       "version_major": 2,
       "version_minor": 0
      },
      "text/plain": [
       "  0%|          | 0/50124 [00:00<?, ?it/s]"
      ]
     },
     "metadata": {},
     "output_type": "display_data"
    },
    {
     "name": "stdout",
     "output_type": "stream",
     "text": [
      "topic 0 : time   amazing   want   recommend   people   thing   story   hour   think   find\n",
      "topic 1 : good   good play   pretty good   pretty   good good   good fun   good free   good fps   fps   good like\n",
      "topic 2 : fun   fun play   friend   good fun   great fun   fun friend   lot fun   lot   fun play friend   play friend\n",
      "topic 3 : play   good play   friend   fun play   play friend   free play   free   great play   hour   play play\n",
      "topic 4 : muito   bom   muito bom   com   para   mas   jogar   divertido   tem   bem\n",
      "topic 5 : great   great fun   great play   great love   great great   friend   great story   great recommend   story   graphic\n",
      "topic 6 : awesome   awesome fun   awesome play   awesome awesome   awesome love   awesome good   great awesome   awesome like   awesome recommend   awesome fps\n",
      "topic 7 : love   great love   love play   awesome love   good love   play love   love love   love fun   amazing love   love good\n",
      "topic 8 : buy   good buy   buy buy   worth   money   worth buy   sale   great buy   buy play   buy sale\n",
      "topic 9 : like   good like   feel like   feel   minecraft   like minecraft   look like   like play   play like   people like\n"
     ]
    }
   ],
   "source": [
    "import textacy.tm\n",
    "import textacy.vsm\n",
    "vectorizer = textacy.vsm.Vectorizer(\n",
    "    tf_type=\"linear\", \n",
    "    apply_idf=True, \n",
    "    idf_type=\"smooth\", \n",
    "    norm=\"l2\",\n",
    "    min_df=5, \n",
    "    max_df=0.95\n",
    ")\n",
    "normalized = [\n",
    "    doc._.to_terms_list(ngrams=[1, 2, 3], entities=True, as_strings=True, normalize='lemma')\n",
    "    for doc in tqdm_notebook(corpus)\n",
    "]\n",
    "\n",
    "doc_term_matrix = vectorizer.fit_transform(normalized)\n",
    "model = textacy.tm.TopicModel(\"nmf\", n_topics=10)\n",
    "model.fit(doc_term_matrix)\n",
    "\n",
    "doc_topic_matrix = model.transform(doc_term_matrix)\n",
    "\n",
    "for topic_idx, top_terms in model.top_topic_terms(vectorizer.id_to_term, top_n=10):\n",
    "    print(\"topic\", topic_idx, \":\", \"   \".join(top_terms))"
   ]
  },
  {
   "cell_type": "code",
   "execution_count": 101,
   "metadata": {
    "ExecuteTime": {
     "end_time": "2021-01-14T21:15:34.774898Z",
     "start_time": "2021-01-14T21:11:26.704840Z"
    },
    "scrolled": true
   },
   "outputs": [
    {
     "name": "stderr",
     "output_type": "stream",
     "text": [
      "<ipython-input-101-4e67a49fe525>:13: TqdmDeprecationWarning: This function will be removed in tqdm==5.0.0\n",
      "Please use `tqdm.notebook.tqdm` instead of `tqdm.tqdm_notebook`\n",
      "  for doc in tqdm_notebook(corpus)\n"
     ]
    },
    {
     "data": {
      "application/vnd.jupyter.widget-view+json": {
       "model_id": "a00f4be5ffe64128b2a07bf0a423aa76",
       "version_major": 2,
       "version_minor": 0
      },
      "text/plain": [
       "  0%|          | 0/50124 [00:00<?, ?it/s]"
      ]
     },
     "metadata": {},
     "output_type": "display_data"
    },
    {
     "name": "stdout",
     "output_type": "stream",
     "text": [
      "topic 0 : gud   duty   -ign   date   boot   bet   trade   git   degree   skeleton\n",
      "topic 1 : map   grind   cup   1st   clicker   ㅤㅤㅤㅤㅤㅤ   cookie   mixture   milk   cook\n",
      "topic 2 : fps   think   dlc   valve   good   sea   winter   great   play   shrek\n",
      "topic 3 : regret   endless   adventure   pack   crazy   freakin   ons   puzzler   ashamed   accent\n",
      "topic 4 : dota   movie   yea   cure   tom   autism   queen   cloaker   chip   acheivement\n",
      "topic 5 : dog   เล่น   crashea   hatch   mucho   frill   arcade   fighting   simulator   style\n",
      "topic 6 : russian   learn   очень   quickscope   игру   все   friendzone   мне   много   она\n",
      "topic 7 : wait   old   early   access   hey   dinosaur   bro   smash   couple hour   good\n",
      "topic 8 : com   pra   muito   jogar   divertido   mas   tem   -pron-   pay   bom\n",
      "topic 9 : classic   bug   soo   total   destruction   barrel   endlessly   racist   successor   slime\n",
      "topic 10 : angry   cell   backflip   lick   headache   der   comment   mulitplayer   mobile   android\n",
      "topic 11 : star   war   bomb   america   wars   crush   lan   storm   app   pie\n",
      "topic 12 : rlly   risas   saca   jade   frente   game?it   spaß   sie   spiel   und\n",
      "topic 13 : compra   npcs   shameful   logo   sabe   analise   sei   anda   espetacular   mui\n",
      "topic 14 : free   like   good   play   minecraft   fun   suck   highly   recommend   dayz\n",
      "topic 15 : gamer   indie   lover   involve   freind   check   campain   amd   frustration   nvidia\n",
      "topic 16 : awesome   word   super   sick   omg   day   damn   heap   slash   good\n",
      "topic 17 : mlg   cos   license   ita   hog   swallow   contagion   notably   horny   itz\n",
      "topic 18 : man   scary   horrible   absolute   heart   explosion   gut   freddy   door   michael\n",
      "topic 19 : garry   addon   garry mod   mod   haha   sorry   hair   legit   silly   l4d\n",
      "topic 20 : world   action   open   mother   good   jump   sniper   annoying   invisible   particular\n",
      "topic 21 : life   need   multiplayer   half   internet   good   thx   train   rockstar   play\n",
      "topic 22 : bad   shoot   die   god   rage   diablo   tis   live   kick   face\n",
      "topic 23 : muito   bom   muito bom   para   favourite   tho   bem   legal   jogos   todos\n",
      "topic 24 : cod   arma   absolutely   blow   tank   isaac   fall   let   drive   ww2\n",
      "topic 25 : people   server   look   pls   little   bore   okay   fantastic   launch   history\n",
      "topic 26 : kid   yell   uninstalle   blah   sync   officer   birthday   achivement   notification   george\n",
      "topic 27 : juego   muy   para   por   bueno   este   los   buen   con   csgo\n",
      "topic 28 : win   mean   code   send   roguelike   hav   fap   hurry   good   mun\n",
      "topic 29 : cool   crash   mac   wtf   plz   tower   drill   hardcore   defense   swag\n",
      "topic 30 : strategy   bored   simple   beat   definitely   new   row   saint   watch   series\n",
      "topic 31 : simulator   epic   fallout   hate   relax   truck   party   original   universe   miss\n",
      "topic 32 : love   ign   addictive   know   play   great   fun   bit   good   competitive\n",
      "topic 33 : hat   tf2   yeah   stop   eat   play   heck   good   dota2   key\n",
      "topic 34 : good   recommend   terraria   bang   ban   bloody   gay   cause   starbound   gaem\n",
      "topic 35 : ing   holy   chicken   rock   mad   naked   read   wake   pure   everybody\n",
      "topic 36 : awsome   german   stratagy   scammer   doesent   past year   planetary   realtime   annihilate   shirt\n",
      "topic 37 : gun   skyrim   gr8   pew   recomende   teh   like   rebirth   ther   camp\n",
      "topic 38 : come   rip   fix   freak   sweet   poop   mom   amze   wonderful   demon\n",
      "topic 39 : play   good   great   like   fun   time   buy   love   recommend   amazing\n",
      "topic 40 : pretty   good   hard   fun   lot   yes   steam   play   recomend   year\n",
      "topic 41 : kill   floor   social   piece   survive   modern   strong   bash   สนุกมาก   slaughter\n",
      "topic 42 : nice   lol   portal   fast   puzzle   load   girl   pace   baby   click\n",
      "topic 43 : download   hell   mate   realy   funniest   nee   respawn   grate   good   kind\n",
      "topic 44 : lady   rly   badguy   nad   appease   ㅤㅤㅤ   tienen   ahi   pau   css\n",
      "topic 45 : ruin   team   nao   sale   error   joguei   shark   hang   absolutly   loco\n",
      "topic 46 : mod   try   alright   игра   beautiful   lego   badass   что   good   dlcs\n",
      "topic 47 : platformer   overkill   3rd   basically   verry   brother   pour   jugarlo   encanta   glory\n",
      "topic 48 : omfg   просто   oce   можно   ina   putang   riki   noch   чтобы   делать\n",
      "topic 49 : gore   source   alien   deadly   chivalry   ancient   ครับ   ftw   ultimate   fiction\n",
      "topic 50 : amazing   worth   time   hour   good   story   spend   great   play   boring\n",
      "topic 51 : ヽーく   ゝ._,ノ   ー-'_人`ーﾉ   ム｀ヽ   transistor   defenetly   played:／ﾌﾌ   |、＼   lﾉafter   played:＼＼\n",
      "topic 52 : robot   mech   luv   cartoony   scott   lame   sexual   hawken   humanity   daylight\n",
      "topic 53 : buy   money   waste   work   noob   crap   good   cancer   actually   sex\n",
      "topic 54 : halo   spiel   ist   ich   und   exam   sorta   des   majestic   murica\n",
      "topic 55 : dis   enjoyable   league   way   legend   episode   beta   challenging   civ   liek\n",
      "topic 56 : shooter   person   good   praise   sun   f**ke   wear   cartoonish   nep   jew\n",
      "topic 57 : ram   funn   drunk   boom   captain   flat   enthusiast   nose   beach   intensive\n",
      "topic 58 : allahu   akbar   rampage   shank   hoe   dodo   hobo   med   toll   fortify\n",
      "topic 59 : fun   play   friend   great   good   zombie   sim   rate   rpg   dead\n"
     ]
    }
   ],
   "source": [
    "import textacy.tm\n",
    "import textacy.vsm\n",
    "vectorizer = textacy.vsm.Vectorizer(\n",
    "    tf_type=\"linear\", \n",
    "    apply_idf=True, \n",
    "    idf_type=\"smooth\", \n",
    "    norm=\"l2\",\n",
    "    min_df=5, \n",
    "    max_df=0.95\n",
    ")\n",
    "normalized = [\n",
    "    doc._.to_terms_list(ngrams=[1], entities=True, as_strings=True, normalize='lemma')\n",
    "    for doc in tqdm_notebook(corpus)\n",
    "]\n",
    "\n",
    "doc_term_matrix = vectorizer.fit_transform(normalized)\n",
    "model = textacy.tm.TopicModel(\"lda\", n_topics=60)\n",
    "model.fit(doc_term_matrix)\n",
    "\n",
    "doc_topic_matrix = model.transform(doc_term_matrix)\n",
    "\n",
    "for topic_idx, top_terms in model.top_topic_terms(vectorizer.id_to_term, top_n=10):\n",
    "    print(\"topic\", topic_idx, \":\", \"   \".join(top_terms))"
   ]
  },
  {
   "cell_type": "code",
   "execution_count": 155,
   "metadata": {
    "ExecuteTime": {
     "end_time": "2021-01-15T06:50:53.695826Z",
     "start_time": "2021-01-15T06:50:53.693016Z"
    }
   },
   "outputs": [],
   "source": [
    "non_english = set('เล่นครับпростопростоможноигравсеигруоченьмногоонамнеสนุกมาก그리고게임을하지만게임은하지만' + \"ヽーくゝ._,ノー-'_人`ーﾉム｀ヽ／ﾌﾌ|、＼\")\n",
    "portugese |= {'juego','muy','para','por','bueno','este','los','buen'}\n",
    "additional_stop_words = {'-pron-'}\n",
    "german = {'spaß', 'spiel', 'und'}"
   ]
  },
  {
   "cell_type": "code",
   "execution_count": 156,
   "metadata": {
    "ExecuteTime": {
     "end_time": "2021-01-15T06:50:56.652082Z",
     "start_time": "2021-01-15T06:50:54.515518Z"
    },
    "scrolled": true
   },
   "outputs": [
    {
     "name": "stderr",
     "output_type": "stream",
     "text": [
      "<ipython-input-156-d20780559bc1>:2: TqdmDeprecationWarning: This function will be removed in tqdm==5.0.0\n",
      "Please use `tqdm.notebook.tqdm` instead of `tqdm.tqdm_notebook`\n",
      "  for doc in tqdm_notebook(docs):\n"
     ]
    },
    {
     "data": {
      "application/vnd.jupyter.widget-view+json": {
       "model_id": "173a50858a8a440fa41317da4c28bb3d",
       "version_major": 2,
       "version_minor": 0
      },
      "text/plain": [
       "  0%|          | 0/46894 [00:00<?, ?it/s]"
      ]
     },
     "metadata": {},
     "output_type": "display_data"
    },
    {
     "data": {
      "text/plain": [
       "38643"
      ]
     },
     "execution_count": 156,
     "metadata": {},
     "output_type": "execute_result"
    }
   ],
   "source": [
    "new_docs = []\n",
    "for doc in tqdm_notebook(docs):\n",
    "    ok = len(set(str(doc)) & non_english) == 0\n",
    "    for t in doc:\n",
    "        if t.text in portugese or t.text in german:\n",
    "            ok = False\n",
    "    if ok:\n",
    "        new_docs.append(doc)\n",
    "len(new_docs)"
   ]
  },
  {
   "cell_type": "code",
   "execution_count": 157,
   "metadata": {
    "ExecuteTime": {
     "end_time": "2021-01-15T06:51:02.010426Z",
     "start_time": "2021-01-15T06:50:59.528951Z"
    }
   },
   "outputs": [
    {
     "data": {
      "text/plain": [
       "93"
      ]
     },
     "execution_count": 157,
     "metadata": {},
     "output_type": "execute_result"
    }
   ],
   "source": [
    "import gc\n",
    "docs = new_docs\n",
    "gc.collect()"
   ]
  },
  {
   "cell_type": "code",
   "execution_count": 158,
   "metadata": {
    "ExecuteTime": {
     "end_time": "2021-01-15T06:55:53.599084Z",
     "start_time": "2021-01-15T06:51:02.012317Z"
    },
    "scrolled": false
   },
   "outputs": [
    {
     "name": "stderr",
     "output_type": "stream",
     "text": [
      "<ipython-input-158-71033fec5803>:1: TqdmDeprecationWarning: This function will be removed in tqdm==5.0.0\n",
      "Please use `tqdm.notebook.tqdm` instead of `tqdm.tqdm_notebook`\n",
      "  prepared_texts = [\" \".join([t.lemma_ for t in d if t.lemma_ not in additional_stop_words]) for d in tqdm_notebook(docs)]\n"
     ]
    },
    {
     "data": {
      "application/vnd.jupyter.widget-view+json": {
       "model_id": "36a1916449ed43cdb9a47e3531c9b7b0",
       "version_major": 2,
       "version_minor": 0
      },
      "text/plain": [
       "  0%|          | 0/38643 [00:00<?, ?it/s]"
      ]
     },
     "metadata": {},
     "output_type": "display_data"
    },
    {
     "name": "stderr",
     "output_type": "stream",
     "text": [
      "<ipython-input-158-71033fec5803>:2: TqdmDeprecationWarning: This function will be removed in tqdm==5.0.0\n",
      "Please use `tqdm.notebook.tqdm` instead of `tqdm.tqdm_notebook`\n",
      "  docs = [textacy.make_spacy_doc(x, nlp) for x in tqdm_notebook(prepared_texts)]\n"
     ]
    },
    {
     "data": {
      "application/vnd.jupyter.widget-view+json": {
       "model_id": "8b1ebec08a7b41e3be91f6265c85a241",
       "version_major": 2,
       "version_minor": 0
      },
      "text/plain": [
       "  0%|          | 0/38643 [00:00<?, ?it/s]"
      ]
     },
     "metadata": {},
     "output_type": "display_data"
    },
    {
     "name": "stderr",
     "output_type": "stream",
     "text": [
      "<ipython-input-158-71033fec5803>:7: TqdmDeprecationWarning: This function will be removed in tqdm==5.0.0\n",
      "Please use `tqdm.notebook.tqdm` instead of `tqdm.tqdm_notebook`\n",
      "  for doc in tqdm_notebook(corpus)\n"
     ]
    },
    {
     "data": {
      "application/vnd.jupyter.widget-view+json": {
       "model_id": "4ca75ff8bb654823a4674d1ea8d03e15",
       "version_major": 2,
       "version_minor": 0
      },
      "text/plain": [
       "  0%|          | 0/38643 [00:00<?, ?it/s]"
      ]
     },
     "metadata": {},
     "output_type": "display_data"
    }
   ],
   "source": [
    "prepared_texts = [\" \".join([t.lemma_ for t in d if t.lemma_ not in additional_stop_words]) for d in tqdm_notebook(docs)]\n",
    "docs = [textacy.make_spacy_doc(x, nlp) for x in tqdm_notebook(prepared_texts)]\n",
    "docs = [doc for doc in docs if len(doc) >= 2]\n",
    "corpus = textacy.Corpus(nlp, data=docs)\n",
    "normalized = [\n",
    "    doc._.to_terms_list(ngrams=[1], entities=True, as_strings=True, normalize='lemma')\n",
    "    for doc in tqdm_notebook(corpus)\n",
    "]"
   ]
  },
  {
   "cell_type": "code",
   "execution_count": 159,
   "metadata": {
    "ExecuteTime": {
     "end_time": "2021-01-15T06:57:58.773498Z",
     "start_time": "2021-01-15T06:55:53.600953Z"
    }
   },
   "outputs": [
    {
     "name": "stderr",
     "output_type": "stream",
     "text": [
      "<ipython-input-159-4e67a49fe525>:13: TqdmDeprecationWarning: This function will be removed in tqdm==5.0.0\n",
      "Please use `tqdm.notebook.tqdm` instead of `tqdm.tqdm_notebook`\n",
      "  for doc in tqdm_notebook(corpus)\n"
     ]
    },
    {
     "data": {
      "application/vnd.jupyter.widget-view+json": {
       "model_id": "db93480527064b0c9086ae7e26eff463",
       "version_major": 2,
       "version_minor": 0
      },
      "text/plain": [
       "  0%|          | 0/38643 [00:00<?, ?it/s]"
      ]
     },
     "metadata": {},
     "output_type": "display_data"
    },
    {
     "name": "stdout",
     "output_type": "stream",
     "text": [
      "topic 0 : dota   bang   dragon   totally   steal   soul   movie   sell   blood   till\n",
      "topic 1 : awesome   look   word   platformer   lose   fantastic   age   fun   good   bioshock\n",
      "topic 2 : pretty   zombie   bad   good   people   enjoy   play   mmo   sim   fun\n",
      "topic 3 : kid   yell   english   collection   script   oce   gladly   birthday   datum   nexus\n",
      "topic 4 : life   half   unique   scroll   good   play   wat   complex   ops   wild\n",
      "topic 5 : wich   innocent   native   postal   compra   wif   logo   necessity   essential   jesus\n",
      "topic 6 : omfg   cup   hmm   magical   massacre   incoming   relaxing   curious   perfect   breakdown\n",
      "topic 7 : like   minecraft   hate   cheap   good   experience   version   rage   medieval   school\n",
      "topic 8 : play   old   good   start   yes   wow   like   fun   buy   great\n",
      "topic 9 : brother   restart   mlg   hold   colour   legal   itz   guarantee   nah   sem\n",
      "topic 10 : rly   meu   undertale   acess   minha   fica   genial   flatout   tony   jurassic\n",
      "topic 11 : computer   bear   kinda   incredibly   eye   crappy   bright   finger   hurt   muck\n",
      "topic 12 : hell   kind   hitler   princess   frantic   goon   furious   occasional   angle   fun\n",
      "topic 13 : regret   league   legend   flag   spirit   ancient   oceania   competitively   wc3   rocket league\n",
      "topic 14 : pay   run   base   sure   problem   russians   fill   machine   later   snipe\n",
      "topic 15 : download   multiplayer   mod   gun   skyrim   rts   terrible   fan   good   tho\n",
      "topic 16 : good   epic   shooter   ign   person   rock   rust   naked   diablo   soo\n",
      "topic 17 : lol   think   funny   try   good   help   minute   lag   actually   simply\n",
      "topic 18 : gud   ruin life   luv   tbh   git   customise   sync   charater   arnt   veri\n",
      "topic 19 : server   join   realy   map   kick   australia   battle   connect   grind   grenade\n",
      "topic 20 : player   ruin   hacker   ban   duty   single   favorite   hey   connection   fine\n",
      "topic 21 : terraria   bored   meme   dank   idea   hero   dear   terrarium   spectacular   primary\n",
      "topic 22 : wait   dayz   come   early   access   bro   smash   creativity   great   cheater\n",
      "topic 23 : recomend   year   rate   rip   refund   face   heart   coop   good   child\n",
      "topic 24 : need   simulator   nice   work   addict   update   god   new   thank   good\n",
      "topic 25 : hour   lot   steam   play   stop   spend   review   feel   fun   good\n",
      "topic 26 : muito   bom   action   muito bom   jump   mto   viciante   challange   universe   non\n",
      "topic 27 : addictive   survival   win   end   eat   mode   horror   item   fun   book\n",
      "topic 28 : star   war   miss   gaem   quality   evar   wood   good   controll   basicly\n",
      "topic 29 : free   f2p   good   sound   bem   ㅤㅤㅤㅤㅤㅤ   dos   ripoff   ㅤㅤㅤ   ambient\n",
      "topic 30 : week   allahu   nightmare   akbar   salt   wep   mucho   rek   antagonist   borderlands\n",
      "topic 31 : yeah   dlc   gameplay   scary   brilliant   strategy   add   good   great   release\n",
      "topic 32 : kill   shoot   die   boring   wish   blow   absolutely   dollar   fly   floor\n",
      "topic 33 : teach   sex   chapter   glitch   ram   optimize   ultra   link   town   atm\n",
      "topic 34 : okay   guess   gay   pra   aids   pow   buyer   lol   trailer   camper\n",
      "topic 35 : world   alright   fallout   open   chicken   screen   annoying   good   couple   sniper\n",
      "topic 36 : sick   heap   com   divertido   table   unusual   club   rating   scott   jogar\n",
      "topic 37 : hat   tf2   dead   leave   crate   scope   lady   like   ina   putang\n",
      "topic 38 : mate   gta   plz   history   walk   thumb   magic   change   complete   decent\n",
      "topic 39 : crash   know   man   mac   find   sit   immersive   nee   door   pure\n",
      "topic 40 : super   yea   mutant   driver   board   una   spook   ftw   definitley   dope\n",
      "topic 41 : portal   puzzle   load   physics   brain   explosion   intreste   film   hook   rocket\n",
      "topic 42 : want   dis   way   content   install   vehicle   self   opinion   intense   good\n",
      "topic 43 : play   good   great   like   fun   time   buy   love   amazing   recommend\n",
      "topic 44 : story   real   goat   line   card   press   killer   angry   random   animation\n",
      "topic 45 : cool   stuff   wtf   ready   drill   potato   creed   bag   wear   trailer\n",
      "topic 46 : anymore   live   poor   sword   social   tool   destroy   pirate   instantly   straight\n",
      "topic 47 : damn   pass   episode   let   season   telltale   mother   scare   scream   indie\n",
      "topic 48 : button   girl   gamer   hot   mouse   hear   keyboard   remove   john   poker\n",
      "topic 49 : bit   easy   simple   use   realistic   fun   tis   relax   match   good\n",
      "topic 50 : worth   time   reccomend   long   little   play   pls   omg   good   bore\n",
      "topic 51 : amazing   graphic   fast   rpg   great   enjoyable   good   fun   forever   sandbox\n",
      "topic 52 : ing   holy   essential   zombies   tie   dam   gewd   cancerous   shoe   neck\n",
      "topic 53 : awsome   learn   past   diffrent   german   tonne   europe   campain   stratagy   tom\n",
      "topic 54 : love   cod   far   alot   day   good   play   fall   great   fun\n",
      "topic 55 : fps   favourite   valve   head   payday   good   uninstall   microtransaction   overkill   2nd\n",
      "topic 56 : suck   fix   bug   perfect   break   classic   control   sleep   strongly   fresh\n",
      "topic 57 : hard   thing   crap   laggy   noob   quit   build   house   bomb   piece\n",
      "topic 58 : play   fun   friend   buy   great   good   money   waste   online   sale\n",
      "topic 59 : recommend   highly   team   great   definitely   fortress   fun   beat   especially   gore\n"
     ]
    }
   ],
   "source": [
    "import textacy.tm\n",
    "import textacy.vsm\n",
    "vectorizer = textacy.vsm.Vectorizer(\n",
    "    tf_type=\"linear\", \n",
    "    apply_idf=True, \n",
    "    idf_type=\"smooth\", \n",
    "    norm=\"l2\",\n",
    "    min_df=5, \n",
    "    max_df=0.95\n",
    ")\n",
    "normalized = [\n",
    "    doc._.to_terms_list(ngrams=[1], entities=True, as_strings=True, normalize='lemma')\n",
    "    for doc in tqdm_notebook(corpus)\n",
    "]\n",
    "\n",
    "doc_term_matrix = vectorizer.fit_transform(normalized)\n",
    "model = textacy.tm.TopicModel(\"lda\", n_topics=60)\n",
    "model.fit(doc_term_matrix)\n",
    "\n",
    "doc_topic_matrix = model.transform(doc_term_matrix)\n",
    "\n",
    "for topic_idx, top_terms in model.top_topic_terms(vectorizer.id_to_term, top_n=10):\n",
    "    print(\"topic\", topic_idx, \":\", \"   \".join(top_terms))"
   ]
  },
  {
   "cell_type": "code",
   "execution_count": 162,
   "metadata": {
    "ExecuteTime": {
     "end_time": "2021-01-15T10:23:39.797471Z",
     "start_time": "2021-01-15T10:23:39.795500Z"
    }
   },
   "outputs": [],
   "source": [
    "import textacy\n",
    "from textacy.preprocessing import normalize_repeating_chars, normalize_whitespace\n"
   ]
  },
  {
   "cell_type": "code",
   "execution_count": 175,
   "metadata": {
    "ExecuteTime": {
     "end_time": "2021-01-15T10:44:11.110724Z",
     "start_time": "2021-01-15T10:39:14.582676Z"
    },
    "scrolled": true
   },
   "outputs": [
    {
     "name": "stderr",
     "output_type": "stream",
     "text": [
      "<ipython-input-175-dcd46090d7f4>:2: TqdmDeprecationWarning: This function will be removed in tqdm==5.0.0\n",
      "Please use `tqdm.notebook.tqdm` instead of `tqdm.tqdm_notebook`\n",
      "  prepared_texts = [\" \".join([t.lemma_ for t in d]) for d in tqdm_notebook(docs)]\n"
     ]
    },
    {
     "data": {
      "application/vnd.jupyter.widget-view+json": {
       "model_id": "6de9b3eb17074f6f81e65a3227251fe7",
       "version_major": 2,
       "version_minor": 0
      },
      "text/plain": [
       "  0%|          | 0/38643 [00:00<?, ?it/s]"
      ]
     },
     "metadata": {},
     "output_type": "display_data"
    },
    {
     "name": "stderr",
     "output_type": "stream",
     "text": [
      "<ipython-input-175-dcd46090d7f4>:4: TqdmDeprecationWarning: This function will be removed in tqdm==5.0.0\n",
      "Please use `tqdm.notebook.tqdm` instead of `tqdm.tqdm_notebook`\n",
      "  prepared_texts = [normalize_repeating_chars(normalize_whitespace(text), chars=chars, maxn=2) for text in tqdm_notebook(prepared_texts)]\n"
     ]
    },
    {
     "data": {
      "application/vnd.jupyter.widget-view+json": {
       "model_id": "87516e6876a04df2b4c93ac63e48e23d",
       "version_major": 2,
       "version_minor": 0
      },
      "text/plain": [
       "  0%|          | 0/38643 [00:00<?, ?it/s]"
      ]
     },
     "metadata": {},
     "output_type": "display_data"
    },
    {
     "name": "stderr",
     "output_type": "stream",
     "text": [
      "<ipython-input-175-dcd46090d7f4>:5: TqdmDeprecationWarning: This function will be removed in tqdm==5.0.0\n",
      "Please use `tqdm.notebook.tqdm` instead of `tqdm.tqdm_notebook`\n",
      "  prepared_texts = [\" \".join([t.lemma_ for t in d if (t.lemma_ not in additional_stop_words and t.lemma_ not in STOP_WORDS)]) for d in tqdm_notebook(docs)]\n"
     ]
    },
    {
     "data": {
      "application/vnd.jupyter.widget-view+json": {
       "model_id": "24fc7a84c49049afa2b743efca35d4b0",
       "version_major": 2,
       "version_minor": 0
      },
      "text/plain": [
       "  0%|          | 0/38643 [00:00<?, ?it/s]"
      ]
     },
     "metadata": {},
     "output_type": "display_data"
    },
    {
     "name": "stderr",
     "output_type": "stream",
     "text": [
      "<ipython-input-175-dcd46090d7f4>:7: TqdmDeprecationWarning: This function will be removed in tqdm==5.0.0\n",
      "Please use `tqdm.notebook.tqdm` instead of `tqdm.tqdm_notebook`\n",
      "  docs = [textacy.make_spacy_doc(x, nlp) for x in tqdm_notebook(prepared_texts)]\n"
     ]
    },
    {
     "data": {
      "application/vnd.jupyter.widget-view+json": {
       "model_id": "f5a70b8c7d1c4153bab714e30cdef279",
       "version_major": 2,
       "version_minor": 0
      },
      "text/plain": [
       "  0%|          | 0/38643 [00:00<?, ?it/s]"
      ]
     },
     "metadata": {},
     "output_type": "display_data"
    },
    {
     "name": "stderr",
     "output_type": "stream",
     "text": [
      "<ipython-input-175-dcd46090d7f4>:12: TqdmDeprecationWarning: This function will be removed in tqdm==5.0.0\n",
      "Please use `tqdm.notebook.tqdm` instead of `tqdm.tqdm_notebook`\n",
      "  for doc in tqdm_notebook(corpus)\n"
     ]
    },
    {
     "data": {
      "application/vnd.jupyter.widget-view+json": {
       "model_id": "a0ef3fb386da42b3998354b719cb07b6",
       "version_major": 2,
       "version_minor": 0
      },
      "text/plain": [
       "  0%|          | 0/38643 [00:00<?, ?it/s]"
      ]
     },
     "metadata": {},
     "output_type": "display_data"
    }
   ],
   "source": [
    "additional_stop_words |= set(\"ㅤㅤㅤㅤㅤㅤ\" + \"\\t\\n\\r\" + \"    \")\n",
    "prepared_texts = [\" \".join([t.lemma_ for t in d]) for d in tqdm_notebook(docs)]\n",
    "chars = \"\".join(set(\"\".join(prepared_texts)))\n",
    "prepared_texts = [normalize_repeating_chars(normalize_whitespace(text), chars=chars, maxn=2) for text in tqdm_notebook(prepared_texts)]\n",
    "prepared_texts = [\" \".join([t.lemma_ for t in d if (t.lemma_ not in additional_stop_words and t.lemma_ not in STOP_WORDS)]) for d in tqdm_notebook(docs)]\n",
    "\n",
    "docs = [textacy.make_spacy_doc(x, nlp) for x in tqdm_notebook(prepared_texts)]\n",
    "docs = [doc for doc in docs if len(doc) >= 2]\n",
    "corpus = textacy.Corpus(nlp, data=docs)\n",
    "normalized = [\n",
    "    doc._.to_terms_list(ngrams=[1], entities=True, as_strings=True, normalize='lemma')\n",
    "    for doc in tqdm_notebook(corpus)\n",
    "]"
   ]
  },
  {
   "cell_type": "code",
   "execution_count": 176,
   "metadata": {
    "ExecuteTime": {
     "end_time": "2021-01-15T10:46:16.040816Z",
     "start_time": "2021-01-15T10:44:11.112163Z"
    },
    "scrolled": true
   },
   "outputs": [
    {
     "name": "stderr",
     "output_type": "stream",
     "text": [
      "<ipython-input-176-4e67a49fe525>:13: TqdmDeprecationWarning: This function will be removed in tqdm==5.0.0\n",
      "Please use `tqdm.notebook.tqdm` instead of `tqdm.tqdm_notebook`\n",
      "  for doc in tqdm_notebook(corpus)\n"
     ]
    },
    {
     "data": {
      "application/vnd.jupyter.widget-view+json": {
       "model_id": "a16fe56ef8fa4adbab574d1b4a54cee1",
       "version_major": 2,
       "version_minor": 0
      },
      "text/plain": [
       "  0%|          | 0/38643 [00:00<?, ?it/s]"
      ]
     },
     "metadata": {},
     "output_type": "display_data"
    },
    {
     "name": "stdout",
     "output_type": "stream",
     "text": [
      "topic 0 : gun   dota   gud   gr8   skyrim   happy   pew   angry   haha   like\n",
      "topic 1 : addictive   wait   crash   super   dayz   mac   click   terrible   early   definately\n",
      "topic 2 : awsome   recomend   year   good   sun   spell   salty   nearly   play   german\n",
      "topic 3 : ing   holy   chapter   ending   luv   cash   emily   zombies   cup   f*ck\n",
      "topic 4 : know   online   server   day   wow   ban   crap   kick   play   join\n",
      "topic 5 : hacker   fan   ship   rts   beat   value   let   literally   replay   open\n",
      "topic 6 : gewd   scott   oce   sh!t   acheivement   compra   tomorrow   logo   india   conquest\n",
      "topic 7 : word   drill   modde   freedom   sega   sandvich   buffalo   allready   thermal   infamy\n",
      "topic 8 : date   mlg   skeleton   itz   una   anal   spook   handsome   spaghetti   mucho\n",
      "topic 9 : hour   spend   long   review   play   card   write   good   connection   com\n",
      "topic 10 : addict   team   die   rpg   god   fortress   family   kinda   good   class\n",
      "topic 11 : like   think   fast   feel   good   movie   beautiful   borderland   interesting   pace\n",
      "topic 12 : platformer   horrible   heart   film   explosion   english   roguelike   script   michael   bay\n",
      "topic 13 : duty   regret   favorite   hey   boot   clone   loud   peice   dynamic   goodness\n",
      "topic 14 : pass   episode   season   telltale   definitly   whiskey   christmas   usual   football   detective\n",
      "topic 15 : life   tf2   far   cod   half   dead   good   leave   play   love\n",
      "topic 16 : yeah   try   start   strategy   brilliant   base   soundtrack   turn   planet   sweet\n",
      "topic 17 : awesome   wtf   sim   plz   mode   cent   head   release   heist   fun\n",
      "topic 18 : f2p   gamer   indie   lover   good   attack   running   nuf   cannibal   10x\n",
      "topic 19 : bang   blah   flatout   wif   shameful   unimaginable   essential   hahaha   hectic   competive\n",
      "topic 20 : shooter   person   rock   history   gore   naked   rust   island   boy   ask\n",
      "topic 21 : sound   week   bem   dos   tie   nightmare   dam   jogos   melhores   regard\n",
      "topic 22 : esta   omfg   boob   mejor   pero   minha   hmm   del   genial   todos\n",
      "topic 23 : play   good   great   fun   like   time   buy   story   amazing   recommend\n",
      "topic 24 : mod   simply   pls   bore   garry   garry mod   max   tbh   fam   payne\n",
      "topic 25 : shoot   stuff   portal   puzzle   load   absolutely   fantastic   hilarious   fun   level\n",
      "topic 26 : hat   bloody   eat   cheat   dream   key   cut   framerate   pig   l4d\n",
      "topic 27 : nice   funny   update   enjoy   enjoyable   new   computer   fun   good   play\n",
      "topic 28 : terrific   simulate   shrek   web   buyer   beard   prey   jurassic   semi   officially\n",
      "topic 29 : kill   guy   blow   city   car   bring   excellent   plot   pant   hear\n",
      "topic 30 : pie   ina   putang   delightfully   skrub   stylish   purge   yeh   minute   cloak\n",
      "topic 31 : amazing   cool   dlc   graphic   thing   story   hell   good   space   play\n",
      "topic 32 : alright   fallout   sick   heap   couple   sooooo   unusual   hectic   vegas   occupy\n",
      "topic 33 : dis   install   self   opinion   workshop   liek   rekt   bye   fat   quickly\n",
      "topic 34 : wrong   rule   lel   golden   ftw   tom   cow   ac4   lmao   clancy\n",
      "topic 35 : world   simple   gta   experience   change   good   quit   month   complete   dark\n",
      "topic 36 : recommend   highly   minecraft   old   little   hate   fun   actually   great   good\n",
      "topic 37 : man   league   legend   stick   fresh   strongly   door   lame   rly   overpower\n",
      "topic 38 : yes   look   come   use   reason   button   girl   dog   press   window\n",
      "topic 39 : free   pay   win   play   good   scary   ruin   steal   monster   price\n",
      "topic 40 : steam   way   run   wish   learn   pro   best   russian   good   extremely\n",
      "topic 41 : fps   lot   multiplayer   time   good   valve   great   especially   challenge   add\n",
      "topic 42 : love   work   download   fix   star   good   lag   war   bug   map\n",
      "topic 43 : goat   step   party   gay   cake   sonic   repeat   ㅤㅤㅤㅤㅤㅤ   mario   quake\n",
      "topic 44 : pretty   zombie   bad   good   kid   plane   idk   yell   like   winter\n",
      "topic 45 : pra   nao   meu   spiral   pow   fica   joguei   wc3   ranged   quirk\n",
      "topic 46 : muito   universe   legal   lady   jogabilidade   simulador   graficos   tought   tony   alternate\n",
      "topic 47 : lol   boring   end   damn   help   minute   thank   truly   dollar   masterpiece\n",
      "topic 48 : hard   gameplay   easy   realistic   chicken   relax   fun   drive   brain   bioshock\n",
      "topic 49 : suck   action   age   cause   jump   mechanic   eye   sever   bright   castle\n",
      "topic 50 : play   friend   great   fun   good   favourite   bear   beast   challenging   ready\n",
      "topic 51 : need   simulator   seriously   master   good   girlfriend   destruction   adult   exceed   dump\n",
      "topic 52 : terraria   ball   child   face   punch   shark   building   guard   chop   white\n",
      "topic 53 : good   buy   waste   epic   want   survival   real   money   right   read\n",
      "topic 54 : fun   good   absolute   soo   yea   pre   awhile   book   allahu   becasue\n",
      "topic 55 : pack   fight   adventure   endless   crazy   suit   shut   glitche   freakin   explore\n",
      "topic 56 : bom   player   alot   muito bom   realy   single   fun   good   like   play\n",
      "topic 57 : ign   gaem   wear   touch   wood   legit   spam   controll   suicide   bruh\n",
      "topic 58 : stop   skin   community   play   tell   controller   big   mouse   bother   forget\n",
      "topic 59 : worth   money   definitely   reccomend   bit   lose   mate   omg   great   sure\n"
     ]
    }
   ],
   "source": [
    "import textacy.tm\n",
    "import textacy.vsm\n",
    "vectorizer = textacy.vsm.Vectorizer(\n",
    "    tf_type=\"linear\", \n",
    "    apply_idf=True, \n",
    "    idf_type=\"smooth\", \n",
    "    norm=\"l2\",\n",
    "    min_df=5, \n",
    "    max_df=0.95\n",
    ")\n",
    "normalized = [\n",
    "    doc._.to_terms_list(ngrams=[1], entities=True, as_strings=True, normalize='lemma')\n",
    "    for doc in tqdm_notebook(corpus)\n",
    "]\n",
    "\n",
    "doc_term_matrix = vectorizer.fit_transform(normalized)\n",
    "model = textacy.tm.TopicModel(\"lda\", n_topics=60)\n",
    "model.fit(doc_term_matrix)\n",
    "\n",
    "doc_topic_matrix = model.transform(doc_term_matrix)\n",
    "\n",
    "for topic_idx, top_terms in model.top_topic_terms(vectorizer.id_to_term, top_n=10):\n",
    "    print(\"topic\", topic_idx, \":\", \"   \".join(top_terms))"
   ]
  },
  {
   "cell_type": "code",
   "execution_count": 177,
   "metadata": {
    "ExecuteTime": {
     "end_time": "2021-01-15T10:54:59.722940Z",
     "start_time": "2021-01-15T10:50:52.305215Z"
    },
    "scrolled": true
   },
   "outputs": [
    {
     "name": "stderr",
     "output_type": "stream",
     "text": [
      "<ipython-input-177-412a62090f87>:13: TqdmDeprecationWarning: This function will be removed in tqdm==5.0.0\n",
      "Please use `tqdm.notebook.tqdm` instead of `tqdm.tqdm_notebook`\n",
      "  for doc in tqdm_notebook(corpus)\n"
     ]
    },
    {
     "data": {
      "application/vnd.jupyter.widget-view+json": {
       "model_id": "a4ef9706be2348388c46f05b489a447e",
       "version_major": 2,
       "version_minor": 0
      },
      "text/plain": [
       "  0%|          | 0/38643 [00:00<?, ?it/s]"
      ]
     },
     "metadata": {},
     "output_type": "display_data"
    },
    {
     "name": "stdout",
     "output_type": "stream",
     "text": [
      "topic 0 : awesome   work   mac   crash   wtf   plz   fix   immersive   mother   rock\n",
      "topic 1 : meu   good amazing   fica   capitalist   butterfly   love complete   mastery   bore hour   underestimate   control play\n",
      "topic 2 : best   legend   league   gore   league legend   music   metal   best fps   omfg   jack\n",
      "topic 3 : great   gr8   great love   gun   world   bloody   skyrim   war   love   beat\n",
      "topic 4 : pretty   good   pretty good   addictive   story   recommend   great   highly   explore   rate\n",
      "topic 5 : f2p   girl   good f2p   trash   button   australian   coop   bem   window   australian server\n",
      "topic 6 : waste   money   waste money   russian   steam   time   waste time   good steam   good   way\n",
      "topic 7 : simulator   addict   wow   god   pls   thank   fun addict   fun little   games   fun\n",
      "topic 8 : gud   git   git gud   dis gud   flashbang   gunz   enjoy second   bolt   fun real   alot stuff\n",
      "topic 9 : alright   try   early access   access   early   quit   look   dog   food   bro\n",
      "topic 10 : epic   like   download   good like   fallout   rob   bank   good   tell   mech\n",
      "topic 11 : gay   aids   una   murica   awesome alot   update great   guns   experience gamer   ops   sega\n",
      "topic 12 : esta   spam   amazingly fun   yell   anybody   bad people   good find   recommend anybody   resolve   fun feel\n",
      "topic 13 : nice   awsome   dis   yeah   fast   good   computer   want   love   far\n",
      "topic 14 : simplesmente   compra   fun crazy   logo   mal   fool   define   death machine   skydive   rhythm\n",
      "topic 15 : kill   portal   hell   boring   borderland   load   sim   puzzle   bore   load fun\n",
      "topic 16 : pra   mejor   del   pow   derp   instruction   man   base   teleport   steel\n",
      "topic 17 : ign   dinosaur   legit   wear   bruh   playin   good racing   good laugh   jew   ign play\n",
      "topic 18 : suck   super   super fun   sell   jump   good worth   sever   mutant   freddy   yeh\n",
      "topic 19 : enjoyable   amazing play   guess   come   okay   spooky   legal   fun enjoyable   hella   trailer\n",
      "topic 20 : multiplayer   ruin   player   single player   single   hacker   regret   self   good multiplayer   combat system\n",
      "topic 21 : scary   horror   gaem   social   definately   play little   evar   wood   touch   controll\n",
      "topic 22 : rly   ftw   shank   defenetly   honestly recommend   mad god   rly good   orcs   litter   pro fun\n",
      "topic 23 : play   fun   friend   good   good play   free   fun play   great   play friend   free play\n",
      "topic 24 : worth   worth money   rpg   money   definitely worth   bioshock   definitely   good survival   fun worth   original\n",
      "topic 25 : play story   joke   skeleton   anal   blah   ridiculously   fun intense   spaghetti   like puzzle   web\n",
      "topic 26 : cut   cheat   jam   enable   time look   l4d   arnt   direct   awesome thing   low violence\n",
      "topic 27 : terraria   brilliant   uninstall   amazingly   space   body   starbound   definatly   leg   step\n",
      "topic 28 : shoot   wait   die   emotional   son   release   describe   luv   toilet   time good\n",
      "topic 29 : hard   recomend   good graphic   dlc   bit   good   little   realistic   easy   absolutely\n",
      "topic 30 : lol   terrible   cry   review   baby   replay   live   press   write   value\n",
      "topic 31 : ing   cod   holy   enjoy   fall   play enjoy   great need   good ing   good team   buy worth\n",
      "topic 32 : bad   year   blow   head   sun   payday   rule   wrong   win   interactive\n",
      "topic 33 : dota   kid   movie   haha   confirm   cure   great job   brah   like dota   chinese\n",
      "topic 34 : allahu   shrek   akbar   salt   allahu akbar   simulater   pizza   gunpoint   model great   fun gun\n",
      "topic 35 : rat   save   bad rat   great strategy   money buy   awesome worth   definently   spook   great especially   save money\n",
      "topic 36 : fps   hour   stop   good fps   word   stop play   play hour   play   strategy   good\n",
      "topic 37 : mod   day   bomb   star   track   great awesome   play day   good job   good   job\n",
      "topic 38 : noob   lose   minute   com   modding   dat   troll   wonderful   divertido   learn play\n",
      "topic 39 : pay play   tom   handsome   ripoff   spiral   nice love   seu   play past   far good play   opening\n",
      "topic 40 : heart   mlg   film   horrible   grab   itz   michael   bay   like graphic   hammer\n",
      "topic 41 : muito   bom   muito bom   awesome great   adictive   fun gameplay   mto   viciante   sound   jogabilidade\n",
      "topic 42 : amazing   chicken   laggy   thing   great like   amazing love   forever   graphic   luck   amazing graphic\n",
      "topic 43 : know   microtransaction   magic   walk   play free   great community   mum   know play   overkill   walk dead\n",
      "topic 44 : guy   sleep   yea   family   fun fun   earth   silver   fun   swag   horse\n",
      "topic 45 : undertale   pie   mucho   time travel   delightfully   thoroughly recommend   stylish   yeh   good laugh   lead\n",
      "topic 46 : good   fun   good fun   server   realy   join   fun good   brain   soo   kick\n",
      "topic 47 : halo   toy   definitely try   policy   victim   offend   day find   plastic   weapon vehicle   hit box\n",
      "topic 48 : sick   heap   heap fun   great work   unusual   great potential   good opinion   good update   heap fun friend   nice great\n",
      "topic 49 : zombie   half life   half   favourite   life   lag   fav   simply amazing   library   new\n",
      "topic 50 : life   goat   real   meme   dank   real life   becuase   egg   like play   essential\n",
      "topic 51 : love   yes   good good   good   update   ball   guard   classic   shark   answer\n",
      "topic 52 : steampunk   actually buy   mechanic bit   stratigic   float city   boring time   wonky   mob   want build   time probably\n",
      "topic 53 : bang   hectic   tie   dam   nah   hrs   year good   great definitely   fun combat   neck\n",
      "topic 54 : cool   minecraft   dayz   like minecraft   stuff   like   rage   hate   duty   lord\n",
      "topic 55 : episode   damn   pass   season   drill   telltale   play life   expectation   dig   recommend try\n",
      "topic 56 : need   good need   deadly   need player   need know   need help   new stuff   good   run great   good lol\n",
      "topic 57 : sooooo   ㅤㅤㅤㅤㅤㅤ   ㅤㅤㅤㅤㅤㅤ ㅤㅤㅤㅤㅤㅤ   like shoot   pero   majestic   ㅤㅤㅤ   ㅤㅤㅤㅤㅤㅤ ㅤㅤㅤㅤㅤㅤ ㅤㅤㅤㅤㅤㅤ   free hat   survival like\n",
      "topic 58 : play   good   like   great   fun   buy   time   love   people   recommend\n",
      "topic 59 : buy   hat   tf2   person   shooter   funny   person shooter   reccomend   long   dead\n"
     ]
    }
   ],
   "source": [
    "import textacy.tm\n",
    "import textacy.vsm\n",
    "vectorizer = textacy.vsm.Vectorizer(\n",
    "    tf_type=\"linear\", \n",
    "    apply_idf=True, \n",
    "    idf_type=\"smooth\", \n",
    "    norm=\"l2\",\n",
    "    min_df=5, \n",
    "    max_df=0.95\n",
    ")\n",
    "normalized = [\n",
    "    doc._.to_terms_list(ngrams=[1, 2, 3], entities=True, as_strings=True, normalize='lemma')\n",
    "    for doc in tqdm_notebook(corpus)\n",
    "]\n",
    "\n",
    "doc_term_matrix = vectorizer.fit_transform(normalized)\n",
    "model = textacy.tm.TopicModel(\"lda\", n_topics=60)\n",
    "model.fit(doc_term_matrix)\n",
    "\n",
    "doc_topic_matrix = model.transform(doc_term_matrix)\n",
    "\n",
    "for topic_idx, top_terms in model.top_topic_terms(vectorizer.id_to_term, top_n=10):\n",
    "    print(\"topic\", topic_idx, \":\", \"   \".join(top_terms))"
   ]
  },
  {
   "cell_type": "code",
   "execution_count": 182,
   "metadata": {
    "ExecuteTime": {
     "end_time": "2021-01-15T11:19:05.005206Z",
     "start_time": "2021-01-15T11:13:04.023866Z"
    },
    "scrolled": true
   },
   "outputs": [
    {
     "name": "stderr",
     "output_type": "stream",
     "text": [
      "<ipython-input-182-4e5212cfa6d0>:3: TqdmDeprecationWarning: This function will be removed in tqdm==5.0.0\n",
      "Please use `tqdm.notebook.tqdm` instead of `tqdm.tqdm_notebook`\n",
      "  prepared_texts = [\" \".join([normalize_repeating_chars(t.lemma_, chars=chars, maxn=2) for t in d if t.pos_ != \"SPACE\"]) for d in tqdm_notebook(docs)]\n"
     ]
    },
    {
     "data": {
      "application/vnd.jupyter.widget-view+json": {
       "model_id": "2bfcd4b8d0ee4ea89101c37b9a728bb3",
       "version_major": 2,
       "version_minor": 0
      },
      "text/plain": [
       "  0%|          | 0/38643 [00:00<?, ?it/s]"
      ]
     },
     "metadata": {},
     "output_type": "display_data"
    },
    {
     "name": "stderr",
     "output_type": "stream",
     "text": [
      "<ipython-input-182-4e5212cfa6d0>:5: TqdmDeprecationWarning: This function will be removed in tqdm==5.0.0\n",
      "Please use `tqdm.notebook.tqdm` instead of `tqdm.tqdm_notebook`\n",
      "  prepared_texts = [normalize_repeating_chars(normalize_whitespace(text), chars=chars, maxn=2) for text in tqdm_notebook(prepared_texts)]\n"
     ]
    },
    {
     "data": {
      "application/vnd.jupyter.widget-view+json": {
       "model_id": "727bb5f86063459d8994f04f36074a81",
       "version_major": 2,
       "version_minor": 0
      },
      "text/plain": [
       "  0%|          | 0/38643 [00:00<?, ?it/s]"
      ]
     },
     "metadata": {},
     "output_type": "display_data"
    },
    {
     "name": "stderr",
     "output_type": "stream",
     "text": [
      "<ipython-input-182-4e5212cfa6d0>:7: TqdmDeprecationWarning: This function will be removed in tqdm==5.0.0\n",
      "Please use `tqdm.notebook.tqdm` instead of `tqdm.tqdm_notebook`\n",
      "  docs = [textacy.make_spacy_doc(x, nlp) for x in tqdm_notebook(prepared_texts)]\n"
     ]
    },
    {
     "data": {
      "application/vnd.jupyter.widget-view+json": {
       "model_id": "af7ab19177b24574ae962fa2d2493961",
       "version_major": 2,
       "version_minor": 0
      },
      "text/plain": [
       "  0%|          | 0/38643 [00:00<?, ?it/s]"
      ]
     },
     "metadata": {},
     "output_type": "display_data"
    }
   ],
   "source": [
    "spanish = {'divertido'}\n",
    "portugese |= {'muito'}\n",
    "prepared_texts = [\" \".join([normalize_repeating_chars(t.lemma_, chars=chars, maxn=2) for t in d if t.pos_ != \"SPACE\"]) for d in tqdm_notebook(docs)]\n",
    "chars = \"\".join(set(\"\".join(prepared_texts)))\n",
    "prepared_texts = [normalize_repeating_chars(normalize_whitespace(text), chars=chars, maxn=2) for text in tqdm_notebook(prepared_texts)]\n",
    "\n",
    "docs = [textacy.make_spacy_doc(x, nlp) for x in tqdm_notebook(prepared_texts)]\n",
    "docs = [doc for doc in docs if len(doc) >= 2]\n",
    "# corpus = textacy.Corpus(nlp, data=docs)\n",
    "# normalized = [\n",
    "#     doc._.to_terms_list(ngrams=[1], entities=True, as_strings=True, normalize='lemma')\n",
    "#     for doc in tqdm_notebook(corpus)\n",
    "# ]"
   ]
  },
  {
   "cell_type": "code",
   "execution_count": 183,
   "metadata": {
    "ExecuteTime": {
     "end_time": "2021-01-15T11:19:06.493297Z",
     "start_time": "2021-01-15T11:19:05.006480Z"
    }
   },
   "outputs": [
    {
     "name": "stderr",
     "output_type": "stream",
     "text": [
      "<ipython-input-183-9dabadff8213>:2: TqdmDeprecationWarning: This function will be removed in tqdm==5.0.0\n",
      "Please use `tqdm.notebook.tqdm` instead of `tqdm.tqdm_notebook`\n",
      "  for doc in tqdm_notebook(docs):\n"
     ]
    },
    {
     "data": {
      "application/vnd.jupyter.widget-view+json": {
       "model_id": "675889d391e2433c8aee1407fcd7bd3b",
       "version_major": 2,
       "version_minor": 0
      },
      "text/plain": [
       "  0%|          | 0/38633 [00:00<?, ?it/s]"
      ]
     },
     "metadata": {},
     "output_type": "display_data"
    },
    {
     "data": {
      "text/plain": [
       "38436"
      ]
     },
     "execution_count": 183,
     "metadata": {},
     "output_type": "execute_result"
    }
   ],
   "source": [
    "new_docs = []\n",
    "for doc in tqdm_notebook(docs):\n",
    "    ok = len(set(str(doc)) & non_english) == 0\n",
    "    for t in doc:\n",
    "        if t.text in portugese or t.text in german or t.text in spanish:\n",
    "            ok = False\n",
    "    if ok:\n",
    "        new_docs.append(doc)\n",
    "len(new_docs)"
   ]
  },
  {
   "cell_type": "code",
   "execution_count": 184,
   "metadata": {
    "ExecuteTime": {
     "end_time": "2021-01-15T11:19:38.443303Z",
     "start_time": "2021-01-15T11:19:35.251835Z"
    }
   },
   "outputs": [
    {
     "name": "stderr",
     "output_type": "stream",
     "text": [
      "<ipython-input-184-4f027cb746fa>:7: TqdmDeprecationWarning: This function will be removed in tqdm==5.0.0\n",
      "Please use `tqdm.notebook.tqdm` instead of `tqdm.tqdm_notebook`\n",
      "  for doc in tqdm_notebook(corpus)\n"
     ]
    },
    {
     "data": {
      "application/vnd.jupyter.widget-view+json": {
       "model_id": "b0f26521e45842a2997f228b4dcb6104",
       "version_major": 2,
       "version_minor": 0
      },
      "text/plain": [
       "  0%|          | 0/38436 [00:00<?, ?it/s]"
      ]
     },
     "metadata": {},
     "output_type": "display_data"
    }
   ],
   "source": [
    "import gc\n",
    "docs = new_docs\n",
    "gc.collect()\n",
    "corpus = textacy.Corpus(nlp, data=docs)\n",
    "normalized = [\n",
    "    doc._.to_terms_list(ngrams=[1], entities=True, as_strings=True, normalize='lemma')\n",
    "    for doc in tqdm_notebook(corpus)\n",
    "]"
   ]
  },
  {
   "cell_type": "code",
   "execution_count": 185,
   "metadata": {
    "ExecuteTime": {
     "end_time": "2021-01-15T11:23:48.180124Z",
     "start_time": "2021-01-15T11:19:45.177185Z"
    },
    "scrolled": true
   },
   "outputs": [
    {
     "name": "stderr",
     "output_type": "stream",
     "text": [
      "<ipython-input-185-412a62090f87>:13: TqdmDeprecationWarning: This function will be removed in tqdm==5.0.0\n",
      "Please use `tqdm.notebook.tqdm` instead of `tqdm.tqdm_notebook`\n",
      "  for doc in tqdm_notebook(corpus)\n"
     ]
    },
    {
     "data": {
      "application/vnd.jupyter.widget-view+json": {
       "model_id": "0e7bc2c2c05f4260a809783b14bd85a5",
       "version_major": 2,
       "version_minor": 0
      },
      "text/plain": [
       "  0%|          | 0/38436 [00:00<?, ?it/s]"
      ]
     },
     "metadata": {},
     "output_type": "display_data"
    },
    {
     "name": "stdout",
     "output_type": "stream",
     "text": [
      "topic 0 : life   half   half life   good need   social   miss   need   rpg play   mod   mod play\n",
      "topic 1 : simulator   addict   wow   need   god   fun addict   dog   face   good   fun\n",
      "topic 2 : lol   guess   okay   trailer   deadly   alright guess   tom   fun alot   trench   hour know\n",
      "topic 3 : portal   puzzle   load   enjoy   feel   simple   load fun   chill   retro   halo\n",
      "topic 4 : great   pretty   friend   fun   fun play   play friend   play   pretty good   great fun   good\n",
      "topic 5 : star   classic   music   difficult   quirky   banana   replayable   good star   racist   endlessly\n",
      "topic 6 : pls   bore   little   fun little   tbh   expensive   fam   pls fix   little play   play bore\n",
      "topic 7 : boring   wait   omg   brilliant   quit   real   review   play   care   love\n",
      "topic 8 : gud   git   lady   git gud   dis gud   veri   play singleplayer   skrub   veri gud   shet\n",
      "topic 9 : buy   worth   story   episode   borderland   scary   sale   price   worth buy   season\n",
      "topic 10 : shoot   noob   tis   kick   cat   terrorist   love fun   fight   modding   dat\n",
      "topic 11 : favourite   ending   2nd   pure   adictive   emily   kojima   age empire   epicness   alert\n",
      "topic 12 : mods   interesting think   money use   think people   people try   interesting   try   think   people   flippin\n",
      "topic 13 : realy   good like   server   join   rob   bank   good   like   join server   lvl\n",
      "topic 14 : addictive   highly   highly recommend   download   recommend   childhood   cuz   hardcore   gore   tower\n",
      "topic 15 : awsome   yes   good good   good   sick   mod   heap   horror   heap fun   teach\n",
      "topic 16 : goat   becuase   egg   easter   una   easter egg   rly   think amazing   minha   hour love\n",
      "topic 17 : undertale   omg good   replayable   high school   gorgeous visual   pace play   exquisite   convey   choice effect   challenge worth\n",
      "topic 18 : cool   like   minecraft   like minecraft   stuff   space   lose   good stuff   dissapointe   win\n",
      "topic 19 : love love   cool play   love   allahu   script   akbar   play kid   play hand   salt   fun funny\n",
      "topic 20 : good   play   good play   old   day   play love   sim   hate   rage   simply\n",
      "topic 21 : reccomend   long   bloody   time   hacker   long time   play long   play long time   great gameplay   good\n",
      "topic 22 : kill   multiplayer   single   chicken   player   single player   regret   family   good multiplayer   fun fun\n",
      "topic 23 : alright   fallout   dlc   eat   best   awesome like   throw   quick   ill   l4d2\n",
      "topic 24 : ign   gaem   fav   spooky   rule   wrong   evar   legit   wear   good ign\n",
      "topic 25 : hard   recomend   easy   bioshock   truck   find   easy play   luv   rpg   vac\n",
      "topic 26 : free   f2p   word   girl   trash   good   good f2p   hot   great free   australian\n",
      "topic 27 : enjoy second   like feel   fun real   friend amazing   old classic   amazing strategy   multiplayer zombie   chicken   vent   like csgo\n",
      "topic 28 : beware   shrek   unbelievably   play dead   build army   prolong   time match   dorito   able build   dead\n",
      "topic 29 : bom   press   play free   poker   era   mto   optimization   amd   overwatch   point\n",
      "topic 30 : bang   omfg   hmm   cry play   f*cke   ign bang   hoe   bond   new experience   fight like\n",
      "topic 31 : crash   spend   hour   awesome play   awesome   spend hour   corner   play awesome   story tell   play\n",
      "topic 32 : kid   gay   aids   record   cup   hrs   mejor   year good   del   fps recommend\n",
      "topic 33 : mlg   itz   terrific   good racing   infinity   car handle   playing friend   swallow   trading system   cos\n",
      "topic 34 : cake   step   sonic   platformer   mario   joke   skeleton   kill friend   anal   chop\n",
      "topic 35 : suck   cry   world   guy   open   open world   yea   beautiful   pretty cool   bear\n",
      "topic 36 : ing   super   holy   look   freak   bro   fantastic   super fun   good   smash\n",
      "topic 37 : awesome   shooter   funny   person   person shooter   wtf   plz   rock   naked   awesome good\n",
      "topic 38 : update   enjoyable   look forward   forward   fun enjoyable   min   content   alpha   nice fun   great survival\n",
      "topic 39 : league   knife   legend   com   league legend   community   meu   spiral   nao   smell\n",
      "topic 40 : basicly   great wish   way good   nerd   mayhem   crawl   style graphic   orchestra   combat mechanic   fave\n",
      "topic 41 : fps   stop   good fps   stop play   play   good   master   fps play   play good   learn\n",
      "topic 42 : dis   yeah   work   good   great good   fix   install   mate   try   mother\n",
      "topic 43 : fun love   heart   horrible   explosion   dumb   film   grab   michael   bay   good update\n",
      "topic 44 : nightmare   good amazing   week   boob   wait week   good despite   alright play   skin skill   outa   play hrs\n",
      "topic 45 : gameplay smooth   geralt   kys   like dark   couch   tony   abbott   like dark soul   story compelling   want good experience\n",
      "topic 46 : pass   whiskey   awkward   pass whiskey   ftw   stomach   mentally   disgust   jogar   sheep\n",
      "topic 47 : play   good   like   great   fun   time   buy   amazing   love   recommend\n",
      "topic 48 : dead   walk   remind   walk dead   gewd   undead   character story   great stuff   praise sun   telltale good\n",
      "topic 49 : man   die   bomb   fly   war   wanna   guard   nuke   job   camera\n",
      "topic 50 : skyrim   gr8   gun   pew   pra   like skyrim   teh   recomende   pew pew   like alot\n",
      "topic 51 : trip   mah   srsly   feel trip   stratigic   like kid   wonky   mechanic bit   great combination   dps\n",
      "topic 52 : dota   ruin life   crazy   meme   dank   action pack   movie   pack   haha   btw\n",
      "topic 53 : drill   esta   ㅤㅤㅤㅤㅤㅤ   ㅤㅤㅤㅤㅤㅤ ㅤㅤㅤㅤㅤㅤ   nice love   pero   fix drill   ㅤㅤㅤ ㅤㅤㅤㅤㅤㅤ ㅤㅤㅤㅤㅤㅤ   ㅤㅤㅤㅤㅤㅤ ㅤㅤㅤㅤㅤㅤ ㅤㅤㅤㅤㅤㅤ   ㅤㅤㅤ\n",
      "topic 54 : zombie   waste   bad   money   good   steam   good buy   waste money   good zombie   cancer\n",
      "topic 55 : recommend   great recommend   good spend   great   friend great   bit short   fps like   like terraria   seizure   gta online\n",
      "topic 56 : love   amazing   great love   laggy   great   graphic   plane   thing   awesome love   good love\n",
      "topic 57 : alot   action   fun addictive   jump   touch   creepy   free fun   feel good   mean   roguelike\n",
      "topic 58 : nice   epic   fast   pace   fast pace   sleep   violence   nice graphic   bread   freakin\n",
      "topic 59 : fun   good fun   good   hat   lot fun   awesome   tf2   fun friend   terraria   hell\n"
     ]
    }
   ],
   "source": [
    "import textacy.tm\n",
    "import textacy.vsm\n",
    "vectorizer = textacy.vsm.Vectorizer(\n",
    "    tf_type=\"linear\", \n",
    "    apply_idf=True, \n",
    "    idf_type=\"smooth\", \n",
    "    norm=\"l2\",\n",
    "    min_df=5, \n",
    "    max_df=0.95\n",
    ")\n",
    "normalized = [\n",
    "    doc._.to_terms_list(ngrams=[1, 2, 3], entities=True, as_strings=True, normalize='lemma')\n",
    "    for doc in tqdm_notebook(corpus)\n",
    "]\n",
    "\n",
    "doc_term_matrix = vectorizer.fit_transform(normalized)\n",
    "model = textacy.tm.TopicModel(\"lda\", n_topics=60)\n",
    "model.fit(doc_term_matrix)\n",
    "\n",
    "doc_topic_matrix = model.transform(doc_term_matrix)\n",
    "\n",
    "for topic_idx, top_terms in model.top_topic_terms(vectorizer.id_to_term, top_n=10):\n",
    "    print(\"topic\", topic_idx, \":\", \"   \".join(top_terms))"
   ]
  },
  {
   "cell_type": "code",
   "execution_count": 188,
   "metadata": {
    "ExecuteTime": {
     "end_time": "2021-01-15T11:45:30.745069Z",
     "start_time": "2021-01-15T11:40:44.201621Z"
    },
    "scrolled": true
   },
   "outputs": [
    {
     "name": "stderr",
     "output_type": "stream",
     "text": [
      "<ipython-input-188-0c48c5999e06>:4: TqdmDeprecationWarning: This function will be removed in tqdm==5.0.0\n",
      "Please use `tqdm.notebook.tqdm` instead of `tqdm.tqdm_notebook`\n",
      "  prepared_texts = [\" \".join([t.lemma_ for t in d if (t.lemma_ not in additional_stop_words and t.lemma_ not in STOP_WORDS and t.pos_ != 'SPACE')]) for d in tqdm_notebook(docs)]\n"
     ]
    },
    {
     "data": {
      "application/vnd.jupyter.widget-view+json": {
       "model_id": "a5521761f7e94d9ab80a0308977687dd",
       "version_major": 2,
       "version_minor": 0
      },
      "text/plain": [
       "  0%|          | 0/36994 [00:00<?, ?it/s]"
      ]
     },
     "metadata": {},
     "output_type": "display_data"
    },
    {
     "name": "stderr",
     "output_type": "stream",
     "text": [
      "<ipython-input-188-0c48c5999e06>:5: TqdmDeprecationWarning: This function will be removed in tqdm==5.0.0\n",
      "Please use `tqdm.notebook.tqdm` instead of `tqdm.tqdm_notebook`\n",
      "  prepared_texts = [normalize_repeating_chars(normalize_whitespace(text), chars=chars, maxn=2) for text in tqdm_notebook(prepared_texts)]\n"
     ]
    },
    {
     "data": {
      "application/vnd.jupyter.widget-view+json": {
       "model_id": "65adbf0e7f5648a79d1ccd6d8f6ae701",
       "version_major": 2,
       "version_minor": 0
      },
      "text/plain": [
       "  0%|          | 0/36994 [00:00<?, ?it/s]"
      ]
     },
     "metadata": {},
     "output_type": "display_data"
    },
    {
     "name": "stderr",
     "output_type": "stream",
     "text": [
      "<ipython-input-188-0c48c5999e06>:7: TqdmDeprecationWarning: This function will be removed in tqdm==5.0.0\n",
      "Please use `tqdm.notebook.tqdm` instead of `tqdm.tqdm_notebook`\n",
      "  docs = [textacy.make_spacy_doc(x, nlp) for x in tqdm_notebook(prepared_texts)]\n"
     ]
    },
    {
     "data": {
      "application/vnd.jupyter.widget-view+json": {
       "model_id": "705ba581d35543b8837ceb5cfadc93a8",
       "version_major": 2,
       "version_minor": 0
      },
      "text/plain": [
       "  0%|          | 0/36994 [00:00<?, ?it/s]"
      ]
     },
     "metadata": {},
     "output_type": "display_data"
    },
    {
     "name": "stderr",
     "output_type": "stream",
     "text": [
      "<ipython-input-188-0c48c5999e06>:12: TqdmDeprecationWarning: This function will be removed in tqdm==5.0.0\n",
      "Please use `tqdm.notebook.tqdm` instead of `tqdm.tqdm_notebook`\n",
      "  for doc in tqdm_notebook(corpus)\n"
     ]
    },
    {
     "data": {
      "application/vnd.jupyter.widget-view+json": {
       "model_id": "14948d633ffe48ffac6b7f71da8bc479",
       "version_major": 2,
       "version_minor": 0
      },
      "text/plain": [
       "  0%|          | 0/36826 [00:00<?, ?it/s]"
      ]
     },
     "metadata": {},
     "output_type": "display_data"
    }
   ],
   "source": [
    "additional_stop_words |= {'good', 'nice', 'fun', 'like', 'itz', 'bad'}\n",
    "# prepared_texts = [\" \".join([t.lemma_ for t in d]) for d in tqdm_notebook(docs)]\n",
    "chars = \"\".join(set(\"\".join(prepared_texts)))\n",
    "prepared_texts = [\" \".join([t.lemma_ for t in d if (t.lemma_ not in additional_stop_words and t.lemma_ not in STOP_WORDS and t.pos_ != 'SPACE')]) for d in tqdm_notebook(docs)]\n",
    "prepared_texts = [normalize_repeating_chars(normalize_whitespace(text), chars=chars, maxn=2) for text in tqdm_notebook(prepared_texts)]\n",
    "\n",
    "docs = [textacy.make_spacy_doc(x, nlp) for x in tqdm_notebook(prepared_texts)]\n",
    "docs = [doc for doc in docs if len(doc) >= 2]\n",
    "corpus = textacy.Corpus(nlp, data=docs)\n",
    "normalized = [\n",
    "    doc._.to_terms_list(ngrams=[1], entities=True, as_strings=True, normalize='lemma')\n",
    "    for doc in tqdm_notebook(corpus)\n",
    "]"
   ]
  },
  {
   "cell_type": "code",
   "execution_count": 189,
   "metadata": {
    "ExecuteTime": {
     "end_time": "2021-01-15T11:49:14.554509Z",
     "start_time": "2021-01-15T11:45:30.746317Z"
    },
    "scrolled": true
   },
   "outputs": [
    {
     "name": "stderr",
     "output_type": "stream",
     "text": [
      "<ipython-input-189-412a62090f87>:13: TqdmDeprecationWarning: This function will be removed in tqdm==5.0.0\n",
      "Please use `tqdm.notebook.tqdm` instead of `tqdm.tqdm_notebook`\n",
      "  for doc in tqdm_notebook(corpus)\n"
     ]
    },
    {
     "data": {
      "application/vnd.jupyter.widget-view+json": {
       "model_id": "4e76ae021ef449e69aa992fdeac3cec5",
       "version_major": 2,
       "version_minor": 0
      },
      "text/plain": [
       "  0%|          | 0/36826 [00:00<?, ?it/s]"
      ]
     },
     "metadata": {},
     "output_type": "display_data"
    },
    {
     "name": "stdout",
     "output_type": "stream",
     "text": [
      "topic 0 : super   yea   mlg   mutant   omfg   ftw   meu   dope   super power   dum\n",
      "topic 1 : portal   rip   beat   level   refund   kill   achievement   bad   alien   ask\n",
      "topic 2 : gay   aids   brah   playing friend   experience gamer   terrific   evry   plastic   great need   need decent\n",
      "topic 3 : hat hat   shrek   hat hat hat   awesome hat   money want   finish time   kill lot   cartoon   pursuit   key bind\n",
      "topic 4 : classic   multiplayer mode   replayable   anal   endlessly   racist   kidney   lucas   catchy   old buy\n",
      "topic 5 : bloody   terrific   tom   love life   minha   people try   interesting think   alpha great   bambi   todos\n",
      "topic 6 : lol   word   russian   war   bomb   noob   help   total   baby   total war\n",
      "topic 7 : chinese   great new   rival   mods   mucho   mercenary   sheep   tony   abbott   find time\n",
      "topic 8 : ball   child   punch   shark   guard   slide   awesomeness   handsome   left   old play\n",
      "topic 9 : eat   freak   wonderful   confirm   aussie   come play   rad   play die   bend   undertale\n",
      "topic 10 : simulator   story   great   play   amazing   line   gta   rate   steal   graphic\n",
      "topic 11 : buy   hat   tf2   worth buy   pant   worth   diablo   cent   great buy   leave\n",
      "topic 12 : dis   think   gore   min   finish   interesting   enjoy   self   install   challenge\n",
      "topic 13 : shooter   person   funny   person shooter   rock   naked   reason   island   butt   3rd person\n",
      "topic 14 : love wait   cry play   butterfly   car gun   ummm   bond   underestimate   fps people   penetrate   new experience\n",
      "topic 15 : age   quit   soo   family   night   horse   rage quit   castle   friend recommend   chaos\n",
      "topic 16 : play   friend   great   play friend   love   amazing   free   great play   free play   probably\n",
      "topic 17 : shoot   team   fortress   team fortress   dude   actually   battlefield   class   play know   simulator play\n",
      "topic 18 : play   buy   fix   try   cry   sandbox   problem   great   bug   mac\n",
      "topic 19 : awesome   plz   graphic   awesome play   gameplay   lot   amazingly   mother   giant   storyline\n",
      "topic 20 : awsome   gud   date   joke   german   git   diffrent   skeleton   campain   customise\n",
      "topic 21 : reccomend   absolute   highly reccomend   great gameplay   reccomend people   gewd   gameplay awesome   great art   storytelling   judge\n",
      "topic 22 : bang   dlc   pass   episode   simple   payday   right   come   microtransaction   season\n",
      "topic 23 : cup   ina   massacre   putang   putang ina   kill shoot   pretty simple   relaxing   problem bug   curious\n",
      "topic 24 : play   great   time   new   lot   buy   people   thing   look   recommend\n",
      "topic 25 : worth   addict   money   wow   god   worth money   best   definitely   games   original\n",
      "topic 26 : ign   kill   head   chicken   hit   race   wear   care   everybody   legit\n",
      "topic 27 : minecraft   pls   dead   bore   plane   walk   tank   arma   remind   medieval\n",
      "topic 28 : pretty   zombie   dota   lag   okay   guess   train   meh   rockstar   haha\n",
      "topic 29 : ㅤㅤㅤㅤㅤㅤ   tie   ㅤㅤㅤㅤㅤㅤ ㅤㅤㅤㅤㅤㅤ   neck   rope   ios   ㅤㅤㅤㅤㅤㅤ ㅤㅤㅤㅤㅤㅤ ㅤㅤㅤㅤㅤㅤ   ㅤㅤㅤ ㅤㅤㅤㅤㅤㅤ ㅤㅤㅤㅤㅤㅤ   ㅤㅤㅤ ㅤㅤㅤㅤㅤㅤ   ㅤㅤㅤ ㅤㅤㅤㅤㅤㅤ ㅤㅤㅤㅤㅤㅤ ㅤㅤㅤㅤㅤㅤ\n",
      "topic 30 : shameful   recomend gamer   absolutely perfect   hell yeah   workshop   silky   finish mission   zombie apocolypse   playtime   look look\n",
      "topic 31 : hour   brilliant   play hour   feel   watch   row   saint   play   saint row   russians\n",
      "topic 32 : cod   stop   stop play   alot   puzzle   fall   realistic   play   ghost   heart\n",
      "topic 33 : yes   knife   drill   murder   com   great need   soooo   answer   yes yes   prisoner\n",
      "topic 34 : sick   heap   dog   buy play   save   arcade   money buy   buy   great work   wanna play\n",
      "topic 35 : rpg   truck   drive   relax   luv   worth buck   rly   great rpg   smart   element\n",
      "topic 36 : league   legend   league legend   recommend try   play right   allahu   scott   akbar   salt   ancient\n",
      "topic 37 : need   recommend   highly   server   highly recommend   hacker   ruin   work   player   multiplayer\n",
      "topic 38 : fps   yeah   download   time   mate   star   strategy   great   turn   fly\n",
      "topic 39 : long   easy   long time   little   bit   win   wait   play   play long   lose\n",
      "topic 40 : crap   cancer   piece   recommend buy   play recommend   log   una   piece crap   holy crap   buy\n",
      "topic 41 : life   play   recomend   half   hard   half life   mod   realy   history   bored\n",
      "topic 42 : review   read   rust   beautiful   hilarious   dragon   definitely recommend   hey   grow   pretty cool\n",
      "topic 43 : cool   free   old   people   spend   year   hate   crash   thank   minute\n",
      "topic 44 : epic   favourite   fallout   simply   simply amazing   2nd   pure   freakin   kojima   totaly\n",
      "topic 45 : pra   week   lady   nightmare   yeh   pie   pow   murica   time travel   acheivement\n",
      "topic 46 : amazing   amazing play   eye   action   jump   red   bad thing   love recommend   kawaii   alot time\n",
      "topic 47 : ing   man   holy   online   terraria   video   sorry   straight   funn   sun\n",
      "topic 48 : hell   fast   run   replay   scream   value   kind   replay value   drop   round\n",
      "topic 49 : pay   look   csgo   load   update   pay win   definetly   community   content   angry\n",
      "topic 50 : kid   know   platformer   play life   sonic   cake   mario   kill friend   chop   repeat\n",
      "topic 51 : boring   ban   dollar   cheat   definately   worth dollar   grate   handle   time love   doctor\n",
      "topic 52 : die   goat   real   live   real life   life   esta   brain   becuase   egg\n",
      "topic 53 : bad   shame   bad bad   play bad   est   noscope   recommend play friend   dance   update play   low end\n",
      "topic 54 : button   magic   press   indie   gamer   lover   mouse   talk   keyboard   nostalgia\n",
      "topic 55 : dayz   early   early access   access   buck   bro   dev   smash   dumb   feeling\n",
      "topic 56 : love   great   great love   way   great recommend   expect   recommend   sleep   great way   reality\n",
      "topic 57 : gun   skyrim   pew   teh   pew pew   emily   close   bet   skyrim gun   nerf\n",
      "topic 58 : bom   mto   simplesmente   viciante   mto bom   mind play   das   melee combat   short play   acc\n",
      "topic 59 : suck   addictive   waste   gr8   waste money   kinda   laggy   thing   blow   bear\n"
     ]
    }
   ],
   "source": [
    "import textacy.tm\n",
    "import textacy.vsm\n",
    "vectorizer = textacy.vsm.Vectorizer(\n",
    "    tf_type=\"linear\", \n",
    "    apply_idf=True, \n",
    "    idf_type=\"smooth\", \n",
    "    norm=\"l2\",\n",
    "    min_df=5, \n",
    "    max_df=0.95\n",
    ")\n",
    "normalized = [\n",
    "    doc._.to_terms_list(ngrams=[1, 2, 3], entities=True, as_strings=True, normalize='lemma')\n",
    "    for doc in tqdm_notebook(corpus)\n",
    "]\n",
    "\n",
    "doc_term_matrix = vectorizer.fit_transform(normalized)\n",
    "model = textacy.tm.TopicModel(\"lda\", n_topics=60)\n",
    "model.fit(doc_term_matrix)\n",
    "\n",
    "doc_topic_matrix = model.transform(doc_term_matrix)\n",
    "\n",
    "for topic_idx, top_terms in model.top_topic_terms(vectorizer.id_to_term, top_n=10):\n",
    "    print(\"topic\", topic_idx, \":\", \"   \".join(top_terms))"
   ]
  },
  {
   "cell_type": "code",
   "execution_count": 190,
   "metadata": {
    "ExecuteTime": {
     "end_time": "2021-01-15T11:56:39.831979Z",
     "start_time": "2021-01-15T11:51:56.565795Z"
    },
    "scrolled": false
   },
   "outputs": [
    {
     "name": "stderr",
     "output_type": "stream",
     "text": [
      "<ipython-input-190-694acaf087f4>:5: TqdmDeprecationWarning: This function will be removed in tqdm==5.0.0\n",
      "Please use `tqdm.notebook.tqdm` instead of `tqdm.tqdm_notebook`\n",
      "  prepared_texts = [\" \".join([t.lemma_ for t in d if (t.lemma_ not in additional_stop_words and t.lemma_ not in STOP_WORDS and t.pos_ != 'SPACE')]) for d in tqdm_notebook(docs)]\n"
     ]
    },
    {
     "data": {
      "application/vnd.jupyter.widget-view+json": {
       "model_id": "b1b18d1d1b4243199eb5ac9c5b4b3830",
       "version_major": 2,
       "version_minor": 0
      },
      "text/plain": [
       "  0%|          | 0/36826 [00:00<?, ?it/s]"
      ]
     },
     "metadata": {},
     "output_type": "display_data"
    },
    {
     "name": "stderr",
     "output_type": "stream",
     "text": [
      "<ipython-input-190-694acaf087f4>:6: TqdmDeprecationWarning: This function will be removed in tqdm==5.0.0\n",
      "Please use `tqdm.notebook.tqdm` instead of `tqdm.tqdm_notebook`\n",
      "  prepared_texts = [normalize_repeating_chars(normalize_whitespace(text), chars=chars, maxn=2) for text in tqdm_notebook(prepared_texts)]\n"
     ]
    },
    {
     "data": {
      "application/vnd.jupyter.widget-view+json": {
       "model_id": "dec60d29af2047069cbf1acd6824586a",
       "version_major": 2,
       "version_minor": 0
      },
      "text/plain": [
       "  0%|          | 0/36826 [00:00<?, ?it/s]"
      ]
     },
     "metadata": {},
     "output_type": "display_data"
    },
    {
     "name": "stderr",
     "output_type": "stream",
     "text": [
      "<ipython-input-190-694acaf087f4>:8: TqdmDeprecationWarning: This function will be removed in tqdm==5.0.0\n",
      "Please use `tqdm.notebook.tqdm` instead of `tqdm.tqdm_notebook`\n",
      "  docs = [textacy.make_spacy_doc(x, nlp) for x in tqdm_notebook(prepared_texts)]\n"
     ]
    },
    {
     "data": {
      "application/vnd.jupyter.widget-view+json": {
       "model_id": "d73e5cb20a4449dcba7b2f695e2d6b3a",
       "version_major": 2,
       "version_minor": 0
      },
      "text/plain": [
       "  0%|          | 0/36826 [00:00<?, ?it/s]"
      ]
     },
     "metadata": {},
     "output_type": "display_data"
    },
    {
     "name": "stderr",
     "output_type": "stream",
     "text": [
      "<ipython-input-190-694acaf087f4>:13: TqdmDeprecationWarning: This function will be removed in tqdm==5.0.0\n",
      "Please use `tqdm.notebook.tqdm` instead of `tqdm.tqdm_notebook`\n",
      "  for doc in tqdm_notebook(corpus)\n"
     ]
    },
    {
     "data": {
      "application/vnd.jupyter.widget-view+json": {
       "model_id": "a1f31200dad842be8520fb7db787c927",
       "version_major": 2,
       "version_minor": 0
      },
      "text/plain": [
       "  0%|          | 0/36541 [00:00<?, ?it/s]"
      ]
     },
     "metadata": {},
     "output_type": "display_data"
    }
   ],
   "source": [
    "portugese |= {'simplesmente', 'viciante'}\n",
    "additional_stop_words |= {'good', 'nice', 'fun', 'like', 'itz', 'bad', 'love'}\n",
    "# prepared_texts = [\" \".join([t.lemma_ for t in d]) for d in tqdm_notebook(docs)]\n",
    "chars = \"\".join(set(\"\".join(prepared_texts)))\n",
    "prepared_texts = [\" \".join([t.lemma_ for t in d if (t.lemma_ not in additional_stop_words and t.lemma_ not in STOP_WORDS and t.pos_ != 'SPACE')]) for d in tqdm_notebook(docs)]\n",
    "prepared_texts = [normalize_repeating_chars(normalize_whitespace(text), chars=chars, maxn=2) for text in tqdm_notebook(prepared_texts)]\n",
    "\n",
    "docs = [textacy.make_spacy_doc(x, nlp) for x in tqdm_notebook(prepared_texts)]\n",
    "docs = [doc for doc in docs if len(doc) >= 2]\n",
    "corpus = textacy.Corpus(nlp, data=docs)\n",
    "normalized = [\n",
    "    doc._.to_terms_list(ngrams=[1], entities=True, as_strings=True, normalize='lemma')\n",
    "    for doc in tqdm_notebook(corpus)\n",
    "]"
   ]
  },
  {
   "cell_type": "code",
   "execution_count": 191,
   "metadata": {
    "ExecuteTime": {
     "end_time": "2021-01-15T11:56:41.240178Z",
     "start_time": "2021-01-15T11:56:39.833438Z"
    }
   },
   "outputs": [
    {
     "name": "stderr",
     "output_type": "stream",
     "text": [
      "<ipython-input-191-9dabadff8213>:2: TqdmDeprecationWarning: This function will be removed in tqdm==5.0.0\n",
      "Please use `tqdm.notebook.tqdm` instead of `tqdm.tqdm_notebook`\n",
      "  for doc in tqdm_notebook(docs):\n"
     ]
    },
    {
     "data": {
      "application/vnd.jupyter.widget-view+json": {
       "model_id": "a4131b650fa84e4e9f0c4ca495233be1",
       "version_major": 2,
       "version_minor": 0
      },
      "text/plain": [
       "  0%|          | 0/36541 [00:00<?, ?it/s]"
      ]
     },
     "metadata": {},
     "output_type": "display_data"
    },
    {
     "data": {
      "text/plain": [
       "36528"
      ]
     },
     "execution_count": 191,
     "metadata": {},
     "output_type": "execute_result"
    }
   ],
   "source": [
    "new_docs = []\n",
    "for doc in tqdm_notebook(docs):\n",
    "    ok = len(set(str(doc)) & non_english) == 0\n",
    "    for t in doc:\n",
    "        if t.text in portugese or t.text in german or t.text in spanish:\n",
    "            ok = False\n",
    "    if ok:\n",
    "        new_docs.append(doc)\n",
    "len(new_docs)"
   ]
  },
  {
   "cell_type": "code",
   "execution_count": 192,
   "metadata": {
    "ExecuteTime": {
     "end_time": "2021-01-15T11:56:44.584352Z",
     "start_time": "2021-01-15T11:56:41.241492Z"
    }
   },
   "outputs": [
    {
     "name": "stderr",
     "output_type": "stream",
     "text": [
      "<ipython-input-192-4f027cb746fa>:7: TqdmDeprecationWarning: This function will be removed in tqdm==5.0.0\n",
      "Please use `tqdm.notebook.tqdm` instead of `tqdm.tqdm_notebook`\n",
      "  for doc in tqdm_notebook(corpus)\n"
     ]
    },
    {
     "data": {
      "application/vnd.jupyter.widget-view+json": {
       "model_id": "c3216304572449969dc86e6d62c3ca6e",
       "version_major": 2,
       "version_minor": 0
      },
      "text/plain": [
       "  0%|          | 0/36528 [00:00<?, ?it/s]"
      ]
     },
     "metadata": {},
     "output_type": "display_data"
    }
   ],
   "source": [
    "import gc\n",
    "docs = new_docs\n",
    "gc.collect()\n",
    "corpus = textacy.Corpus(nlp, data=docs)\n",
    "normalized = [\n",
    "    doc._.to_terms_list(ngrams=[1], entities=True, as_strings=True, normalize='lemma')\n",
    "    for doc in tqdm_notebook(corpus)\n",
    "]"
   ]
  },
  {
   "cell_type": "code",
   "execution_count": 193,
   "metadata": {
    "ExecuteTime": {
     "end_time": "2021-01-15T12:00:31.405299Z",
     "start_time": "2021-01-15T11:56:58.082034Z"
    },
    "scrolled": true
   },
   "outputs": [
    {
     "name": "stderr",
     "output_type": "stream",
     "text": [
      "<ipython-input-193-412a62090f87>:13: TqdmDeprecationWarning: This function will be removed in tqdm==5.0.0\n",
      "Please use `tqdm.notebook.tqdm` instead of `tqdm.tqdm_notebook`\n",
      "  for doc in tqdm_notebook(corpus)\n"
     ]
    },
    {
     "data": {
      "application/vnd.jupyter.widget-view+json": {
       "model_id": "5e24eb4dcfeb42919e0bb5b14786161c",
       "version_major": 2,
       "version_minor": 0
      },
      "text/plain": [
       "  0%|          | 0/36528 [00:00<?, ?it/s]"
      ]
     },
     "metadata": {},
     "output_type": "display_data"
    },
    {
     "name": "stdout",
     "output_type": "stream",
     "text": [
      "topic 0 : addictive   ruin life   sell   soul   cure   highly addictive   warn   pretty awesome   meth   freddy\n",
      "topic 1 : fps   dota   valve   forever   pass   fps play   great fps   master   haha   expect\n",
      "topic 2 : stop   rip   stop play   break   source   alien   spooky   sword   play   dem\n",
      "topic 3 : hat   eat   hat simulator   cute   simulator   key   confirm   pretty play   hat hat   yeh\n",
      "topic 4 : chicken   esta   tie   accidentally   handsome   pero   kill   kill chicken   neck   rope\n",
      "topic 5 : play   great   time   buy   amazing   want   story   people   thing   recommend\n",
      "topic 6 : run   super   computer   day   head   review   sex   set   write   chapter\n",
      "topic 7 : freak   nostalgia   hear   witch   waifu   loud   engage   layout   noise   report\n",
      "topic 8 : simple   overkill   understand   charm   visual novel   novel   lady   insanely   cube   pick play\n",
      "topic 9 : scary   horror   definately   play little   definately recommend   exellent   adictive   paint   lil   wonder\n",
      "topic 10 : life   alright   real   goat   hacker   think   try   ill   fallout   real life\n",
      "topic 11 : ending   una   terrific   story amazing   alert   people die   hvae   playing friend   spoiler alert   coach\n",
      "topic 12 : english   script   scott   play hand   murica   flatout   story time   need team   end highly   guns\n",
      "topic 13 : hour   play hour   strategy   turn   base   watch   play   bored   russians   turn base\n",
      "topic 14 : awesome   look   graphic   wtf   plz   mother   forward   look forward   drug   card\n",
      "topic 15 : release   son   creativity   killing   wait release   commit   incomplete   finish day   different skill   glitch fix\n",
      "topic 16 : buy   steam   tf2   guy   lot   play   cry   awesome play   come   awesome\n",
      "topic 17 : relax   drive   truck   drill   change   browser   simulator   want try   work art   great rpg\n",
      "topic 18 : ing   holy   gay   great need   aids   zombies   cash   sem   holy crap   ing play\n",
      "topic 19 : download   thing   sandbox   people   tis   hope   amazing play   leg   great thing   sun\n",
      "topic 20 : age   quit   soo   family   horse   castle   night   hard time   enhance   friend recommend\n",
      "topic 21 : mate   play time   luv   funniest   download mod   butterfly   funniest play   underestimate   download   play\n",
      "topic 22 : pretty   zombie   ign   borderland   multiplayer   player   knife   single   loot   crap\n",
      "topic 23 : social   ㅤㅤㅤㅤㅤㅤ   wat   rly   ㅤㅤㅤㅤㅤㅤ ㅤㅤㅤㅤㅤㅤ   tom   social life   oce   char   life mod\n",
      "topic 24 : simulator   recommend   highly   story   highly recommend   great   story line   great story   rts   line\n",
      "topic 25 : civilization   allahu   akbar   salt   allahu akbar   add content   brush   friend single   spend lot   vivid\n",
      "topic 26 : yes   girl   uninstall   ask   button   microtransaction   remove   hot   soooo   murder\n",
      "topic 27 : minecraft   space   terraria   build   building   block   dayz   future   online play   sooooo\n",
      "topic 28 : cool   long   time   wait   stuff   kid   omg   reccomend   little   long time\n",
      "topic 29 : play play   dank   meme   btw   rule   play   lmao   golden   hold   play freind\n",
      "topic 30 : pay   lover   snipe   chest   friendship   girlfriend   recommend enjoy   freeze   kawaii   play wait\n",
      "topic 31 : yeah   hell   ban   cut   heck   kind   badge   hell yeah   camera   cheat\n",
      "topic 32 : great   play   lag   competitive   mac   strike   counter   recommend   lot   counter strike\n",
      "topic 33 : cod   gun   skyrim   gr8   alot   far   fall   kinda   pew   awesome awesome\n",
      "topic 34 : portal   puzzle   physics   brain   heart   horrible   hook   send   film   explosion\n",
      "topic 35 : dayz   early   access   early access   bloody   scare   bro   smash   dumb   wait play\n",
      "topic 36 : shooter   person   person shooter   rock   naked   rust   boy   possibly   butt   wake\n",
      "topic 37 : waste   money   waste money   feel   minute   car   load   actually   great friend   rob\n",
      "topic 38 : free   epic   free play   gud   bom   play   row   soundtrack   saint   retro\n",
      "topic 39 : pls   bore   way   beautiful   hilarious   combat   badass   potential   poop   rating\n",
      "topic 40 : worth   need   addict   god   worth money   rpg   money   win   click   definitely\n",
      "topic 41 : ball   face   child   punch   shark   dino   guard   cup   awesomeness   poo\n",
      "topic 42 : sick   heap   pra   unusual   nah   sound effect   seizure   pow   resident   need change\n",
      "topic 43 : play   friend   great   play friend   great play   funny   team   fortress   team fortress   friend play\n",
      "topic 44 : amazing   fast   rate   hard   favourite   half life   dlc   half   realy   laggy\n",
      "topic 45 : kill   shoot   die   action   survival   brilliant   blow   survive   diablo   jump\n",
      "topic 46 : platformer   step   com   sonic   cake   repeat   irl   mario   kill friend   cook\n",
      "topic 47 : star   okay   war   guess   star war   basicly   hrs   cell   alright guess   banana\n",
      "topic 48 : awsome   bang   mlg   german   diffrent   campain   stratagy   win play   kys   learn new\n",
      "topic 49 : suppose   play pro   pizza   gunpoint   purge   defend   dungeon   suit   need   great wish\n",
      "topic 50 : press   era   animation   random   poker   tbh   naked man   acess   gamble   gambling\n",
      "topic 51 : year   recomend   f2p   perfect   payday   nearly   alpha   year old   hit   hard play\n",
      "topic 52 : update   dead   csgo   league   worth buy   legend   community   new   leave   definetly\n",
      "topic 53 : rat   save   funn   money buy   nightmare   straight   week   slaughter   save money   money\n",
      "topic 54 : boring   self   great time   opinion   waster   bye   time waster   time   sit   pure\n",
      "topic 55 : lol   dollar   help   baby   worth dollar   question   emotion   treat   doctor   genuinely\n",
      "topic 56 : server   old   word   hate   finish   russian   join   crash   wish   time\n",
      "topic 57 : suck   incredibly   find   easy play   lvl   sever   muck   thing great   recommend gamer   atmosphere\n",
      "topic 58 : work   fix   play   spend   dis   problem   bug   open   need   buy\n",
      "topic 59 : mod   man   absolutely   know   garry   noob   cancer   rage   garry mod   fly\n"
     ]
    }
   ],
   "source": [
    "import textacy.tm\n",
    "import textacy.vsm\n",
    "vectorizer = textacy.vsm.Vectorizer(\n",
    "    tf_type=\"linear\", \n",
    "    apply_idf=True, \n",
    "    idf_type=\"smooth\", \n",
    "    norm=\"l2\",\n",
    "    min_df=5, \n",
    "    max_df=0.95\n",
    ")\n",
    "normalized = [\n",
    "    doc._.to_terms_list(ngrams=[1, 2, 3], entities=True, as_strings=True, normalize='lemma')\n",
    "    for doc in tqdm_notebook(corpus)\n",
    "]\n",
    "\n",
    "doc_term_matrix = vectorizer.fit_transform(normalized)\n",
    "model = textacy.tm.TopicModel(\"lda\", n_topics=60)\n",
    "model.fit(doc_term_matrix)\n",
    "\n",
    "doc_topic_matrix = model.transform(doc_term_matrix)\n",
    "\n",
    "for topic_idx, top_terms in model.top_topic_terms(vectorizer.id_to_term, top_n=10):\n",
    "    print(\"topic\", topic_idx, \":\", \"   \".join(top_terms))"
   ]
  },
  {
   "cell_type": "code",
   "execution_count": 194,
   "metadata": {
    "ExecuteTime": {
     "end_time": "2021-01-15T12:12:24.777671Z",
     "start_time": "2021-01-15T12:10:23.138376Z"
    },
    "scrolled": true
   },
   "outputs": [
    {
     "name": "stderr",
     "output_type": "stream",
     "text": [
      "<ipython-input-194-4e67a49fe525>:13: TqdmDeprecationWarning: This function will be removed in tqdm==5.0.0\n",
      "Please use `tqdm.notebook.tqdm` instead of `tqdm.tqdm_notebook`\n",
      "  for doc in tqdm_notebook(corpus)\n"
     ]
    },
    {
     "data": {
      "application/vnd.jupyter.widget-view+json": {
       "model_id": "04ec2737c2214a5e9b0594ffd4fa5b76",
       "version_major": 2,
       "version_minor": 0
      },
      "text/plain": [
       "  0%|          | 0/36528 [00:00<?, ?it/s]"
      ]
     },
     "metadata": {},
     "output_type": "display_data"
    },
    {
     "name": "stdout",
     "output_type": "stream",
     "text": [
      "topic 0 : addictive   definately   fantasy   ace   compelling   great   troop   lara   stupidly   ftw\n",
      "topic 1 : lot   recommend   highly   space   great   fix   bug   csgo   break   add\n",
      "topic 2 : sem   undertale   fap   mejor   del   confusion   rhythm   mucho   compra   speaker\n",
      "topic 3 : piece   destroy   imo   properly   development   bright   practice   gory   writing   flawless\n",
      "topic 4 : end   fantastic   great   absolutely   skin   play   half   actually   blow   house\n",
      "topic 5 : totally   fly   hilarious   giant   different   blood   gore   change   exciting   heist\n",
      "topic 6 : una   nuf   handsome   sega   mods   flippin   interactivity   borderlands   bargin   pull\n",
      "topic 7 : absolute   gaming   sooooo   loud   soooooo   noise   worthy   dope   blah   majestic\n",
      "topic 8 : short   little   simple   goat   visual   read   control   understand   world   weird\n",
      "topic 9 : mech   credit   lame   adictive   cartoony   invest   nerd   greate   thin   beard\n",
      "topic 10 : kill   bit   chicken   original   till   everybody   funn   whilst   tiny   framerate\n",
      "topic 11 : mod   epic   super   fallout   kick   garry   gamemode   heart   garry mod   survive\n",
      "topic 12 : fps   waste   old   story   dlc   enjoy   play   great   rate   hate\n",
      "topic 13 : addict   rpg   god   experience   happen   stick   entertaining   finally   park   drink\n",
      "topic 14 : stop   history   family   assassin   play   night   castle   country   grand   power\n",
      "topic 15 : online   terraria   robot   video   date   tear   straight   pirate   number   yay\n",
      "topic 16 : free   f2p   ball   stupid   platformer   face   child   talk   guard   punch\n",
      "topic 17 : steam   want   dis   feel   meet   install   gmod   content   play   self\n",
      "topic 18 : multiplayer   planet   tie   unstable   meu   oceania   mw2   bush   adapt   neck\n",
      "topic 19 : pra   boob   shrek   pow   ina   putang   jogar   bolt   federation   ac4\n",
      "topic 20 : guy   server   computer   join   mate   probably   let   walk   steal   magic\n",
      "topic 21 : crash   valve   favourite   mac   help   bring   pro   dude   memory   deserve\n",
      "topic 22 : load   physics   ninja   explosion   film   motion   cup   cell   half hour   michael\n",
      "topic 23 : dayz   early   access   wanna   bom   smash   bro   impressive   suit   mto\n",
      "topic 24 : gay   playing   aids   terrific   spiral   acess   evry   outdated   shameful   testament\n",
      "topic 25 : damn   scream   girl   althought   homie   obama   loader   stratagey   lookin   grill\n",
      "topic 26 : shoot   die   stuff   action   horror   pant   jump   release   mother   humour\n",
      "topic 27 : snail   rep   misson   whant   singe   stratigic   abbott   invader   wonky   tony\n",
      "topic 28 : work   team   classic   gaben   replayability   earth   great   definently   replayable   endlessly\n",
      "topic 29 : esta   essential   lady   pero   geralt   game2   royal   todos   tony   asians\n",
      "topic 30 : wat   pie   arnt   delightfully   infinity   stylish   wc3   hackers   descent   rival\n",
      "topic 31 : boring   know   pay   day   ban   terrible   adventure   pack   hack   knife\n",
      "topic 32 : lol   bloody   wish   click   thank   mind   masterpiece   point   baby   total\n",
      "topic 33 : pretty   zombie   yes   lag   plane   hit   wrong   race   murder   play\n",
      "topic 34 : puzzle   portal   easily   brain   hook   ruin life   general   intreste   tbh   narrator\n",
      "topic 35 : update   new   hope   sandbox   league   legend   wonderful   close   freak   combine\n",
      "topic 36 : ㅤㅤㅤㅤㅤㅤ   allahu   akbar   salt   gordon   ㅤㅤㅤ   ㅤㅤㅤ ㅤㅤㅤㅤㅤㅤ ㅤㅤㅤㅤㅤㅤ ㅤㅤㅤㅤㅤㅤ   relieve   alternate   mcdonald\n",
      "topic 37 : awesome   amazing   graphic   gameplay   great   play   storyline   beautiful   reason   recommend\n",
      "topic 38 : life   kid   word   star   heap   sick   war   live   bomb   killer\n",
      "topic 39 : today   doom   sequal   chaotic   manage   ancient   sh!t   keyboard mouse   doto   hybrid\n",
      "topic 40 : cool   fast   fan   pace   series   great   realistic   finish   simply   play\n",
      "topic 41 : buy   money   spend   review   save   scare   sword   boot   rat   woman\n",
      "topic 42 : pass   bang   drill   parkour   whiskey   usual   skype   minha   murica   plat\n",
      "topic 43 : trip   rouge   tom   undead   whale   tom clancy   clancy   srsly   mah   splinter\n",
      "topic 44 : play   great   time   buy   people   amazing   want   hour   recommend   look\n",
      "topic 45 : people   try   think   man   moba   interesting   ill   quick   door   pull\n",
      "topic 46 : dota   movie   forever   haha   confirm   cure   deer   autism   belive   worthwhile\n",
      "topic 47 : download   map   popular   grind   rewarding   tactic   small   smart   atmospheric   scott\n",
      "topic 48 : gud   win   lose   luv   hold   git   customise   shift   roman   playin\n",
      "topic 49 : gun   skyrim   eat   gr8   pew   teh   competetive   becasue   jet   landscape\n",
      "topic 50 : awsome   cod   far   alot   excellent   right   okay   watch   play   guess\n",
      "topic 51 : cheap   build   level   tower   games   achievement   tis   alien   yea   source\n",
      "topic 52 : funny   community   especially   soundtrack   entertain   mechanic   create   engage   chill   retro\n",
      "topic 53 : hard   play   player   recomend   hacker   great   easy   wow   sale   duty\n",
      "topic 54 : ign   ing   suck   laggy   holy   bear   hand   kinda   reccommend   character\n",
      "topic 55 : play   friend   great   time   hour   worth   wait   long   reccomend   year\n",
      "topic 56 : hat   shooter   tf2   person   strategy   brilliant   scary   dead   definitely   turn\n",
      "topic 57 : minecraft   survival   creative   dayz   warfare   pvp   touch   risk   awhile   unlike\n",
      "topic 58 : simulator   need   yeah   hell   start   run   crap   borderland   seriously   sex\n",
      "topic 59 : car   test   ask   party   ghost   step   prepare   escape   bethesda   sonic\n"
     ]
    }
   ],
   "source": [
    "import textacy.tm\n",
    "import textacy.vsm\n",
    "vectorizer = textacy.vsm.Vectorizer(\n",
    "    tf_type=\"linear\", \n",
    "    apply_idf=True, \n",
    "    idf_type=\"smooth\", \n",
    "    norm=\"l2\",\n",
    "    min_df=5, \n",
    "    max_df=0.95\n",
    ")\n",
    "normalized = [\n",
    "    doc._.to_terms_list(ngrams=[1], entities=True, as_strings=True, normalize='lemma')\n",
    "    for doc in tqdm_notebook(corpus)\n",
    "]\n",
    "\n",
    "doc_term_matrix = vectorizer.fit_transform(normalized)\n",
    "model = textacy.tm.TopicModel(\"lda\", n_topics=60)\n",
    "model.fit(doc_term_matrix)\n",
    "\n",
    "doc_topic_matrix = model.transform(doc_term_matrix)\n",
    "\n",
    "for topic_idx, top_terms in model.top_topic_terms(vectorizer.id_to_term, top_n=10):\n",
    "    print(\"topic\", topic_idx, \":\", \"   \".join(top_terms))"
   ]
  },
  {
   "cell_type": "code",
   "execution_count": 198,
   "metadata": {
    "ExecuteTime": {
     "end_time": "2021-01-15T12:20:05.004552Z",
     "start_time": "2021-01-15T12:15:24.559756Z"
    }
   },
   "outputs": [
    {
     "name": "stderr",
     "output_type": "stream",
     "text": [
      "<ipython-input-198-94932c21aadb>:2: TqdmDeprecationWarning: This function will be removed in tqdm==5.0.0\n",
      "Please use `tqdm.notebook.tqdm` instead of `tqdm.tqdm_notebook`\n",
      "  prepared_texts = [\" \".join([t.lemma_ for t in d if len(set(t.lemma_) & strang_whitespaces) == 0]) for d in tqdm_notebook(docs)]\n"
     ]
    },
    {
     "data": {
      "application/vnd.jupyter.widget-view+json": {
       "model_id": "b8df5284e9a549f391b068364d33d980",
       "version_major": 2,
       "version_minor": 0
      },
      "text/plain": [
       "  0%|          | 0/36528 [00:00<?, ?it/s]"
      ]
     },
     "metadata": {},
     "output_type": "display_data"
    },
    {
     "name": "stderr",
     "output_type": "stream",
     "text": [
      "<ipython-input-198-94932c21aadb>:3: TqdmDeprecationWarning: This function will be removed in tqdm==5.0.0\n",
      "Please use `tqdm.notebook.tqdm` instead of `tqdm.tqdm_notebook`\n",
      "  prepared_texts = [normalize_repeating_chars(normalize_whitespace(text), chars=chars, maxn=2) for text in tqdm_notebook(prepared_texts)]\n"
     ]
    },
    {
     "data": {
      "application/vnd.jupyter.widget-view+json": {
       "model_id": "0e12ff1898dc4907ac18fdd1a33f9a0e",
       "version_major": 2,
       "version_minor": 0
      },
      "text/plain": [
       "  0%|          | 0/36528 [00:00<?, ?it/s]"
      ]
     },
     "metadata": {},
     "output_type": "display_data"
    },
    {
     "name": "stderr",
     "output_type": "stream",
     "text": [
      "<ipython-input-198-94932c21aadb>:5: TqdmDeprecationWarning: This function will be removed in tqdm==5.0.0\n",
      "Please use `tqdm.notebook.tqdm` instead of `tqdm.tqdm_notebook`\n",
      "  docs = [textacy.make_spacy_doc(x, nlp) for x in tqdm_notebook(prepared_texts)]\n"
     ]
    },
    {
     "data": {
      "application/vnd.jupyter.widget-view+json": {
       "model_id": "6e62aed400ef4836b3e1b6839ba2feab",
       "version_major": 2,
       "version_minor": 0
      },
      "text/plain": [
       "  0%|          | 0/36528 [00:00<?, ?it/s]"
      ]
     },
     "metadata": {},
     "output_type": "display_data"
    },
    {
     "name": "stderr",
     "output_type": "stream",
     "text": [
      "<ipython-input-198-94932c21aadb>:10: TqdmDeprecationWarning: This function will be removed in tqdm==5.0.0\n",
      "Please use `tqdm.notebook.tqdm` instead of `tqdm.tqdm_notebook`\n",
      "  for doc in tqdm_notebook(corpus)\n"
     ]
    },
    {
     "data": {
      "application/vnd.jupyter.widget-view+json": {
       "model_id": "977e3be0089e49b0893c0afaaeec0a51",
       "version_major": 2,
       "version_minor": 0
      },
      "text/plain": [
       "  0%|          | 0/36515 [00:00<?, ?it/s]"
      ]
     },
     "metadata": {},
     "output_type": "display_data"
    }
   ],
   "source": [
    "strang_whitespaces = set('   ㅤㅤㅤ   ㅤㅤㅤ ㅤㅤㅤㅤㅤㅤ ㅤㅤㅤㅤㅤㅤ ㅤㅤㅤㅤㅤㅤ   ')\n",
    "prepared_texts = [\" \".join([t.lemma_ for t in d if len(set(t.lemma_) & strang_whitespaces) == 0]) for d in tqdm_notebook(docs)]\n",
    "prepared_texts = [normalize_repeating_chars(normalize_whitespace(text), chars=chars, maxn=2) for text in tqdm_notebook(prepared_texts)]\n",
    "\n",
    "docs = [textacy.make_spacy_doc(x, nlp) for x in tqdm_notebook(prepared_texts)]\n",
    "docs = [doc for doc in docs if len(doc) >= 2]\n",
    "corpus = textacy.Corpus(nlp, data=docs)\n",
    "normalized = [\n",
    "    doc._.to_terms_list(ngrams=[1], entities=True, as_strings=True, normalize='lemma')\n",
    "    for doc in tqdm_notebook(corpus)\n",
    "]"
   ]
  },
  {
   "cell_type": "code",
   "execution_count": 199,
   "metadata": {
    "ExecuteTime": {
     "end_time": "2021-01-15T12:22:01.303521Z",
     "start_time": "2021-01-15T12:20:05.005948Z"
    },
    "scrolled": true
   },
   "outputs": [
    {
     "name": "stderr",
     "output_type": "stream",
     "text": [
      "<ipython-input-199-4e67a49fe525>:13: TqdmDeprecationWarning: This function will be removed in tqdm==5.0.0\n",
      "Please use `tqdm.notebook.tqdm` instead of `tqdm.tqdm_notebook`\n",
      "  for doc in tqdm_notebook(corpus)\n"
     ]
    },
    {
     "data": {
      "application/vnd.jupyter.widget-view+json": {
       "model_id": "b14736ed2aba4c728d1f7a11e23b504e",
       "version_major": 2,
       "version_minor": 0
      },
      "text/plain": [
       "  0%|          | 0/36515 [00:00<?, ?it/s]"
      ]
     },
     "metadata": {},
     "output_type": "display_data"
    },
    {
     "name": "stdout",
     "output_type": "stream",
     "text": [
      "topic 0 : omg   sandbox   let   hero   hope   cut   pro   hype   fail   feeling\n",
      "topic 1 : use   real   goat   tell   problem   eye   life   encounter   snipe   guide\n",
      "topic 2 : party   step   cake   sonic   mario   repeat   mixture   cook   dumb   ice\n",
      "topic 3 : civilization   special   quickly   hrs   record   wich   nonetheless   oppose   postal   downvote\n",
      "topic 4 : alot   far   cod   button   girl   fall   press   play   hot   instead\n",
      "topic 5 : hell   rate   bring   memory   sim   borderland   thumb   addon   coop   movie\n",
      "topic 6 : pass   witch   sooooo   whiskey   population   skype   princess   frag   majestic   frantic\n",
      "topic 7 : gun   skyrim   gr8   pew   close   fav   recomende   teh   cup   jet\n",
      "topic 8 : need   simulator   addict   god   edition   profit   christ   infinite   dinos   premium\n",
      "topic 9 : history   quit   style   arcade   low   fighting   ww2   country   dog   today\n",
      "topic 10 : drill   lady   chinese   handsome   rival   acheivement   flashbang   conquest   flatout   mercenary\n",
      "topic 11 : friend   play   great   wow   team   add   content   gmod   dinosaur   diablo\n",
      "topic 12 : stop   chicken   play   freak   leave   everybody   language   irl   cutscene   waifu\n",
      "topic 13 : highly   graphic   recommend   great   strategy   word   easy   combat   beautiful   storyline\n",
      "topic 14 : pretty   zombie   lag   perfect   reason   rock   naked   rust   kill   store\n",
      "topic 15 : lot   dota   valve   dead   endless   mode   map   meet   dragon   remind\n",
      "topic 16 : kill   way   portal   puzzle   feel   rip   minute   load   realy   especially\n",
      "topic 17 : die   ball   face   league   legend   child   guard   punch   shark   flag\n",
      "topic 18 : bored   idea   dank   meme   pewdiepie   sakura   jumpscares   dang   racial   npcs\n",
      "topic 19 : cool   stuff   rank   mlg   dos   como   recommand   autism   fez   jogos\n",
      "topic 20 : fps   update   crash   come   new   time   play   great   min   beta\n",
      "topic 21 : esta   awkward   pero   geralt   kamikaze   todos   hvae   speaker   3ds   expert\n",
      "topic 22 : shoot   server   run   action   probably   kick   join   damn   pant   dude\n",
      "topic 23 : boring   wish   bloody   dollar   absolute   door   developer   toilet   knowledge   omfg\n",
      "topic 24 : life   hat   ign   people   scary   ruin   horror   half   definitely   excellent\n",
      "topic 25 : amazing   story   gameplay   dlc   day   great   graphic   finish   play   age\n",
      "topic 26 : week   essential   nightmare   brah   mejor   del   plat   mucho   butterfly   wif\n",
      "topic 27 : free   wait   dayz   play   thank   car   rts   fan   f2p   tho\n",
      "topic 28 : duty   realistic   change   relax   sweet   drive   truck   boot   clone   crappy\n",
      "topic 29 : multiplayer   pra   option   sh*t   boob   shrek   mw2   pow   great   bankrupt\n",
      "topic 30 : fast   sale   pace   cause   sell   dark   stupid   pick   soul   control\n",
      "topic 31 : bom   trip   mto   scott   magicka   undead   mah   format   das   acc\n",
      "topic 32 : play   great   time   buy   recommend   people   story   amazing   want   hour\n",
      "topic 33 : hour   know   spend   long   gud   play   mac   review   time   date\n",
      "topic 34 : russian   expect   grate   allahu   worm   spiral   mentally   whant   funner   repeditive\n",
      "topic 35 : lol   favorite   help   head   experience   truly   masterpiece   learn   payday   heist\n",
      "topic 36 : work   fix   dis   bug   right   enjoyable   big   open   knife   giant\n",
      "topic 37 : super   yea   mutant   tie   dam   meu   dope   neck   rope   flood\n",
      "topic 38 : reccomend   kid   release   alpha   games   video   potential   dev   yell   luv\n",
      "topic 39 : ending   loud   noise   oceania   lunch   sh!t   walker   beep   tony   gunshot\n",
      "topic 40 : shooter   steam   tf2   person   platformer   simply   garry   garry mod   play   mod\n",
      "topic 41 : recommend   think   try   favourite   online   brilliant   simple   totally   play   classic\n",
      "topic 42 : skin   regret   okay   guess   trailer   afford   costume   puzzler   explanation   fluent\n",
      "topic 43 : download   una   hl3   comeback   slam   game2   actualy   invalid   midnight   terrified\n",
      "topic 44 : alright   fallout   couple   com   emily   couple hour   initial   happend   nao   regard\n",
      "topic 45 : enjoy   year   play   fight   read   scare   music   boss   match   trust\n",
      "topic 46 : bang   hectic   nuf   playin   lick   rlly   competive   tomorrow   loader   sheep\n",
      "topic 47 : awesome   awsome   ing   holy   plz   wtf   skill   play   badass   gift\n",
      "topic 48 : old   look   fantastic   challenge   interesting   intense   level   self   frustrating   opinion\n",
      "topic 49 : man   space   terraria   hate   rage   monster   version   soundtrack   planet   hack\n",
      "topic 50 : player   hacker   mmo   ban   star   single   noob   bomb   click   gamer\n",
      "topic 51 : epic   gay   aids   rly   arnt   starcraft   gane   memorable   evry   compra\n",
      "topic 52 : pay   little   win   bit   lose   blow   war   great   pls   play\n",
      "topic 53 : buy   worth   money   waste   want   rpg   actually   price   cheap   great\n",
      "topic 54 : gewd   sega   ina   putang   infinity   wicked   starship   break   wonderfull   june\n",
      "topic 55 : find   world   nee   survive   actual   pirate   queen   world war   seu   defently\n",
      "topic 56 : adventure   pack   crazy   shut   explore   spore   banish   transition   compatibility   metroidvania\n",
      "topic 57 : minecraft   sick   heap   unusual   virtual   sea   amd   factory   hungry   priority\n",
      "topic 58 : hard   mod   recomend   suck   funny   start   thing   guy   play   great\n",
      "topic 59 : addictive   yes   survival   end   everytime   possibly   screen   ask   body   hardcore\n"
     ]
    }
   ],
   "source": [
    "import textacy.tm\n",
    "import textacy.vsm\n",
    "vectorizer = textacy.vsm.Vectorizer(\n",
    "    tf_type=\"linear\", \n",
    "    apply_idf=True, \n",
    "    idf_type=\"smooth\", \n",
    "    norm=\"l2\",\n",
    "    min_df=5, \n",
    "    max_df=0.95\n",
    ")\n",
    "normalized = [\n",
    "    doc._.to_terms_list(ngrams=[1], entities=True, as_strings=True, normalize='lemma')\n",
    "    for doc in tqdm_notebook(corpus)\n",
    "]\n",
    "\n",
    "doc_term_matrix = vectorizer.fit_transform(normalized)\n",
    "model = textacy.tm.TopicModel(\"lda\", n_topics=60)\n",
    "model.fit(doc_term_matrix)\n",
    "\n",
    "doc_topic_matrix = model.transform(doc_term_matrix)\n",
    "\n",
    "for topic_idx, top_terms in model.top_topic_terms(vectorizer.id_to_term, top_n=10):\n",
    "    print(\"topic\", topic_idx, \":\", \"   \".join(top_terms))"
   ]
  },
  {
   "cell_type": "code",
   "execution_count": 212,
   "metadata": {
    "ExecuteTime": {
     "end_time": "2021-01-15T12:31:10.179336Z",
     "start_time": "2021-01-15T12:26:28.755948Z"
    },
    "scrolled": true
   },
   "outputs": [
    {
     "name": "stderr",
     "output_type": "stream",
     "text": [
      "<ipython-input-212-d4fd729a8db5>:3: TqdmDeprecationWarning: This function will be removed in tqdm==5.0.0\n",
      "Please use `tqdm.notebook.tqdm` instead of `tqdm.tqdm_notebook`\n",
      "  prepared_texts = [\" \".join([t.lemma_ for t in d if (t.lemma_ not in additional_stop_words and t.lemma_ not in STOP_WORDS and t.pos_ != 'SPACE')]) for d in tqdm_notebook(docs)]\n"
     ]
    },
    {
     "data": {
      "application/vnd.jupyter.widget-view+json": {
       "model_id": "4acc25a7004844edbf8ef50ca623e461",
       "version_major": 2,
       "version_minor": 0
      },
      "text/plain": [
       "  0%|          | 0/36515 [00:00<?, ?it/s]"
      ]
     },
     "metadata": {},
     "output_type": "display_data"
    },
    {
     "name": "stderr",
     "output_type": "stream",
     "text": [
      "<ipython-input-212-d4fd729a8db5>:4: TqdmDeprecationWarning: This function will be removed in tqdm==5.0.0\n",
      "Please use `tqdm.notebook.tqdm` instead of `tqdm.tqdm_notebook`\n",
      "  prepared_texts = [normalize_repeating_chars(normalize_whitespace(text), chars=chars, maxn=2) for text in tqdm_notebook(prepared_texts)]\n"
     ]
    },
    {
     "data": {
      "application/vnd.jupyter.widget-view+json": {
       "model_id": "53ad9be4ee944b57aa1919d119e1ef00",
       "version_major": 2,
       "version_minor": 0
      },
      "text/plain": [
       "  0%|          | 0/36515 [00:00<?, ?it/s]"
      ]
     },
     "metadata": {},
     "output_type": "display_data"
    },
    {
     "name": "stderr",
     "output_type": "stream",
     "text": [
      "<ipython-input-212-d4fd729a8db5>:6: TqdmDeprecationWarning: This function will be removed in tqdm==5.0.0\n",
      "Please use `tqdm.notebook.tqdm` instead of `tqdm.tqdm_notebook`\n",
      "  docs = [textacy.make_spacy_doc(x, nlp) for x in tqdm_notebook(prepared_texts)]\n"
     ]
    },
    {
     "data": {
      "application/vnd.jupyter.widget-view+json": {
       "model_id": "e3b9d081606e473facf8d2ae3d949cae",
       "version_major": 2,
       "version_minor": 0
      },
      "text/plain": [
       "  0%|          | 0/36515 [00:00<?, ?it/s]"
      ]
     },
     "metadata": {},
     "output_type": "display_data"
    },
    {
     "name": "stderr",
     "output_type": "stream",
     "text": [
      "<ipython-input-212-d4fd729a8db5>:11: TqdmDeprecationWarning: This function will be removed in tqdm==5.0.0\n",
      "Please use `tqdm.notebook.tqdm` instead of `tqdm.tqdm_notebook`\n",
      "  for doc in tqdm_notebook(corpus)\n"
     ]
    },
    {
     "data": {
      "application/vnd.jupyter.widget-view+json": {
       "model_id": "623dfd2bd266407eb89053e1c7a67c2c",
       "version_major": 2,
       "version_minor": 0
      },
      "text/plain": [
       "  0%|          | 0/36411 [00:00<?, ?it/s]"
      ]
     },
     "metadata": {},
     "output_type": "display_data"
    }
   ],
   "source": [
    "additional_stop_words |= {'yes', 'yea', 'yeah'}\n",
    "chars = \"\".join(set(\"\".join(prepared_texts)))\n",
    "prepared_texts = [\" \".join([t.lemma_ for t in d if (t.lemma_ not in additional_stop_words and t.lemma_ not in STOP_WORDS and t.pos_ != 'SPACE')]) for d in tqdm_notebook(docs)]\n",
    "prepared_texts = [normalize_repeating_chars(normalize_whitespace(text), chars=chars, maxn=2) for text in tqdm_notebook(prepared_texts)]\n",
    "\n",
    "docs = [textacy.make_spacy_doc(x, nlp) for x in tqdm_notebook(prepared_texts)]\n",
    "docs = [doc for doc in docs if len(doc) >= 2]\n",
    "corpus = textacy.Corpus(nlp, data=docs)\n",
    "normalized = [\n",
    "    doc._.to_terms_list(ngrams=[1], entities=True, as_strings=True, normalize='lemma')\n",
    "    for doc in tqdm_notebook(corpus)\n",
    "]"
   ]
  },
  {
   "cell_type": "code",
   "execution_count": 217,
   "metadata": {
    "ExecuteTime": {
     "end_time": "2021-01-15T12:39:43.750447Z",
     "start_time": "2021-01-15T12:37:38.002614Z"
    },
    "scrolled": true
   },
   "outputs": [
    {
     "name": "stderr",
     "output_type": "stream",
     "text": [
      "<ipython-input-217-4cf07f02b6d9>:13: TqdmDeprecationWarning: This function will be removed in tqdm==5.0.0\n",
      "Please use `tqdm.notebook.tqdm` instead of `tqdm.tqdm_notebook`\n",
      "  for doc in tqdm_notebook(corpus)\n"
     ]
    },
    {
     "data": {
      "application/vnd.jupyter.widget-view+json": {
       "model_id": "a729a149ed294b10ada49d9dba3269f3",
       "version_major": 2,
       "version_minor": 0
      },
      "text/plain": [
       "  0%|          | 0/36411 [00:00<?, ?it/s]"
      ]
     },
     "metadata": {},
     "output_type": "display_data"
    },
    {
     "name": "stdout",
     "output_type": "stream",
     "text": [
      "topic 0 : start play   easy use   think great   play beta   great idea   hour later   multiplayer shooter   play end   weapon choose   dis\n",
      "topic 1 : mac   total war   recommend buy   buy sale   play recommend   play people   able play   graphic amazing   want buy   stop work\n",
      "topic 2 : stop play   year old   single player   new player   day play   buy regret   vac ban   shoot guy   pretty damn   wtf\n",
      "topic 3 : definitely recommend   amazing graphic   hour gameplay   people think   amazing amazing   high quality   great mod   story drive   gameplay story   role play\n",
      "topic 4 : hack slash   play minute   awsome   great amazing   think play   kill chicken   work computer   time run   shoot face   spend life\n",
      "topic 5 : counter strike   people play   waste time   spend money   leave dead   learn curve   great way   lot time   team work   global offensive\n",
      "topic 6 : hour   mod   time play   awesome play   worth play   spend hour   dark soul   worth cent   spend time   free roam\n",
      "topic 7 : open world   money buy   far cry   totally worth   play story   max   grapple hook   frame rate   hard find   wait play\n",
      "topic 8 : want play   hour play   need work   story tell   strongly recommend   world war   time time   play know   star wars   bug fix\n",
      "topic 9 : waste money   waste life   look play   great experience   alright guess   reason play   custom map   tf2 item   sandbox play   play rate\n",
      "topic 10 : free play   second   pay win   great graphic   play great   highly recomend   great look   want kill   feel play   come play\n",
      "topic 11 : little bit   recommend people   great recommend   absolutely amazing   look great   buy want   team mate   modding community   arma   new feature\n",
      "topic 12 : half hour   heart attack   kill kill   play die   want know   hour find   episode come   world tank   mod great   build ship\n",
      "topic 13 : assassin creed   bring memory   people buy   batman arkham   play crash   suggest play   set fire   arkham asylum   clone   hard hard\n",
      "topic 14 : fast pace   zombie survival   great people   probably play   night   add new   big fan   great wait   mmo   2nd\n",
      "topic 15 : amazing play   great thing   people want   wanna play   hat hat   update come   die lot   thing great   space ninja   entire life\n",
      "topic 16 : enjoy play   action pack   saint row   league legend   play think   buy steam   russia   stay away   play couple   run naked\n",
      "topic 17 : play multiplayer   gameplay great   play start   play way   far great   story gameplay   actually pretty   new weapon   shoot kill   sound effect\n",
      "topic 18 : csgo   buy play   great awesome   learn play   play find   future update   rank system   play stop   terrorist town   amazing wait\n",
      "topic 19 : story line   australia   great need   play amazing   beautiful graphic   gun play   price worth   enjoy alot   little hard   allahu akbar\n",
      "topic 20 : pew pew   play anymore   computer play   smash bro   chinese   great new   buy ing   past year   fallout series   send help\n",
      "topic 21 : month   walk dead   trading card   reccomend people   play new   need know   pretty boring   mario kart   play month   enjoy story\n",
      "topic 22 : year   art style   russian   read review   actually play   micro transaction   negative review   simulator play   new thing   enjoyable play\n",
      "topic 23 : friend play   real life   turn base   play lot   shoot people   word describe   easter egg   base strategy   real time   lot people\n",
      "topic 24 : half   half life   day   pass time   know play   mod play   play worth   hard start   great character   new content\n",
      "topic 25 : cool play   bit laggy   alpha   dedicated server   play pretty   gameplay recommend   hide seek   mto bom   time enjoy   people great\n",
      "topic 26 : long time   play long   play long time   graphic gameplay   kill zombie   rob bank   awesome graphic   black screen   kill guy   awesome buy\n",
      "topic 27 : great free   buy worth   great job   free time   cod ghost   great free play   low price   play map   play early   little short\n",
      "topic 28 : gore   new update   totally recommend   friend buy   survival play   alot time   gameplay awesome   attention detail   time life   realistic shooter\n",
      "topic 29 : great buy   favourite time   play try   play dota   steam play   store page   high end   probably favourite   meat boy   ace spade\n",
      "topic 30 : wait till   steam workshop   time consume   great puzzle   nee buy   free version   steam account   die lose   absolutely recommend   free online\n",
      "topic 31 : story mode   need play   dayz minecraft   space ship   great overall   hard difficulty   play original   time find   dank meme   play release\n",
      "topic 32 : today   play fps   play highly   buy right   real world   highly recommend play   frame drop   play highly recommend   die alot   fantastic story\n",
      "topic 33 : person shooter   year ago   great community   eld scroll   series   holy crap   truly amazing   worth penny   come year   live long\n",
      "topic 34 : early access   npc   different type   kill friend   wide variety   recomend play   recomend people   variety weapon   graphic look   great recomend\n",
      "topic 35 : play far   play steam   3rd person   polish   3rd   mind blow   high level   bit buggy   great bit   steam sale\n",
      "topic 36 : definately worth   worth try   multiplayer play   lot potential   different mode   style play   challenge play   mass effect   music great   low set\n",
      "topic 37 : star war   dead island   experience play   find play   time killer   completely different   great player   michael bay   bring old   great hard\n",
      "topic 38 : highly recommend   worth price   simply amazing   bug glitch   hour end   great highly   great storyline   run smoothly   look amazing   reason buy\n",
      "topic 39 : buy buy   great friend   play bit   recommend try   recommend look   age empire   addict play   season pass   buy new   enjoy lot\n",
      "topic 40 : play play   price tag   try find   crash time   play freind   time try   entertain hour   recommend gamer   hard work   pls fix\n",
      "topic 41 : great lot   hard play   house   play need   great want   friend great   build house   mode play   play team   year later\n",
      "topic 42 : ruin life   pretty cool   old school   awesome awesome   highly addictive   awesome story   save file   shoot shoot   highly reccommend   story awesome\n",
      "topic 43 : kinda   kill time   lot play   multiplayer experience   pick sale   feel real   try hard   bit glitchy   way kill   camera angle\n",
      "topic 44 : play friend   great play   play hour   hour   team fortress   terraria   play year   great play friend   russians   shooter play\n",
      "topic 45 : great time   overall great   play enjoy   awesome recommend   time waster   english   time great   work art   recommend want   money worth\n",
      "topic 46 : worth buy   great story   easy play   story great   great multiplayer   awesome fps   play style   minute   play alot   gameplay mechanic\n",
      "topic 47 : combat system   kill floor   sound track   fast paced   plot twist   great zombie   run gun   shoot zombie   post apocalyptic   thing need\n",
      "topic 48 : great gameplay   replay value   highly reccomend   amazing gameplay   way play   amazing story   rage quit   week   pay play   pretty awesome\n",
      "topic 49 : try play   time   god damn   awesome great   visual novel   play mate   server play   graphic play   pick play   different way\n",
      "topic 50 : worth money   definitely worth   voice act   worth time   think buy   great worth   worth buying   survival horror   boss fight   south park\n",
      "topic 51 : great fps   buy dlc   try kill   amazing great   action adventure   worth buck   weapon skin   skill level   walk simulator   fps time\n",
      "topic 52 : hat simulator   great little   tower defense   pretty play   start finish   fully sick   play dark   time friend   spare time   cool weapon\n",
      "topic 53 : garry mod   join server   great addictive   final fantasy   fix problem   new map   kill enemy   new character   feel great   controller support\n",
      "topic 54 : need fix   play online   let play   play little   great strategy   especially friend   zombie play   play tf2   play thing   recommend enjoy\n",
      "topic 55 : recommend play   play free   graphic great   thing play   multi player   player play   play cod   play kid   amazing experience   great art\n",
      "topic 56 : look forward   kill people   fps play   easy learn   play hard   hard master   hotline miami   great start   couple hour   play kill\n",
      "topic 57 : australian   play life   australian server   find new   indie play   work fine   awesome multiplayer   fix drill   favorite time   crash try\n",
      "topic 58 : play time   play day   level design   play buy   tower defence   xbox   interesting play   awesome need   graphic story   want challenge\n",
      "topic 59 : great great   write review   worth dollar   play feel   group friend   source engine   play right   slow pace   1st   strongly reccomend\n"
     ]
    }
   ],
   "source": [
    "import textacy.tm\n",
    "import textacy.vsm\n",
    "vectorizer = textacy.vsm.Vectorizer(\n",
    "    tf_type=\"linear\", \n",
    "    apply_idf=True, \n",
    "    idf_type=\"smooth\", \n",
    "    norm=\"l2\",\n",
    "    min_df=5, \n",
    "    max_df=0.95\n",
    ")\n",
    "normalized = [\n",
    "    doc._.to_terms_list(ngrams=[2, 3], entities=True, as_strings=True, normalize='lemma')\n",
    "    for doc in tqdm_notebook(corpus)\n",
    "]\n",
    "\n",
    "doc_term_matrix = vectorizer.fit_transform(normalized)\n",
    "model = textacy.tm.TopicModel(\"lda\", n_topics=60)\n",
    "model.fit(doc_term_matrix)\n",
    "\n",
    "doc_topic_matrix = model.transform(doc_term_matrix)\n",
    "\n",
    "for topic_idx, top_terms in model.top_topic_terms(vectorizer.id_to_term, top_n=10):\n",
    "    print(\"topic\", topic_idx, \":\", \"   \".join(top_terms))"
   ]
  },
  {
   "cell_type": "code",
   "execution_count": 218,
   "metadata": {
    "ExecuteTime": {
     "end_time": "2021-01-15T12:40:39.074430Z",
     "start_time": "2021-01-15T12:40:36.626622Z"
    }
   },
   "outputs": [],
   "source": [
    "corpus.save(\"textacy_corpus.txtcy\")"
   ]
  },
  {
   "cell_type": "code",
   "execution_count": 221,
   "metadata": {
    "ExecuteTime": {
     "end_time": "2021-01-15T12:43:49.147301Z",
     "start_time": "2021-01-15T12:43:37.553622Z"
    }
   },
   "outputs": [],
   "source": [
    "corpus = textacy.Corpus.load(lang=nlp, filepath=\"textacy_corpus.txtcy\")"
   ]
  },
  {
   "cell_type": "code",
   "execution_count": 222,
   "metadata": {
    "ExecuteTime": {
     "end_time": "2021-01-15T12:43:52.344939Z",
     "start_time": "2021-01-15T12:43:52.341017Z"
    }
   },
   "outputs": [
    {
     "data": {
      "text/plain": [
       "simple great replayability opinion zombie horde team work well leave dead plus global leveling system alot earth zombie splatter family amazed sort fps rare"
      ]
     },
     "execution_count": 222,
     "metadata": {},
     "output_type": "execute_result"
    }
   ],
   "source": [
    "corpus[0]"
   ]
  },
  {
   "cell_type": "code",
   "execution_count": 227,
   "metadata": {
    "ExecuteTime": {
     "end_time": "2021-01-15T12:45:50.496327Z",
     "start_time": "2021-01-15T12:45:50.494434Z"
    }
   },
   "outputs": [],
   "source": [
    "# ! pip install gensim"
   ]
  },
  {
   "cell_type": "code",
   "execution_count": 226,
   "metadata": {
    "ExecuteTime": {
     "end_time": "2021-01-15T12:45:49.884202Z",
     "start_time": "2021-01-15T12:45:47.490848Z"
    }
   },
   "outputs": [],
   "source": [
    "import gensim\n",
    "def sent_to_words(sentences):\n",
    "    for sentence in sentences:\n",
    "        yield(gensim.utils.simple_preprocess(str(sentence), deacc=True))  # deacc=True removes punctuations\n",
    "\n",
    "data_words = list(sent_to_words(corpus))"
   ]
  },
  {
   "cell_type": "code",
   "execution_count": 235,
   "metadata": {
    "ExecuteTime": {
     "end_time": "2021-01-15T12:48:54.180115Z",
     "start_time": "2021-01-15T12:48:54.178059Z"
    }
   },
   "outputs": [],
   "source": [
    "# del normalized, prepared_texts, docs\n",
    "# del model, doc_term_matrix, doc_topic_matrix\n",
    "# import gc\n",
    "# gc.collect()"
   ]
  },
  {
   "cell_type": "code",
   "execution_count": null,
   "metadata": {},
   "outputs": [],
   "source": []
  },
  {
   "cell_type": "code",
   "execution_count": null,
   "metadata": {},
   "outputs": [],
   "source": []
  },
  {
   "cell_type": "code",
   "execution_count": null,
   "metadata": {},
   "outputs": [],
   "source": []
  }
 ],
 "metadata": {
  "kernelspec": {
   "display_name": "cl",
   "language": "python",
   "name": "cl"
  },
  "language_info": {
   "codemirror_mode": {
    "name": "ipython",
    "version": 3
   },
   "file_extension": ".py",
   "mimetype": "text/x-python",
   "name": "python",
   "nbconvert_exporter": "python",
   "pygments_lexer": "ipython3",
   "version": "3.8.7"
  }
 },
 "nbformat": 4,
 "nbformat_minor": 4
}

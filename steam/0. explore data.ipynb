{
 "cells": [
  {
   "cell_type": "code",
   "execution_count": 21,
   "metadata": {
    "ExecuteTime": {
     "end_time": "2021-01-04T18:13:29.900016Z",
     "start_time": "2021-01-04T18:13:29.898199Z"
    },
    "scrolled": true
   },
   "outputs": [],
   "source": [
    "# ! pip install surprise"
   ]
  },
  {
   "cell_type": "code",
   "execution_count": 1,
   "metadata": {
    "ExecuteTime": {
     "end_time": "2021-01-04T17:12:27.530560Z",
     "start_time": "2021-01-04T17:12:24.702288Z"
    }
   },
   "outputs": [],
   "source": [
    "import re\n",
    "import json\n",
    "import surprise\n",
    "import pandas as pd\n",
    "from tqdm import tqdm"
   ]
  },
  {
   "cell_type": "code",
   "execution_count": 16,
   "metadata": {
    "ExecuteTime": {
     "end_time": "2021-01-04T18:12:03.571283Z",
     "start_time": "2021-01-04T18:12:03.569352Z"
    }
   },
   "outputs": [],
   "source": [
    "# ! ls ./data"
   ]
  },
  {
   "cell_type": "code",
   "execution_count": 23,
   "metadata": {
    "ExecuteTime": {
     "end_time": "2021-01-04T18:13:54.071420Z",
     "start_time": "2021-01-04T18:13:53.457041Z"
    },
    "scrolled": true
   },
   "outputs": [
    {
     "data": {
      "text/plain": [
       "90"
      ]
     },
     "execution_count": 23,
     "metadata": {},
     "output_type": "execute_result"
    }
   ],
   "source": [
    "import gc\n",
    "gc.collect()"
   ]
  },
  {
   "cell_type": "code",
   "execution_count": 22,
   "metadata": {
    "ExecuteTime": {
     "end_time": "2021-01-04T18:13:43.925897Z",
     "start_time": "2021-01-04T18:13:43.923951Z"
    },
    "scrolled": true
   },
   "outputs": [],
   "source": [
    "user_item = []\n",
    "with open(\"./data/australian_users_items.json\") as f:\n",
    "    s = \"[\" + f.read().strip() + \"]\"\n",
    "    s = s.replace(\"\\\\\", ' ')\n",
    "    s = s.replace('\"Glow Ball\"', 'Glow Ball')\n",
    "    s = s.replace('\"New life\"', \"New life\")\n",
    "    double = set(re.findall(r'\"[^\"]+\"', s))\n",
    "    for x in tqdm(double):\n",
    "        tmp = x.replace(\"'\", \" \")\n",
    "        tmp = tmp.replace('\"', \"'\")\n",
    "        s = s.replace(x, tmp)\n",
    "    s = s.replace(\"\\n\", \",\\n\")\n",
    "    s = s.replace(\"'\", '\"')\n",
    "    s = s.replace('\"One pioneer  s story\"', 'One pioneer  s story')\n",
    "    user_item = json.loads(s)"
   ]
  },
  {
   "cell_type": "code",
   "execution_count": 15,
   "metadata": {
    "ExecuteTime": {
     "end_time": "2021-01-04T18:11:45.732668Z",
     "start_time": "2021-01-04T18:11:05.732526Z"
    }
   },
   "outputs": [],
   "source": [
    "with open(\"./data/fixed_australian_users_items.json\", 'w') as f:\n",
    "    json.dump(user_item, f)"
   ]
  },
  {
   "cell_type": "code",
   "execution_count": 17,
   "metadata": {
    "ExecuteTime": {
     "end_time": "2021-01-04T18:12:37.053291Z",
     "start_time": "2021-01-04T18:12:29.107926Z"
    }
   },
   "outputs": [],
   "source": [
    "with open(\"./data/fixed_australian_users_items.json\") as f:\n",
    "    user_item = json.loads(f.read())"
   ]
  },
  {
   "cell_type": "code",
   "execution_count": 20,
   "metadata": {
    "ExecuteTime": {
     "end_time": "2021-01-04T18:13:14.706306Z",
     "start_time": "2021-01-04T18:13:14.704427Z"
    }
   },
   "outputs": [],
   "source": [
    "# user_item[-1]"
   ]
  },
  {
   "cell_type": "code",
   "execution_count": null,
   "metadata": {},
   "outputs": [],
   "source": []
  }
 ],
 "metadata": {
  "kernelspec": {
   "display_name": "cl",
   "language": "python",
   "name": "cl"
  },
  "language_info": {
   "codemirror_mode": {
    "name": "ipython",
    "version": 3
   },
   "file_extension": ".py",
   "mimetype": "text/x-python",
   "name": "python",
   "nbconvert_exporter": "python",
   "pygments_lexer": "ipython3",
   "version": "3.8.6"
  }
 },
 "nbformat": 4,
 "nbformat_minor": 4
}

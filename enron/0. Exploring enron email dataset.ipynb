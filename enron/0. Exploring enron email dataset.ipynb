{
 "cells": [
  {
   "cell_type": "markdown",
   "metadata": {},
   "source": [
    "<img src=\"../images/Logo_de_Enron.svg\"/>\n",
    "\n",
    "> Enron Corporation was an American energy, commodities, and services company based in Houston, Texas. It was founded in 1985 as a merger between Houston Natural Gas and InterNorth, both relatively small regional companies. Before its bankruptcy on December 3, 2001, Enron employed approximately 29,000 staff and was a major electricity, natural gas, communications and pulp and paper company, with claimed revenues of nearly\n",
    "\\$101 billion during 2000. Fortune named Enron \"America's Most Innovative Company\" for six consecutive years.\n",
    ">\n",
    "> — <cite><a href=\"https://en.wikipedia.org/wiki/Enron\"> Wikipedia </a></cite>\n",
    "\n",
    "Let's watch enron email dataset which became public domain after Enron bankruptcy.\n",
    "\n",
    "You can download the dataset from <a href=\"https://www.cs.cmu.edu/~./enron/\">this place</a>.\n",
    "\n",
    "## Loading data and draft data preparing"
   ]
  },
  {
   "cell_type": "code",
   "execution_count": 1,
   "metadata": {
    "ExecuteTime": {
     "end_time": "2020-06-24T19:21:24.390189Z",
     "start_time": "2020-06-24T19:21:21.533767Z"
    }
   },
   "outputs": [
    {
     "name": "stderr",
     "output_type": "stream",
     "text": [
      "100%|██████████| 30109/30109 [00:02<00:00, 12782.82it/s]\n"
     ]
    }
   ],
   "source": [
    "import warnings\n",
    "import pandas as pd\n",
    "from utils import make_dataset\n",
    "warnings.filterwarnings(\"ignore\")\n",
    "\n",
    "data = make_dataset()"
   ]
  },
  {
   "cell_type": "code",
   "execution_count": 2,
   "metadata": {
    "ExecuteTime": {
     "end_time": "2020-06-24T19:21:24.410706Z",
     "start_time": "2020-06-24T19:21:24.391494Z"
    },
    "scrolled": true
   },
   "outputs": [
    {
     "data": {
      "text/html": [
       "<div>\n",
       "<style scoped>\n",
       "    .dataframe tbody tr th:only-of-type {\n",
       "        vertical-align: middle;\n",
       "    }\n",
       "\n",
       "    .dataframe tbody tr th {\n",
       "        vertical-align: top;\n",
       "    }\n",
       "\n",
       "    .dataframe thead th {\n",
       "        text-align: right;\n",
       "    }\n",
       "</style>\n",
       "<table border=\"1\" class=\"dataframe\">\n",
       "  <thead>\n",
       "    <tr style=\"text-align: right;\">\n",
       "      <th></th>\n",
       "      <th>date</th>\n",
       "      <th>subject</th>\n",
       "      <th>from</th>\n",
       "      <th>to</th>\n",
       "      <th>text</th>\n",
       "    </tr>\n",
       "  </thead>\n",
       "  <tbody>\n",
       "    <tr>\n",
       "      <td>11433</td>\n",
       "      <td>1999-12-10 05:05:00</td>\n",
       "      <td>Tetco 7c's</td>\n",
       "      <td>chris.germany@enron.com</td>\n",
       "      <td>judy.townsend@enron.com</td>\n",
       "      <td>I have updated the Tetco 7c usage tickets to i...</td>\n",
       "    </tr>\n",
       "    <tr>\n",
       "      <td>11432</td>\n",
       "      <td>1999-12-10 05:05:00</td>\n",
       "      <td>Tetco 7c's</td>\n",
       "      <td>chris.germany@enron.com</td>\n",
       "      <td>brenda.fletcher@enron.com</td>\n",
       "      <td>I have updated the Tetco 7c usage tickets to i...</td>\n",
       "    </tr>\n",
       "    <tr>\n",
       "      <td>18894</td>\n",
       "      <td>1999-12-10 05:12:00</td>\n",
       "      <td>New EPRM Speakers</td>\n",
       "      <td>vince.kaminski@enron.com</td>\n",
       "      <td>stinson.gibner@enron.com</td>\n",
       "      <td>Stinson,\\n\\nThis is the request I got from RIS...</td>\n",
       "    </tr>\n",
       "    <tr>\n",
       "      <td>18893</td>\n",
       "      <td>1999-12-10 05:13:00</td>\n",
       "      <td>Re: New EPRM Speakers</td>\n",
       "      <td>vince.kaminski@enron.com</td>\n",
       "      <td>helen@risk.co.uk</td>\n",
       "      <td>Helen,\\n\\nI forwarded your message to my assoc...</td>\n",
       "    </tr>\n",
       "    <tr>\n",
       "      <td>304</td>\n",
       "      <td>1999-12-10 07:00:00</td>\n",
       "      <td></td>\n",
       "      <td>phillip.allen@enron.com</td>\n",
       "      <td>naomi.johnston@enron.com</td>\n",
       "      <td>Naomi,\\n\\nThe two analysts that I have had con...</td>\n",
       "    </tr>\n",
       "  </tbody>\n",
       "</table>\n",
       "</div>"
      ],
      "text/plain": [
       "                     date                subject                      from  \\\n",
       "11433 1999-12-10 05:05:00             Tetco 7c's   chris.germany@enron.com   \n",
       "11432 1999-12-10 05:05:00             Tetco 7c's   chris.germany@enron.com   \n",
       "18894 1999-12-10 05:12:00      New EPRM Speakers  vince.kaminski@enron.com   \n",
       "18893 1999-12-10 05:13:00  Re: New EPRM Speakers  vince.kaminski@enron.com   \n",
       "304   1999-12-10 07:00:00                          phillip.allen@enron.com   \n",
       "\n",
       "                              to  \\\n",
       "11433    judy.townsend@enron.com   \n",
       "11432  brenda.fletcher@enron.com   \n",
       "18894   stinson.gibner@enron.com   \n",
       "18893           helen@risk.co.uk   \n",
       "304     naomi.johnston@enron.com   \n",
       "\n",
       "                                                    text  \n",
       "11433  I have updated the Tetco 7c usage tickets to i...  \n",
       "11432  I have updated the Tetco 7c usage tickets to i...  \n",
       "18894  Stinson,\\n\\nThis is the request I got from RIS...  \n",
       "18893  Helen,\\n\\nI forwarded your message to my assoc...  \n",
       "304    Naomi,\\n\\nThe two analysts that I have had con...  "
      ]
     },
     "execution_count": 2,
     "metadata": {},
     "output_type": "execute_result"
    }
   ],
   "source": [
    "data.head()"
   ]
  },
  {
   "cell_type": "markdown",
   "metadata": {},
   "source": [
    "We should tokenize and lemmatize(or stem) text data for unification and better feature engineering."
   ]
  },
  {
   "cell_type": "code",
   "execution_count": 3,
   "metadata": {
    "ExecuteTime": {
     "end_time": "2020-06-24T19:22:37.257875Z",
     "start_time": "2020-06-24T19:21:24.412167Z"
    }
   },
   "outputs": [
    {
     "name": "stdout",
     "output_type": "stream",
     "text": [
      "CPU times: user 1min 12s, sys: 1.07 s, total: 1min 13s\n",
      "Wall time: 1min 12s\n"
     ]
    }
   ],
   "source": [
    "%%time\n",
    "import nltk\n",
    "from bs4 import BeautifulSoup\n",
    "from nltk.stem import WordNetLemmatizer\n",
    "from nltk.tokenize import TweetTokenizer\n",
    "\n",
    "tknzr = TweetTokenizer()\n",
    "lm = WordNetLemmatizer()\n",
    "\n",
    "data['text'] = data['text'].apply(lambda x: tknzr.tokenize(x))\n",
    "data['subject'] = data['subject'].apply(lambda x: tknzr.tokenize(x))\n",
    "\n",
    "data['text'] = data['text'].apply(lambda x: \n",
    "    BeautifulSoup(\n",
    "        ' '.join([lm.lemmatize(token).lower() for token in x])\n",
    "    ).text\n",
    ")\n",
    "data['subject'] = data['subject'].apply(lambda x: \n",
    "    BeautifulSoup(\n",
    "        ' '.join([lm.lemmatize(token).lower() for token in x])\n",
    "    ).text\n",
    ")"
   ]
  },
  {
   "cell_type": "code",
   "execution_count": 4,
   "metadata": {
    "ExecuteTime": {
     "end_time": "2020-06-24T19:22:37.272468Z",
     "start_time": "2020-06-24T19:22:37.259150Z"
    },
    "scrolled": true
   },
   "outputs": [
    {
     "data": {
      "text/html": [
       "<div>\n",
       "<style scoped>\n",
       "    .dataframe tbody tr th:only-of-type {\n",
       "        vertical-align: middle;\n",
       "    }\n",
       "\n",
       "    .dataframe tbody tr th {\n",
       "        vertical-align: top;\n",
       "    }\n",
       "\n",
       "    .dataframe thead th {\n",
       "        text-align: right;\n",
       "    }\n",
       "</style>\n",
       "<table border=\"1\" class=\"dataframe\">\n",
       "  <thead>\n",
       "    <tr style=\"text-align: right;\">\n",
       "      <th></th>\n",
       "      <th>date</th>\n",
       "      <th>subject</th>\n",
       "      <th>from</th>\n",
       "      <th>to</th>\n",
       "      <th>text</th>\n",
       "    </tr>\n",
       "  </thead>\n",
       "  <tbody>\n",
       "    <tr>\n",
       "      <td>11433</td>\n",
       "      <td>1999-12-10 05:05:00</td>\n",
       "      <td>tetco 7c ' s</td>\n",
       "      <td>chris.germany@enron.com</td>\n",
       "      <td>judy.townsend@enron.com</td>\n",
       "      <td>i have updated the tetco 7c usage ticket to in...</td>\n",
       "    </tr>\n",
       "    <tr>\n",
       "      <td>11432</td>\n",
       "      <td>1999-12-10 05:05:00</td>\n",
       "      <td>tetco 7c ' s</td>\n",
       "      <td>chris.germany@enron.com</td>\n",
       "      <td>brenda.fletcher@enron.com</td>\n",
       "      <td>i have updated the tetco 7c usage ticket to in...</td>\n",
       "    </tr>\n",
       "    <tr>\n",
       "      <td>18894</td>\n",
       "      <td>1999-12-10 05:12:00</td>\n",
       "      <td>new eprm speakers</td>\n",
       "      <td>vince.kaminski@enron.com</td>\n",
       "      <td>stinson.gibner@enron.com</td>\n",
       "      <td>stinson , this is the request i got from risk ...</td>\n",
       "    </tr>\n",
       "    <tr>\n",
       "      <td>18893</td>\n",
       "      <td>1999-12-10 05:13:00</td>\n",
       "      <td>re : new eprm speakers</td>\n",
       "      <td>vince.kaminski@enron.com</td>\n",
       "      <td>helen@risk.co.uk</td>\n",
       "      <td>helen , i forwarded your message to my associa...</td>\n",
       "    </tr>\n",
       "    <tr>\n",
       "      <td>304</td>\n",
       "      <td>1999-12-10 07:00:00</td>\n",
       "      <td></td>\n",
       "      <td>phillip.allen@enron.com</td>\n",
       "      <td>naomi.johnston@enron.com</td>\n",
       "      <td>naomi , the two analyst that i have had contac...</td>\n",
       "    </tr>\n",
       "  </tbody>\n",
       "</table>\n",
       "</div>"
      ],
      "text/plain": [
       "                     date                 subject                      from  \\\n",
       "11433 1999-12-10 05:05:00            tetco 7c ' s   chris.germany@enron.com   \n",
       "11432 1999-12-10 05:05:00            tetco 7c ' s   chris.germany@enron.com   \n",
       "18894 1999-12-10 05:12:00       new eprm speakers  vince.kaminski@enron.com   \n",
       "18893 1999-12-10 05:13:00  re : new eprm speakers  vince.kaminski@enron.com   \n",
       "304   1999-12-10 07:00:00                           phillip.allen@enron.com   \n",
       "\n",
       "                              to  \\\n",
       "11433    judy.townsend@enron.com   \n",
       "11432  brenda.fletcher@enron.com   \n",
       "18894   stinson.gibner@enron.com   \n",
       "18893           helen@risk.co.uk   \n",
       "304     naomi.johnston@enron.com   \n",
       "\n",
       "                                                    text  \n",
       "11433  i have updated the tetco 7c usage ticket to in...  \n",
       "11432  i have updated the tetco 7c usage ticket to in...  \n",
       "18894  stinson , this is the request i got from risk ...  \n",
       "18893  helen , i forwarded your message to my associa...  \n",
       "304    naomi , the two analyst that i have had contac...  "
      ]
     },
     "execution_count": 4,
     "metadata": {},
     "output_type": "execute_result"
    }
   ],
   "source": [
    "data.head()"
   ]
  },
  {
   "cell_type": "markdown",
   "metadata": {},
   "source": [
    "## Sentiments in dataset\n",
    "Of course, as we know story of this company is accounting fraud story.\n",
    "\n",
    "Therefore, look on sentiments on email subjects and message bodies.\n",
    "\n",
    "### Sentiment in subjects"
   ]
  },
  {
   "cell_type": "code",
   "execution_count": 5,
   "metadata": {
    "ExecuteTime": {
     "end_time": "2020-06-24T19:28:21.819284Z",
     "start_time": "2020-06-24T19:22:37.273543Z"
    },
    "code_folding": []
   },
   "outputs": [
    {
     "name": "stdout",
     "output_type": "stream",
     "text": [
      "CPU times: user 5min 44s, sys: 79.9 ms, total: 5min 44s\n",
      "Wall time: 5min 44s\n"
     ]
    },
    {
     "data": {
      "text/html": [
       "<div>\n",
       "<style scoped>\n",
       "    .dataframe tbody tr th:only-of-type {\n",
       "        vertical-align: middle;\n",
       "    }\n",
       "\n",
       "    .dataframe tbody tr th {\n",
       "        vertical-align: top;\n",
       "    }\n",
       "\n",
       "    .dataframe thead th {\n",
       "        text-align: right;\n",
       "    }\n",
       "</style>\n",
       "<table border=\"1\" class=\"dataframe\">\n",
       "  <thead>\n",
       "    <tr style=\"text-align: right;\">\n",
       "      <th></th>\n",
       "      <th>neg</th>\n",
       "      <th>neu</th>\n",
       "      <th>pos</th>\n",
       "      <th>compound</th>\n",
       "    </tr>\n",
       "  </thead>\n",
       "  <tbody>\n",
       "    <tr>\n",
       "      <td>0</td>\n",
       "      <td>0.0</td>\n",
       "      <td>1.0</td>\n",
       "      <td>0.0</td>\n",
       "      <td>0.0</td>\n",
       "    </tr>\n",
       "    <tr>\n",
       "      <td>1</td>\n",
       "      <td>0.0</td>\n",
       "      <td>1.0</td>\n",
       "      <td>0.0</td>\n",
       "      <td>0.0</td>\n",
       "    </tr>\n",
       "    <tr>\n",
       "      <td>2</td>\n",
       "      <td>0.0</td>\n",
       "      <td>1.0</td>\n",
       "      <td>0.0</td>\n",
       "      <td>0.0</td>\n",
       "    </tr>\n",
       "    <tr>\n",
       "      <td>3</td>\n",
       "      <td>0.0</td>\n",
       "      <td>1.0</td>\n",
       "      <td>0.0</td>\n",
       "      <td>0.0</td>\n",
       "    </tr>\n",
       "    <tr>\n",
       "      <td>4</td>\n",
       "      <td>0.0</td>\n",
       "      <td>0.0</td>\n",
       "      <td>0.0</td>\n",
       "      <td>0.0</td>\n",
       "    </tr>\n",
       "  </tbody>\n",
       "</table>\n",
       "</div>"
      ],
      "text/plain": [
       "   neg  neu  pos  compound\n",
       "0  0.0  1.0  0.0       0.0\n",
       "1  0.0  1.0  0.0       0.0\n",
       "2  0.0  1.0  0.0       0.0\n",
       "3  0.0  1.0  0.0       0.0\n",
       "4  0.0  0.0  0.0       0.0"
      ]
     },
     "execution_count": 5,
     "metadata": {},
     "output_type": "execute_result"
    }
   ],
   "source": [
    "%%time\n",
    "from vaderSentiment.vaderSentiment import SentimentIntensityAnalyzer\n",
    "analyzer = SentimentIntensityAnalyzer()\n",
    "\n",
    "text_sentiment = pd.DataFrame(data['text'].apply(lambda x: analyzer.polarity_scores(x)).tolist())\n",
    "subject_sentiment = pd.DataFrame(data['subject'].apply(lambda x: analyzer.polarity_scores(x)).tolist())\n",
    "subject_sentiment.head()"
   ]
  },
  {
   "cell_type": "code",
   "execution_count": 6,
   "metadata": {
    "ExecuteTime": {
     "end_time": "2020-06-24T19:28:21.825388Z",
     "start_time": "2020-06-24T19:28:21.820993Z"
    }
   },
   "outputs": [
    {
     "data": {
      "text/plain": [
       "(1.0, 1.0)"
      ]
     },
     "execution_count": 6,
     "metadata": {},
     "output_type": "execute_result"
    }
   ],
   "source": [
    "subject_sentiment['neg'].max(), subject_sentiment['pos'].max()"
   ]
  },
  {
   "cell_type": "code",
   "execution_count": 7,
   "metadata": {
    "ExecuteTime": {
     "end_time": "2020-06-24T19:28:21.911046Z",
     "start_time": "2020-06-24T19:28:21.826623Z"
    }
   },
   "outputs": [
    {
     "data": {
      "text/html": [
       "<div>\n",
       "<style scoped>\n",
       "    .dataframe tbody tr th:only-of-type {\n",
       "        vertical-align: middle;\n",
       "    }\n",
       "\n",
       "    .dataframe tbody tr th {\n",
       "        vertical-align: top;\n",
       "    }\n",
       "\n",
       "    .dataframe thead th {\n",
       "        text-align: right;\n",
       "    }\n",
       "</style>\n",
       "<table border=\"1\" class=\"dataframe\">\n",
       "  <thead>\n",
       "    <tr style=\"text-align: right;\">\n",
       "      <th></th>\n",
       "      <th>date</th>\n",
       "      <th>subject</th>\n",
       "      <th>text</th>\n",
       "    </tr>\n",
       "  </thead>\n",
       "  <tbody>\n",
       "    <tr>\n",
       "      <td>18619</td>\n",
       "      <td>2000-01-31 00:20:00</td>\n",
       "      <td>re : additional bloomberg terminal for weather...</td>\n",
       "      <td>jason , there wa a problem with the request . ...</td>\n",
       "    </tr>\n",
       "    <tr>\n",
       "      <td>7730</td>\n",
       "      <td>2000-04-06 01:40:00</td>\n",
       "      <td>re : sitara training</td>\n",
       "      <td>no , i don't want to .</td>\n",
       "    </tr>\n",
       "    <tr>\n",
       "      <td>2494</td>\n",
       "      <td>2000-09-28 01:09:00</td>\n",
       "      <td>jackson.logan@enron.com , ami.chokshi@enron.com ,</td>\n",
       "      <td>- - - forwarded by eric bass / hou / ect on 09...</td>\n",
       "    </tr>\n",
       "    <tr>\n",
       "      <td>6037</td>\n",
       "      <td>2000-10-02 05:55:00</td>\n",
       "      <td>re : lipa</td>\n",
       "      <td>guys , assuming that we receive $ 7m for the 6...</td>\n",
       "    </tr>\n",
       "    <tr>\n",
       "      <td>14270</td>\n",
       "      <td>2000-10-11 01:56:00</td>\n",
       "      <td>re : thanks</td>\n",
       "      <td>no</td>\n",
       "    </tr>\n",
       "    <tr>\n",
       "      <td>33803</td>\n",
       "      <td>2000-11-28 07:37:00</td>\n",
       "      <td>re : ken lay interview</td>\n",
       "      <td>thanks for the in-depth information on our man...</td>\n",
       "    </tr>\n",
       "    <tr>\n",
       "      <td>23757</td>\n",
       "      <td>2000-12-07 14:20:00</td>\n",
       "      <td>speak now ... turbopark consent</td>\n",
       "      <td>here's the turbopark consent . please call me ...</td>\n",
       "    </tr>\n",
       "    <tr>\n",
       "      <td>23727</td>\n",
       "      <td>2000-12-08 04:25:00</td>\n",
       "      <td>re : override letter</td>\n",
       "      <td>\" taylor , rob \"  on 12/08 / 2000 12:21 : 28 p...</td>\n",
       "    </tr>\n",
       "    <tr>\n",
       "      <td>27097</td>\n",
       "      <td>2000-12-29 03:52:00</td>\n",
       "      <td>re : mhi - 2162 / launching</td>\n",
       "      <td>thanks , i had not seen it . happy new year . m</td>\n",
       "    </tr>\n",
       "    <tr>\n",
       "      <td>34763</td>\n",
       "      <td>2001-02-13 04:29:00</td>\n",
       "      <td>re : #517891</td>\n",
       "      <td>no , thank you ! i've changed it to caiso ener...</td>\n",
       "    </tr>\n",
       "    <tr>\n",
       "      <td>21146</td>\n",
       "      <td>2001-03-26 00:09:00</td>\n",
       "      <td>andres.balmaceda@enron.com , sladana-anna.kuli...</td>\n",
       "      <td>fyi , it may be wise to run a few of your macr...</td>\n",
       "    </tr>\n",
       "  </tbody>\n",
       "</table>\n",
       "</div>"
      ],
      "text/plain": [
       "                     date                                            subject  \\\n",
       "18619 2000-01-31 00:20:00  re : additional bloomberg terminal for weather...   \n",
       "7730  2000-04-06 01:40:00                               re : sitara training   \n",
       "2494  2000-09-28 01:09:00  jackson.logan@enron.com , ami.chokshi@enron.com ,   \n",
       "6037  2000-10-02 05:55:00                                          re : lipa   \n",
       "14270 2000-10-11 01:56:00                                        re : thanks   \n",
       "33803 2000-11-28 07:37:00                             re : ken lay interview   \n",
       "23757 2000-12-07 14:20:00                    speak now ... turbopark consent   \n",
       "23727 2000-12-08 04:25:00                               re : override letter   \n",
       "27097 2000-12-29 03:52:00                        re : mhi - 2162 / launching   \n",
       "34763 2001-02-13 04:29:00                                       re : #517891   \n",
       "21146 2001-03-26 00:09:00  andres.balmaceda@enron.com , sladana-anna.kuli...   \n",
       "\n",
       "                                                    text  \n",
       "18619  jason , there wa a problem with the request . ...  \n",
       "7730                              no , i don't want to .  \n",
       "2494   - - - forwarded by eric bass / hou / ect on 09...  \n",
       "6037   guys , assuming that we receive $ 7m for the 6...  \n",
       "14270                                                 no  \n",
       "33803  thanks for the in-depth information on our man...  \n",
       "23757  here's the turbopark consent . please call me ...  \n",
       "23727  \" taylor , rob \"  on 12/08 / 2000 12:21 : 28 p...  \n",
       "27097    thanks , i had not seen it . happy new year . m  \n",
       "34763  no , thank you ! i've changed it to caiso ener...  \n",
       "21146  fyi , it may be wise to run a few of your macr...  "
      ]
     },
     "execution_count": 7,
     "metadata": {},
     "output_type": "execute_result"
    }
   ],
   "source": [
    "data[subject_sentiment['neg'] == subject_sentiment['neg'].max()][['date', 'subject', 'text']]"
   ]
  },
  {
   "cell_type": "code",
   "execution_count": 8,
   "metadata": {
    "ExecuteTime": {
     "end_time": "2020-06-24T19:28:21.941614Z",
     "start_time": "2020-06-24T19:28:21.912462Z"
    }
   },
   "outputs": [
    {
     "data": {
      "text/html": [
       "<div>\n",
       "<style scoped>\n",
       "    .dataframe tbody tr th:only-of-type {\n",
       "        vertical-align: middle;\n",
       "    }\n",
       "\n",
       "    .dataframe tbody tr th {\n",
       "        vertical-align: top;\n",
       "    }\n",
       "\n",
       "    .dataframe thead th {\n",
       "        text-align: right;\n",
       "    }\n",
       "</style>\n",
       "<table border=\"1\" class=\"dataframe\">\n",
       "  <thead>\n",
       "    <tr style=\"text-align: right;\">\n",
       "      <th></th>\n",
       "      <th>date</th>\n",
       "      <th>subject</th>\n",
       "      <th>text</th>\n",
       "    </tr>\n",
       "  </thead>\n",
       "  <tbody>\n",
       "    <tr>\n",
       "      <td>1747</td>\n",
       "      <td>1999-12-14 02:59:00</td>\n",
       "      <td>re : deal 117413</td>\n",
       "      <td>done ! anything else entex man ? - e enron nor...</td>\n",
       "    </tr>\n",
       "    <tr>\n",
       "      <td>19582</td>\n",
       "      <td>1999-12-14 07:11:00</td>\n",
       "      <td>re : eol</td>\n",
       "      <td>sorry , he ha told me that at least 10 time . ...</td>\n",
       "    </tr>\n",
       "    <tr>\n",
       "      <td>9063</td>\n",
       "      <td>2000-01-11 00:42:00</td>\n",
       "      <td>the memo</td>\n",
       "      <td>congratulations to you both ! your designation...</td>\n",
       "    </tr>\n",
       "    <tr>\n",
       "      <td>15191</td>\n",
       "      <td>2000-02-09 08:18:00</td>\n",
       "      <td>michelle.neville@enron.com , angela.barnett@en...</td>\n",
       "      <td>- - - forwarded by judy hernandez / hou / ect ...</td>\n",
       "    </tr>\n",
       "    <tr>\n",
       "      <td>10760</td>\n",
       "      <td>2000-03-08 23:54:00</td>\n",
       "      <td>re : cng-kriscott</td>\n",
       "      <td>angie , this is not anything to worry about ri...</td>\n",
       "    </tr>\n",
       "    <tr>\n",
       "      <td>...</td>\n",
       "      <td>...</td>\n",
       "      <td>...</td>\n",
       "      <td>...</td>\n",
       "    </tr>\n",
       "    <tr>\n",
       "      <td>25364</td>\n",
       "      <td>2001-05-14 06:58:00</td>\n",
       "      <td>re : confidentiality agreement</td>\n",
       "      <td>three glitch he probably just changed over to ...</td>\n",
       "    </tr>\n",
       "    <tr>\n",
       "      <td>22228</td>\n",
       "      <td>2001-05-31 03:55:00</td>\n",
       "      <td>re : mdea agreement scheduling</td>\n",
       "      <td>please fill in the blank : = 01 &amp; first contin...</td>\n",
       "    </tr>\n",
       "    <tr>\n",
       "      <td>4738</td>\n",
       "      <td>2001-06-17 20:41:00</td>\n",
       "      <td>re : question about tw operational capacity</td>\n",
       "      <td>brian , just wanted to follow up to be sure yo...</td>\n",
       "    </tr>\n",
       "    <tr>\n",
       "      <td>4737</td>\n",
       "      <td>2001-06-17 20:41:00</td>\n",
       "      <td>re : question about tw operational capacity</td>\n",
       "      <td>brian , just wanted to follow up to be sure yo...</td>\n",
       "    </tr>\n",
       "    <tr>\n",
       "      <td>4739</td>\n",
       "      <td>2001-06-26 10:55:00</td>\n",
       "      <td>re : wednesday's meeting on tropical storm all...</td>\n",
       "      <td>mary , we would love to have you come . thanks...</td>\n",
       "    </tr>\n",
       "  </tbody>\n",
       "</table>\n",
       "<p>107 rows × 3 columns</p>\n",
       "</div>"
      ],
      "text/plain": [
       "                     date                                            subject  \\\n",
       "1747  1999-12-14 02:59:00                                   re : deal 117413   \n",
       "19582 1999-12-14 07:11:00                                           re : eol   \n",
       "9063  2000-01-11 00:42:00                                           the memo   \n",
       "15191 2000-02-09 08:18:00  michelle.neville@enron.com , angela.barnett@en...   \n",
       "10760 2000-03-08 23:54:00                                  re : cng-kriscott   \n",
       "...                   ...                                                ...   \n",
       "25364 2001-05-14 06:58:00                     re : confidentiality agreement   \n",
       "22228 2001-05-31 03:55:00                     re : mdea agreement scheduling   \n",
       "4738  2001-06-17 20:41:00        re : question about tw operational capacity   \n",
       "4737  2001-06-17 20:41:00        re : question about tw operational capacity   \n",
       "4739  2001-06-26 10:55:00  re : wednesday's meeting on tropical storm all...   \n",
       "\n",
       "                                                    text  \n",
       "1747   done ! anything else entex man ? - e enron nor...  \n",
       "19582  sorry , he ha told me that at least 10 time . ...  \n",
       "9063   congratulations to you both ! your designation...  \n",
       "15191  - - - forwarded by judy hernandez / hou / ect ...  \n",
       "10760  angie , this is not anything to worry about ri...  \n",
       "...                                                  ...  \n",
       "25364  three glitch he probably just changed over to ...  \n",
       "22228  please fill in the blank : = 01 & first contin...  \n",
       "4738   brian , just wanted to follow up to be sure yo...  \n",
       "4737   brian , just wanted to follow up to be sure yo...  \n",
       "4739   mary , we would love to have you come . thanks...  \n",
       "\n",
       "[107 rows x 3 columns]"
      ]
     },
     "execution_count": 8,
     "metadata": {},
     "output_type": "execute_result"
    }
   ],
   "source": [
    "data[subject_sentiment['pos'] == subject_sentiment['pos'].max()][['date', 'subject', 'text']]"
   ]
  },
  {
   "cell_type": "markdown",
   "metadata": {},
   "source": [
    "Yes, as we can see, there were messages with negative subjects about financial troubles.\n",
    "\n",
    "### Sentiment in messages\n",
    "Also there are similar picture with message body sentiments."
   ]
  },
  {
   "cell_type": "code",
   "execution_count": 9,
   "metadata": {
    "ExecuteTime": {
     "end_time": "2020-06-24T19:28:21.981514Z",
     "start_time": "2020-06-24T19:28:21.943678Z"
    }
   },
   "outputs": [
    {
     "data": {
      "text/html": [
       "<div>\n",
       "<style scoped>\n",
       "    .dataframe tbody tr th:only-of-type {\n",
       "        vertical-align: middle;\n",
       "    }\n",
       "\n",
       "    .dataframe tbody tr th {\n",
       "        vertical-align: top;\n",
       "    }\n",
       "\n",
       "    .dataframe thead th {\n",
       "        text-align: right;\n",
       "    }\n",
       "</style>\n",
       "<table border=\"1\" class=\"dataframe\">\n",
       "  <thead>\n",
       "    <tr style=\"text-align: right;\">\n",
       "      <th></th>\n",
       "      <th>neg</th>\n",
       "      <th>neu</th>\n",
       "      <th>pos</th>\n",
       "      <th>compound</th>\n",
       "    </tr>\n",
       "  </thead>\n",
       "  <tbody>\n",
       "    <tr>\n",
       "      <td>0</td>\n",
       "      <td>0.000</td>\n",
       "      <td>1.000</td>\n",
       "      <td>0.000</td>\n",
       "      <td>0.0000</td>\n",
       "    </tr>\n",
       "    <tr>\n",
       "      <td>1</td>\n",
       "      <td>0.000</td>\n",
       "      <td>1.000</td>\n",
       "      <td>0.000</td>\n",
       "      <td>0.0000</td>\n",
       "    </tr>\n",
       "    <tr>\n",
       "      <td>2</td>\n",
       "      <td>0.013</td>\n",
       "      <td>0.868</td>\n",
       "      <td>0.119</td>\n",
       "      <td>0.9388</td>\n",
       "    </tr>\n",
       "    <tr>\n",
       "      <td>3</td>\n",
       "      <td>0.000</td>\n",
       "      <td>0.851</td>\n",
       "      <td>0.149</td>\n",
       "      <td>0.9593</td>\n",
       "    </tr>\n",
       "    <tr>\n",
       "      <td>4</td>\n",
       "      <td>0.013</td>\n",
       "      <td>0.926</td>\n",
       "      <td>0.061</td>\n",
       "      <td>0.6786</td>\n",
       "    </tr>\n",
       "  </tbody>\n",
       "</table>\n",
       "</div>"
      ],
      "text/plain": [
       "     neg    neu    pos  compound\n",
       "0  0.000  1.000  0.000    0.0000\n",
       "1  0.000  1.000  0.000    0.0000\n",
       "2  0.013  0.868  0.119    0.9388\n",
       "3  0.000  0.851  0.149    0.9593\n",
       "4  0.013  0.926  0.061    0.6786"
      ]
     },
     "execution_count": 9,
     "metadata": {},
     "output_type": "execute_result"
    }
   ],
   "source": [
    "text_sentiment.head()"
   ]
  },
  {
   "cell_type": "code",
   "execution_count": 10,
   "metadata": {
    "ExecuteTime": {
     "end_time": "2020-06-24T19:28:22.055915Z",
     "start_time": "2020-06-24T19:28:21.982891Z"
    }
   },
   "outputs": [
    {
     "data": {
      "text/plain": [
       "(1.0, 1.0)"
      ]
     },
     "execution_count": 10,
     "metadata": {},
     "output_type": "execute_result"
    }
   ],
   "source": [
    "text_sentiment['neg'].max(), text_sentiment['pos'].max()"
   ]
  },
  {
   "cell_type": "code",
   "execution_count": 11,
   "metadata": {
    "ExecuteTime": {
     "end_time": "2020-06-24T19:28:22.140282Z",
     "start_time": "2020-06-24T19:28:22.057111Z"
    }
   },
   "outputs": [
    {
     "data": {
      "text/html": [
       "<div>\n",
       "<style scoped>\n",
       "    .dataframe tbody tr th:only-of-type {\n",
       "        vertical-align: middle;\n",
       "    }\n",
       "\n",
       "    .dataframe tbody tr th {\n",
       "        vertical-align: top;\n",
       "    }\n",
       "\n",
       "    .dataframe thead th {\n",
       "        text-align: right;\n",
       "    }\n",
       "</style>\n",
       "<table border=\"1\" class=\"dataframe\">\n",
       "  <thead>\n",
       "    <tr style=\"text-align: right;\">\n",
       "      <th></th>\n",
       "      <th>date</th>\n",
       "      <th>subject</th>\n",
       "      <th>text</th>\n",
       "    </tr>\n",
       "  </thead>\n",
       "  <tbody>\n",
       "    <tr>\n",
       "      <td>18866</td>\n",
       "      <td>1999-12-17 07:15:00</td>\n",
       "      <td>re : emission trading</td>\n",
       "      <td>- - - forwarded by vince j kaminski / hou / ec...</td>\n",
       "    </tr>\n",
       "    <tr>\n",
       "      <td>9986</td>\n",
       "      <td>2000-06-19 09:49:00</td>\n",
       "      <td>re : map</td>\n",
       "      <td>you de man . could you change the spelling fro...</td>\n",
       "    </tr>\n",
       "    <tr>\n",
       "      <td>14546</td>\n",
       "      <td>2001-02-01 01:03:00</td>\n",
       "      <td>shelia.benke@enron.com , donald.black@enron.com ,</td>\n",
       "      <td>christian asked me to work with dan watkiss to...</td>\n",
       "    </tr>\n",
       "    <tr>\n",
       "      <td>9363</td>\n",
       "      <td>2001-02-06 09:41:00</td>\n",
       "      <td>re : gallup station - demand rebate</td>\n",
       "      <td>i haven't had a chance to study this yet , but...</td>\n",
       "    </tr>\n",
       "    <tr>\n",
       "      <td>6813</td>\n",
       "      <td>2001-02-14 00:59:00</td>\n",
       "      <td>re : ees europe - outsourcing reorganisation</td>\n",
       "      <td>matthew , sound fine - i will have kay start m...</td>\n",
       "    </tr>\n",
       "    <tr>\n",
       "      <td>21175</td>\n",
       "      <td>2001-03-21 00:05:00</td>\n",
       "      <td>re : november 2000 emw variances v financial l...</td>\n",
       "      <td>where are these being transferred from ? i onl...</td>\n",
       "    </tr>\n",
       "    <tr>\n",
       "      <td>26767</td>\n",
       "      <td>2001-04-04 08:15:00</td>\n",
       "      <td>pseg</td>\n",
       "      <td>i hear your deal blew up . what happened ? ckm</td>\n",
       "    </tr>\n",
       "    <tr>\n",
       "      <td>26598</td>\n",
       "      <td>2001-04-11 07:16:00</td>\n",
       "      <td>breakout contract</td>\n",
       "      <td>fyi - - - forwarded by kay mann / corp / enron...</td>\n",
       "    </tr>\n",
       "    <tr>\n",
       "      <td>35367</td>\n",
       "      <td>2001-05-07 15:57:00</td>\n",
       "      <td>west gas customer offisite - proposed</td>\n",
       "      <td>dorie , laura ... can i get together with you ...</td>\n",
       "    </tr>\n",
       "  </tbody>\n",
       "</table>\n",
       "</div>"
      ],
      "text/plain": [
       "                     date                                            subject  \\\n",
       "18866 1999-12-17 07:15:00                              re : emission trading   \n",
       "9986  2000-06-19 09:49:00                                           re : map   \n",
       "14546 2001-02-01 01:03:00  shelia.benke@enron.com , donald.black@enron.com ,   \n",
       "9363  2001-02-06 09:41:00                re : gallup station - demand rebate   \n",
       "6813  2001-02-14 00:59:00       re : ees europe - outsourcing reorganisation   \n",
       "21175 2001-03-21 00:05:00  re : november 2000 emw variances v financial l...   \n",
       "26767 2001-04-04 08:15:00                                               pseg   \n",
       "26598 2001-04-11 07:16:00                                  breakout contract   \n",
       "35367 2001-05-07 15:57:00              west gas customer offisite - proposed   \n",
       "\n",
       "                                                    text  \n",
       "18866  - - - forwarded by vince j kaminski / hou / ec...  \n",
       "9986   you de man . could you change the spelling fro...  \n",
       "14546  christian asked me to work with dan watkiss to...  \n",
       "9363   i haven't had a chance to study this yet , but...  \n",
       "6813   matthew , sound fine - i will have kay start m...  \n",
       "21175  where are these being transferred from ? i onl...  \n",
       "26767     i hear your deal blew up . what happened ? ckm  \n",
       "26598  fyi - - - forwarded by kay mann / corp / enron...  \n",
       "35367  dorie , laura ... can i get together with you ...  "
      ]
     },
     "execution_count": 11,
     "metadata": {},
     "output_type": "execute_result"
    }
   ],
   "source": [
    "data[text_sentiment['neg'] == text_sentiment['neg'].max()][['date', 'subject', 'text']]"
   ]
  },
  {
   "cell_type": "code",
   "execution_count": 12,
   "metadata": {
    "ExecuteTime": {
     "end_time": "2020-06-24T19:28:22.208999Z",
     "start_time": "2020-06-24T19:28:22.141444Z"
    }
   },
   "outputs": [
    {
     "data": {
      "text/html": [
       "<div>\n",
       "<style scoped>\n",
       "    .dataframe tbody tr th:only-of-type {\n",
       "        vertical-align: middle;\n",
       "    }\n",
       "\n",
       "    .dataframe tbody tr th {\n",
       "        vertical-align: top;\n",
       "    }\n",
       "\n",
       "    .dataframe thead th {\n",
       "        text-align: right;\n",
       "    }\n",
       "</style>\n",
       "<table border=\"1\" class=\"dataframe\">\n",
       "  <thead>\n",
       "    <tr style=\"text-align: right;\">\n",
       "      <th></th>\n",
       "      <th>date</th>\n",
       "      <th>subject</th>\n",
       "      <th>text</th>\n",
       "    </tr>\n",
       "  </thead>\n",
       "  <tbody>\n",
       "    <tr>\n",
       "      <td>18870</td>\n",
       "      <td>1999-12-17 07:05:00</td>\n",
       "      <td>a paper of mine</td>\n",
       "      <td>- - - forwarded by vince j kaminski / hou / ec...</td>\n",
       "    </tr>\n",
       "    <tr>\n",
       "      <td>18727</td>\n",
       "      <td>2000-01-11 01:56:00</td>\n",
       "      <td>congratulations</td>\n",
       "      <td>george , congratulations . well deserved . vince</td>\n",
       "    </tr>\n",
       "    <tr>\n",
       "      <td>10770</td>\n",
       "      <td>2000-03-08 05:51:00</td>\n",
       "      <td>re : demand charges</td>\n",
       "      <td>- - - forwarded by chris germany / hou / ect o...</td>\n",
       "    </tr>\n",
       "    <tr>\n",
       "      <td>30861</td>\n",
       "      <td>2000-03-16 04:51:00</td>\n",
       "      <td>re : the texas graduate school of business - r...</td>\n",
       "      <td>dr . harris : sorry for the delay , i have bee...</td>\n",
       "    </tr>\n",
       "    <tr>\n",
       "      <td>5439</td>\n",
       "      <td>2000-04-26 03:28:00</td>\n",
       "      <td></td>\n",
       "      <td>did you guy need me to make a hotel reservatio...</td>\n",
       "    </tr>\n",
       "    <tr>\n",
       "      <td>...</td>\n",
       "      <td>...</td>\n",
       "      <td>...</td>\n",
       "      <td>...</td>\n",
       "    </tr>\n",
       "    <tr>\n",
       "      <td>26082</td>\n",
       "      <td>2001-05-01 05:08:00</td>\n",
       "      <td>re :</td>\n",
       "      <td>one comment which wa taken related to the appl...</td>\n",
       "    </tr>\n",
       "    <tr>\n",
       "      <td>14977</td>\n",
       "      <td>2001-05-01 15:30:00</td>\n",
       "      <td>re : price quote</td>\n",
       "      <td>you are correct sir ! scott</td>\n",
       "    </tr>\n",
       "    <tr>\n",
       "      <td>12486</td>\n",
       "      <td>2001-05-14 19:01:00</td>\n",
       "      <td>re :</td>\n",
       "      <td>- - - forwarded by chris germany / hou / ect o...</td>\n",
       "    </tr>\n",
       "    <tr>\n",
       "      <td>31361</td>\n",
       "      <td>2001-06-06 13:02:00</td>\n",
       "      <td>richard.barry@enron.com , keith.braswell@enron...</td>\n",
       "      <td>this is a new interconnect into the suction si...</td>\n",
       "    </tr>\n",
       "    <tr>\n",
       "      <td>31362</td>\n",
       "      <td>2001-06-06 13:02:00</td>\n",
       "      <td>richard.barry@enron.com , keith.braswell@enron...</td>\n",
       "      <td>this is a new interconnect into the suction si...</td>\n",
       "    </tr>\n",
       "  </tbody>\n",
       "</table>\n",
       "<p>68 rows × 3 columns</p>\n",
       "</div>"
      ],
      "text/plain": [
       "                     date                                            subject  \\\n",
       "18870 1999-12-17 07:05:00                                    a paper of mine   \n",
       "18727 2000-01-11 01:56:00                                    congratulations   \n",
       "10770 2000-03-08 05:51:00                                re : demand charges   \n",
       "30861 2000-03-16 04:51:00  re : the texas graduate school of business - r...   \n",
       "5439  2000-04-26 03:28:00                                                      \n",
       "...                   ...                                                ...   \n",
       "26082 2001-05-01 05:08:00                                               re :   \n",
       "14977 2001-05-01 15:30:00                                   re : price quote   \n",
       "12486 2001-05-14 19:01:00                                               re :   \n",
       "31361 2001-06-06 13:02:00  richard.barry@enron.com , keith.braswell@enron...   \n",
       "31362 2001-06-06 13:02:00  richard.barry@enron.com , keith.braswell@enron...   \n",
       "\n",
       "                                                    text  \n",
       "18870  - - - forwarded by vince j kaminski / hou / ec...  \n",
       "18727   george , congratulations . well deserved . vince  \n",
       "10770  - - - forwarded by chris germany / hou / ect o...  \n",
       "30861  dr . harris : sorry for the delay , i have bee...  \n",
       "5439   did you guy need me to make a hotel reservatio...  \n",
       "...                                                  ...  \n",
       "26082  one comment which wa taken related to the appl...  \n",
       "14977                        you are correct sir ! scott  \n",
       "12486  - - - forwarded by chris germany / hou / ect o...  \n",
       "31361  this is a new interconnect into the suction si...  \n",
       "31362  this is a new interconnect into the suction si...  \n",
       "\n",
       "[68 rows x 3 columns]"
      ]
     },
     "execution_count": 12,
     "metadata": {},
     "output_type": "execute_result"
    }
   ],
   "source": [
    "data[text_sentiment['pos'] == text_sentiment['pos'].max()][['date', 'subject', 'text']]"
   ]
  },
  {
   "cell_type": "markdown",
   "metadata": {},
   "source": [
    "## More general text features"
   ]
  },
  {
   "cell_type": "markdown",
   "metadata": {
    "ExecuteTime": {
     "end_time": "2020-06-24T20:23:33.915285Z",
     "start_time": "2020-06-24T20:23:33.912353Z"
    }
   },
   "source": [
    "The longest letters were made by:"
   ]
  },
  {
   "cell_type": "code",
   "execution_count": 80,
   "metadata": {
    "ExecuteTime": {
     "end_time": "2020-06-24T20:41:20.405434Z",
     "start_time": "2020-06-24T20:40:51.449176Z"
    },
    "scrolled": true
   },
   "outputs": [
    {
     "name": "stdout",
     "output_type": "stream",
     "text": [
      "CPU times: user 28.9 s, sys: 72 ms, total: 29 s\n",
      "Wall time: 29 s\n"
     ]
    }
   ],
   "source": [
    "%%time\n",
    "message_len = data['text'].apply(lambda x: len(tknzr.tokenize(x)))"
   ]
  },
  {
   "cell_type": "code",
   "execution_count": 81,
   "metadata": {
    "ExecuteTime": {
     "end_time": "2020-06-24T20:41:20.414408Z",
     "start_time": "2020-06-24T20:41:20.406974Z"
    },
    "scrolled": true
   },
   "outputs": [
    {
     "data": {
      "text/plain": [
       "{'chris.germany@enron.com',\n",
       " 'cooper.richey@enron.com',\n",
       " 'darron.giron@enron.com',\n",
       " 'eric.bass@enron.com',\n",
       " 'errol.mclaughlin@enron.com',\n",
       " 'john.arnold@enron.com',\n",
       " 'judy.hernandez@enron.com',\n",
       " 'kay.chapman@enron.com',\n",
       " 'kim.ward@enron.com',\n",
       " 'lysa.akin@enron.com',\n",
       " 'mary.hain@enron.com',\n",
       " 'susan.scott@enron.com',\n",
       " 'tracy.geaccone@enron.com',\n",
       " 'vince.kaminski@enron.com'}"
      ]
     },
     "execution_count": 81,
     "metadata": {},
     "output_type": "execute_result"
    }
   ],
   "source": [
    "set(data.loc[message_len.sort_values(ascending=False)[:30].index]['from'].tolist())"
   ]
  },
  {
   "cell_type": "markdown",
   "metadata": {
    "ExecuteTime": {
     "end_time": "2020-06-24T20:26:09.139583Z",
     "start_time": "2020-06-24T20:26:09.136989Z"
    }
   },
   "source": [
    "The biggest mean length of letters:"
   ]
  },
  {
   "cell_type": "code",
   "execution_count": 82,
   "metadata": {
    "ExecuteTime": {
     "end_time": "2020-06-24T20:41:20.515490Z",
     "start_time": "2020-06-24T20:41:20.415551Z"
    },
    "scrolled": true
   },
   "outputs": [
    {
     "data": {
      "text/html": [
       "<div>\n",
       "<style scoped>\n",
       "    .dataframe tbody tr th:only-of-type {\n",
       "        vertical-align: middle;\n",
       "    }\n",
       "\n",
       "    .dataframe tbody tr th {\n",
       "        vertical-align: top;\n",
       "    }\n",
       "\n",
       "    .dataframe thead tr th {\n",
       "        text-align: left;\n",
       "    }\n",
       "\n",
       "    .dataframe thead tr:last-of-type th {\n",
       "        text-align: right;\n",
       "    }\n",
       "</style>\n",
       "<table border=\"1\" class=\"dataframe\">\n",
       "  <thead>\n",
       "    <tr>\n",
       "      <th></th>\n",
       "      <th colspan=\"2\" halign=\"left\">length</th>\n",
       "    </tr>\n",
       "    <tr>\n",
       "      <th></th>\n",
       "      <th>max</th>\n",
       "      <th>mean</th>\n",
       "    </tr>\n",
       "    <tr>\n",
       "      <th>from</th>\n",
       "      <th></th>\n",
       "      <th></th>\n",
       "    </tr>\n",
       "  </thead>\n",
       "  <tbody>\n",
       "    <tr>\n",
       "      <td>lysa.akin@enron.com</td>\n",
       "      <td>38123</td>\n",
       "      <td>1157.769231</td>\n",
       "    </tr>\n",
       "    <tr>\n",
       "      <td>cooper.richey@enron.com</td>\n",
       "      <td>36550</td>\n",
       "      <td>582.212963</td>\n",
       "    </tr>\n",
       "    <tr>\n",
       "      <td>judy.hernandez@enron.com</td>\n",
       "      <td>17888</td>\n",
       "      <td>843.993392</td>\n",
       "    </tr>\n",
       "    <tr>\n",
       "      <td>mary.hain@enron.com</td>\n",
       "      <td>8064</td>\n",
       "      <td>416.182731</td>\n",
       "    </tr>\n",
       "    <tr>\n",
       "      <td>eric.bass@enron.com</td>\n",
       "      <td>7570</td>\n",
       "      <td>241.483032</td>\n",
       "    </tr>\n",
       "    <tr>\n",
       "      <td>errol.mclaughlin@enron.com</td>\n",
       "      <td>6316</td>\n",
       "      <td>161.000000</td>\n",
       "    </tr>\n",
       "    <tr>\n",
       "      <td>darron.giron@enron.com</td>\n",
       "      <td>6260</td>\n",
       "      <td>292.718269</td>\n",
       "    </tr>\n",
       "    <tr>\n",
       "      <td>john.arnold@enron.com</td>\n",
       "      <td>5956</td>\n",
       "      <td>196.604734</td>\n",
       "    </tr>\n",
       "    <tr>\n",
       "      <td>kay.chapman@enron.com</td>\n",
       "      <td>5216</td>\n",
       "      <td>205.948598</td>\n",
       "    </tr>\n",
       "    <tr>\n",
       "      <td>chris.germany@enron.com</td>\n",
       "      <td>5061</td>\n",
       "      <td>195.191530</td>\n",
       "    </tr>\n",
       "    <tr>\n",
       "      <td>vince.kaminski@enron.com</td>\n",
       "      <td>4891</td>\n",
       "      <td>297.886395</td>\n",
       "    </tr>\n",
       "    <tr>\n",
       "      <td>kim.ward@enron.com</td>\n",
       "      <td>4802</td>\n",
       "      <td>274.415686</td>\n",
       "    </tr>\n",
       "    <tr>\n",
       "      <td>susan.scott@enron.com</td>\n",
       "      <td>4724</td>\n",
       "      <td>300.592935</td>\n",
       "    </tr>\n",
       "    <tr>\n",
       "      <td>tracy.geaccone@enron.com</td>\n",
       "      <td>4619</td>\n",
       "      <td>298.377193</td>\n",
       "    </tr>\n",
       "    <tr>\n",
       "      <td>sandra.brawner@enron.com</td>\n",
       "      <td>4476</td>\n",
       "      <td>209.020979</td>\n",
       "    </tr>\n",
       "    <tr>\n",
       "      <td>larry.campbell@enron.com</td>\n",
       "      <td>4022</td>\n",
       "      <td>263.316406</td>\n",
       "    </tr>\n",
       "    <tr>\n",
       "      <td>tori.kuykendall@enron.com</td>\n",
       "      <td>3841</td>\n",
       "      <td>196.128079</td>\n",
       "    </tr>\n",
       "    <tr>\n",
       "      <td>kevin.ruscitti@enron.com</td>\n",
       "      <td>3811</td>\n",
       "      <td>151.462428</td>\n",
       "    </tr>\n",
       "    <tr>\n",
       "      <td>geoff.storey@enron.com</td>\n",
       "      <td>3809</td>\n",
       "      <td>439.307692</td>\n",
       "    </tr>\n",
       "    <tr>\n",
       "      <td>hunter.shively@enron.com</td>\n",
       "      <td>3806</td>\n",
       "      <td>219.180000</td>\n",
       "    </tr>\n",
       "    <tr>\n",
       "      <td>daren.farmer@enron.com</td>\n",
       "      <td>3766</td>\n",
       "      <td>262.104238</td>\n",
       "    </tr>\n",
       "    <tr>\n",
       "      <td>randall.gay@enron.com</td>\n",
       "      <td>3761</td>\n",
       "      <td>252.532407</td>\n",
       "    </tr>\n",
       "    <tr>\n",
       "      <td>matt.smith@enron.com</td>\n",
       "      <td>3683</td>\n",
       "      <td>131.588652</td>\n",
       "    </tr>\n",
       "    <tr>\n",
       "      <td>david.delainey@enron.com</td>\n",
       "      <td>3547</td>\n",
       "      <td>320.133268</td>\n",
       "    </tr>\n",
       "    <tr>\n",
       "      <td>kay.mann@enron.com</td>\n",
       "      <td>3522</td>\n",
       "      <td>243.873231</td>\n",
       "    </tr>\n",
       "    <tr>\n",
       "      <td>phillip.allen@enron.com</td>\n",
       "      <td>3508</td>\n",
       "      <td>195.857784</td>\n",
       "    </tr>\n",
       "    <tr>\n",
       "      <td>tamara.black@enron.com</td>\n",
       "      <td>3507</td>\n",
       "      <td>3507.000000</td>\n",
       "    </tr>\n",
       "    <tr>\n",
       "      <td>mike.mcconnell@enron.com</td>\n",
       "      <td>3506</td>\n",
       "      <td>277.439252</td>\n",
       "    </tr>\n",
       "    <tr>\n",
       "      <td>susan.pereira@enron.com</td>\n",
       "      <td>3503</td>\n",
       "      <td>213.354839</td>\n",
       "    </tr>\n",
       "    <tr>\n",
       "      <td>kate.symes@enron.com</td>\n",
       "      <td>3188</td>\n",
       "      <td>171.708751</td>\n",
       "    </tr>\n",
       "  </tbody>\n",
       "</table>\n",
       "</div>"
      ],
      "text/plain": [
       "                           length             \n",
       "                              max         mean\n",
       "from                                          \n",
       "lysa.akin@enron.com         38123  1157.769231\n",
       "cooper.richey@enron.com     36550   582.212963\n",
       "judy.hernandez@enron.com    17888   843.993392\n",
       "mary.hain@enron.com          8064   416.182731\n",
       "eric.bass@enron.com          7570   241.483032\n",
       "errol.mclaughlin@enron.com   6316   161.000000\n",
       "darron.giron@enron.com       6260   292.718269\n",
       "john.arnold@enron.com        5956   196.604734\n",
       "kay.chapman@enron.com        5216   205.948598\n",
       "chris.germany@enron.com      5061   195.191530\n",
       "vince.kaminski@enron.com     4891   297.886395\n",
       "kim.ward@enron.com           4802   274.415686\n",
       "susan.scott@enron.com        4724   300.592935\n",
       "tracy.geaccone@enron.com     4619   298.377193\n",
       "sandra.brawner@enron.com     4476   209.020979\n",
       "larry.campbell@enron.com     4022   263.316406\n",
       "tori.kuykendall@enron.com    3841   196.128079\n",
       "kevin.ruscitti@enron.com     3811   151.462428\n",
       "geoff.storey@enron.com       3809   439.307692\n",
       "hunter.shively@enron.com     3806   219.180000\n",
       "daren.farmer@enron.com       3766   262.104238\n",
       "randall.gay@enron.com        3761   252.532407\n",
       "matt.smith@enron.com         3683   131.588652\n",
       "david.delainey@enron.com     3547   320.133268\n",
       "kay.mann@enron.com           3522   243.873231\n",
       "phillip.allen@enron.com      3508   195.857784\n",
       "tamara.black@enron.com       3507  3507.000000\n",
       "mike.mcconnell@enron.com     3506   277.439252\n",
       "susan.pereira@enron.com      3503   213.354839\n",
       "kate.symes@enron.com         3188   171.708751"
      ]
     },
     "execution_count": 82,
     "metadata": {},
     "output_type": "execute_result"
    }
   ],
   "source": [
    "means = pd.DataFrame()\n",
    "means['from'] = data['from']\n",
    "means['length'] = message_len\n",
    "\n",
    "means = means.groupby('from').agg({'length': ['max', 'mean']})\n",
    "means.sort_values(by=[('length', 'max')], ascending=False, inplace=True)\n",
    "means.head(30)"
   ]
  },
  {
   "cell_type": "code",
   "execution_count": 83,
   "metadata": {
    "ExecuteTime": {
     "end_time": "2020-06-24T20:41:20.563925Z",
     "start_time": "2020-06-24T20:41:20.516627Z"
    },
    "scrolled": true
   },
   "outputs": [
    {
     "data": {
      "text/html": [
       "<div>\n",
       "<style scoped>\n",
       "    .dataframe tbody tr th:only-of-type {\n",
       "        vertical-align: middle;\n",
       "    }\n",
       "\n",
       "    .dataframe tbody tr th {\n",
       "        vertical-align: top;\n",
       "    }\n",
       "\n",
       "    .dataframe thead tr th {\n",
       "        text-align: left;\n",
       "    }\n",
       "\n",
       "    .dataframe thead tr:last-of-type th {\n",
       "        text-align: right;\n",
       "    }\n",
       "</style>\n",
       "<table border=\"1\" class=\"dataframe\">\n",
       "  <thead>\n",
       "    <tr>\n",
       "      <th></th>\n",
       "      <th colspan=\"2\" halign=\"left\">length</th>\n",
       "    </tr>\n",
       "    <tr>\n",
       "      <th></th>\n",
       "      <th>max</th>\n",
       "      <th>mean</th>\n",
       "    </tr>\n",
       "    <tr>\n",
       "      <th>from</th>\n",
       "      <th></th>\n",
       "      <th></th>\n",
       "    </tr>\n",
       "  </thead>\n",
       "  <tbody>\n",
       "    <tr>\n",
       "      <td>tamara.black@enron.com</td>\n",
       "      <td>3507</td>\n",
       "      <td>3507.000000</td>\n",
       "    </tr>\n",
       "    <tr>\n",
       "      <td>lysa.akin@enron.com</td>\n",
       "      <td>38123</td>\n",
       "      <td>1157.769231</td>\n",
       "    </tr>\n",
       "    <tr>\n",
       "      <td>judy.hernandez@enron.com</td>\n",
       "      <td>17888</td>\n",
       "      <td>843.993392</td>\n",
       "    </tr>\n",
       "    <tr>\n",
       "      <td>jeff.king@enron.com</td>\n",
       "      <td>1045</td>\n",
       "      <td>789.750000</td>\n",
       "    </tr>\n",
       "    <tr>\n",
       "      <td>clint.dean@enron.com</td>\n",
       "      <td>2036</td>\n",
       "      <td>665.166667</td>\n",
       "    </tr>\n",
       "    <tr>\n",
       "      <td>cooper.richey@enron.com</td>\n",
       "      <td>36550</td>\n",
       "      <td>582.212963</td>\n",
       "    </tr>\n",
       "    <tr>\n",
       "      <td>j.harris@enron.com</td>\n",
       "      <td>471</td>\n",
       "      <td>471.000000</td>\n",
       "    </tr>\n",
       "    <tr>\n",
       "      <td>geoff.storey@enron.com</td>\n",
       "      <td>3809</td>\n",
       "      <td>439.307692</td>\n",
       "    </tr>\n",
       "    <tr>\n",
       "      <td>mary.hain@enron.com</td>\n",
       "      <td>8064</td>\n",
       "      <td>416.182731</td>\n",
       "    </tr>\n",
       "    <tr>\n",
       "      <td>james.derrick@enron.com</td>\n",
       "      <td>2364</td>\n",
       "      <td>412.339286</td>\n",
       "    </tr>\n",
       "    <tr>\n",
       "      <td>lynn.blair@enron.com</td>\n",
       "      <td>1062</td>\n",
       "      <td>401.137931</td>\n",
       "    </tr>\n",
       "    <tr>\n",
       "      <td>drew.fossum@enron.com</td>\n",
       "      <td>2854</td>\n",
       "      <td>365.605048</td>\n",
       "    </tr>\n",
       "    <tr>\n",
       "      <td>cathy.phillips@enron.com</td>\n",
       "      <td>1343</td>\n",
       "      <td>360.862745</td>\n",
       "    </tr>\n",
       "    <tr>\n",
       "      <td>rod.hayslett@enron.com</td>\n",
       "      <td>1105</td>\n",
       "      <td>360.232558</td>\n",
       "    </tr>\n",
       "    <tr>\n",
       "      <td>joannie.williamson@enron.com</td>\n",
       "      <td>1571</td>\n",
       "      <td>358.760870</td>\n",
       "    </tr>\n",
       "    <tr>\n",
       "      <td>katherine.brown@enron.com</td>\n",
       "      <td>680</td>\n",
       "      <td>347.214286</td>\n",
       "    </tr>\n",
       "    <tr>\n",
       "      <td>david.delainey@enron.com</td>\n",
       "      <td>3547</td>\n",
       "      <td>320.133268</td>\n",
       "    </tr>\n",
       "    <tr>\n",
       "      <td>sally.beck@enron.com</td>\n",
       "      <td>2393</td>\n",
       "      <td>307.648495</td>\n",
       "    </tr>\n",
       "    <tr>\n",
       "      <td>susan.scott@enron.com</td>\n",
       "      <td>4724</td>\n",
       "      <td>300.592935</td>\n",
       "    </tr>\n",
       "    <tr>\n",
       "      <td>tracy.geaccone@enron.com</td>\n",
       "      <td>4619</td>\n",
       "      <td>298.377193</td>\n",
       "    </tr>\n",
       "    <tr>\n",
       "      <td>vince.kaminski@enron.com</td>\n",
       "      <td>4891</td>\n",
       "      <td>297.886395</td>\n",
       "    </tr>\n",
       "    <tr>\n",
       "      <td>darron.giron@enron.com</td>\n",
       "      <td>6260</td>\n",
       "      <td>292.718269</td>\n",
       "    </tr>\n",
       "    <tr>\n",
       "      <td>mike.mcconnell@enron.com</td>\n",
       "      <td>3506</td>\n",
       "      <td>277.439252</td>\n",
       "    </tr>\n",
       "    <tr>\n",
       "      <td>sherri.reinartz@enron.com</td>\n",
       "      <td>563</td>\n",
       "      <td>275.266667</td>\n",
       "    </tr>\n",
       "    <tr>\n",
       "      <td>kim.ward@enron.com</td>\n",
       "      <td>4802</td>\n",
       "      <td>274.415686</td>\n",
       "    </tr>\n",
       "    <tr>\n",
       "      <td>andrea.ring@enron.com</td>\n",
       "      <td>2257</td>\n",
       "      <td>272.271318</td>\n",
       "    </tr>\n",
       "    <tr>\n",
       "      <td>michelle.lokay@enron.com</td>\n",
       "      <td>2811</td>\n",
       "      <td>270.826087</td>\n",
       "    </tr>\n",
       "    <tr>\n",
       "      <td>scott.neal@enron.com</td>\n",
       "      <td>2735</td>\n",
       "      <td>268.931818</td>\n",
       "    </tr>\n",
       "    <tr>\n",
       "      <td>larry.campbell@enron.com</td>\n",
       "      <td>4022</td>\n",
       "      <td>263.316406</td>\n",
       "    </tr>\n",
       "    <tr>\n",
       "      <td>daren.farmer@enron.com</td>\n",
       "      <td>3766</td>\n",
       "      <td>262.104238</td>\n",
       "    </tr>\n",
       "  </tbody>\n",
       "</table>\n",
       "</div>"
      ],
      "text/plain": [
       "                             length             \n",
       "                                max         mean\n",
       "from                                            \n",
       "tamara.black@enron.com         3507  3507.000000\n",
       "lysa.akin@enron.com           38123  1157.769231\n",
       "judy.hernandez@enron.com      17888   843.993392\n",
       "jeff.king@enron.com            1045   789.750000\n",
       "clint.dean@enron.com           2036   665.166667\n",
       "cooper.richey@enron.com       36550   582.212963\n",
       "j.harris@enron.com              471   471.000000\n",
       "geoff.storey@enron.com         3809   439.307692\n",
       "mary.hain@enron.com            8064   416.182731\n",
       "james.derrick@enron.com        2364   412.339286\n",
       "lynn.blair@enron.com           1062   401.137931\n",
       "drew.fossum@enron.com          2854   365.605048\n",
       "cathy.phillips@enron.com       1343   360.862745\n",
       "rod.hayslett@enron.com         1105   360.232558\n",
       "joannie.williamson@enron.com   1571   358.760870\n",
       "katherine.brown@enron.com       680   347.214286\n",
       "david.delainey@enron.com       3547   320.133268\n",
       "sally.beck@enron.com           2393   307.648495\n",
       "susan.scott@enron.com          4724   300.592935\n",
       "tracy.geaccone@enron.com       4619   298.377193\n",
       "vince.kaminski@enron.com       4891   297.886395\n",
       "darron.giron@enron.com         6260   292.718269\n",
       "mike.mcconnell@enron.com       3506   277.439252\n",
       "sherri.reinartz@enron.com       563   275.266667\n",
       "kim.ward@enron.com             4802   274.415686\n",
       "andrea.ring@enron.com          2257   272.271318\n",
       "michelle.lokay@enron.com       2811   270.826087\n",
       "scott.neal@enron.com           2735   268.931818\n",
       "larry.campbell@enron.com       4022   263.316406\n",
       "daren.farmer@enron.com         3766   262.104238"
      ]
     },
     "execution_count": 83,
     "metadata": {},
     "output_type": "execute_result"
    }
   ],
   "source": [
    "means.sort_values(by=[('length', 'mean')], ascending=False, inplace=True)\n",
    "means.head(30)"
   ]
  },
  {
   "cell_type": "markdown",
   "metadata": {},
   "source": [
    "And let's clean text from puncts."
   ]
  },
  {
   "cell_type": "code",
   "execution_count": 84,
   "metadata": {
    "ExecuteTime": {
     "end_time": "2020-06-24T20:41:50.293168Z",
     "start_time": "2020-06-24T20:41:20.565092Z"
    }
   },
   "outputs": [
    {
     "name": "stdout",
     "output_type": "stream",
     "text": [
      "CPU times: user 29.6 s, sys: 48 ms, total: 29.7 s\n",
      "Wall time: 29.7 s\n"
     ]
    }
   ],
   "source": [
    "%%time\n",
    "message_len = data['text'].apply(lambda x: len([xx for xx in tknzr.tokenize(x) if xx.isalpha()]))"
   ]
  },
  {
   "cell_type": "code",
   "execution_count": 85,
   "metadata": {
    "ExecuteTime": {
     "end_time": "2020-06-24T20:41:50.302322Z",
     "start_time": "2020-06-24T20:41:50.294458Z"
    }
   },
   "outputs": [
    {
     "data": {
      "text/plain": [
       "{'chris.germany@enron.com',\n",
       " 'cooper.richey@enron.com',\n",
       " 'darron.giron@enron.com',\n",
       " 'eric.bass@enron.com',\n",
       " 'errol.mclaughlin@enron.com',\n",
       " 'john.arnold@enron.com',\n",
       " 'judy.hernandez@enron.com',\n",
       " 'lysa.akin@enron.com',\n",
       " 'mike.mcconnell@enron.com',\n",
       " 'vince.kaminski@enron.com'}"
      ]
     },
     "execution_count": 85,
     "metadata": {},
     "output_type": "execute_result"
    }
   ],
   "source": [
    "set(data.loc[message_len.sort_values(ascending=False)[:30].index]['from'].tolist())"
   ]
  },
  {
   "cell_type": "code",
   "execution_count": 86,
   "metadata": {
    "ExecuteTime": {
     "end_time": "2020-06-24T20:41:50.410601Z",
     "start_time": "2020-06-24T20:41:50.304003Z"
    },
    "scrolled": true
   },
   "outputs": [
    {
     "data": {
      "text/html": [
       "<div>\n",
       "<style scoped>\n",
       "    .dataframe tbody tr th:only-of-type {\n",
       "        vertical-align: middle;\n",
       "    }\n",
       "\n",
       "    .dataframe tbody tr th {\n",
       "        vertical-align: top;\n",
       "    }\n",
       "\n",
       "    .dataframe thead tr th {\n",
       "        text-align: left;\n",
       "    }\n",
       "\n",
       "    .dataframe thead tr:last-of-type th {\n",
       "        text-align: right;\n",
       "    }\n",
       "</style>\n",
       "<table border=\"1\" class=\"dataframe\">\n",
       "  <thead>\n",
       "    <tr>\n",
       "      <th></th>\n",
       "      <th colspan=\"2\" halign=\"left\">length</th>\n",
       "    </tr>\n",
       "    <tr>\n",
       "      <th></th>\n",
       "      <th>max</th>\n",
       "      <th>mean</th>\n",
       "    </tr>\n",
       "    <tr>\n",
       "      <th>from</th>\n",
       "      <th></th>\n",
       "      <th></th>\n",
       "    </tr>\n",
       "  </thead>\n",
       "  <tbody>\n",
       "    <tr>\n",
       "      <td>lysa.akin@enron.com</td>\n",
       "      <td>25503</td>\n",
       "      <td>703.676923</td>\n",
       "    </tr>\n",
       "    <tr>\n",
       "      <td>eric.bass@enron.com</td>\n",
       "      <td>4840</td>\n",
       "      <td>154.313914</td>\n",
       "    </tr>\n",
       "    <tr>\n",
       "      <td>john.arnold@enron.com</td>\n",
       "      <td>4762</td>\n",
       "      <td>137.986982</td>\n",
       "    </tr>\n",
       "    <tr>\n",
       "      <td>judy.hernandez@enron.com</td>\n",
       "      <td>4079</td>\n",
       "      <td>399.610132</td>\n",
       "    </tr>\n",
       "    <tr>\n",
       "      <td>errol.mclaughlin@enron.com</td>\n",
       "      <td>3941</td>\n",
       "      <td>104.941176</td>\n",
       "    </tr>\n",
       "    <tr>\n",
       "      <td>darron.giron@enron.com</td>\n",
       "      <td>3920</td>\n",
       "      <td>174.301923</td>\n",
       "    </tr>\n",
       "    <tr>\n",
       "      <td>vince.kaminski@enron.com</td>\n",
       "      <td>3907</td>\n",
       "      <td>207.510114</td>\n",
       "    </tr>\n",
       "    <tr>\n",
       "      <td>chris.germany@enron.com</td>\n",
       "      <td>3370</td>\n",
       "      <td>132.406333</td>\n",
       "    </tr>\n",
       "    <tr>\n",
       "      <td>cooper.richey@enron.com</td>\n",
       "      <td>3037</td>\n",
       "      <td>203.009259</td>\n",
       "    </tr>\n",
       "    <tr>\n",
       "      <td>mike.mcconnell@enron.com</td>\n",
       "      <td>3015</td>\n",
       "      <td>209.823598</td>\n",
       "    </tr>\n",
       "    <tr>\n",
       "      <td>tracy.geaccone@enron.com</td>\n",
       "      <td>2865</td>\n",
       "      <td>191.750000</td>\n",
       "    </tr>\n",
       "    <tr>\n",
       "      <td>kay.chapman@enron.com</td>\n",
       "      <td>2815</td>\n",
       "      <td>133.747664</td>\n",
       "    </tr>\n",
       "    <tr>\n",
       "      <td>david.delainey@enron.com</td>\n",
       "      <td>2758</td>\n",
       "      <td>236.108949</td>\n",
       "    </tr>\n",
       "    <tr>\n",
       "      <td>kay.mann@enron.com</td>\n",
       "      <td>2739</td>\n",
       "      <td>169.642689</td>\n",
       "    </tr>\n",
       "    <tr>\n",
       "      <td>susan.scott@enron.com</td>\n",
       "      <td>2734</td>\n",
       "      <td>215.577796</td>\n",
       "    </tr>\n",
       "    <tr>\n",
       "      <td>sandra.brawner@enron.com</td>\n",
       "      <td>2715</td>\n",
       "      <td>120.398601</td>\n",
       "    </tr>\n",
       "    <tr>\n",
       "      <td>kate.symes@enron.com</td>\n",
       "      <td>2545</td>\n",
       "      <td>123.470942</td>\n",
       "    </tr>\n",
       "    <tr>\n",
       "      <td>matt.smith@enron.com</td>\n",
       "      <td>2301</td>\n",
       "      <td>93.578014</td>\n",
       "    </tr>\n",
       "    <tr>\n",
       "      <td>tori.kuykendall@enron.com</td>\n",
       "      <td>2278</td>\n",
       "      <td>117.729064</td>\n",
       "    </tr>\n",
       "    <tr>\n",
       "      <td>mary.hain@enron.com</td>\n",
       "      <td>2263</td>\n",
       "      <td>280.028112</td>\n",
       "    </tr>\n",
       "    <tr>\n",
       "      <td>drew.fossum@enron.com</td>\n",
       "      <td>2261</td>\n",
       "      <td>263.369710</td>\n",
       "    </tr>\n",
       "    <tr>\n",
       "      <td>randall.gay@enron.com</td>\n",
       "      <td>2238</td>\n",
       "      <td>162.861111</td>\n",
       "    </tr>\n",
       "    <tr>\n",
       "      <td>kim.ward@enron.com</td>\n",
       "      <td>2094</td>\n",
       "      <td>153.309804</td>\n",
       "    </tr>\n",
       "    <tr>\n",
       "      <td>hunter.shively@enron.com</td>\n",
       "      <td>2070</td>\n",
       "      <td>140.713333</td>\n",
       "    </tr>\n",
       "    <tr>\n",
       "      <td>larry.campbell@enron.com</td>\n",
       "      <td>2057</td>\n",
       "      <td>167.281250</td>\n",
       "    </tr>\n",
       "    <tr>\n",
       "      <td>geoff.storey@enron.com</td>\n",
       "      <td>2035</td>\n",
       "      <td>263.307692</td>\n",
       "    </tr>\n",
       "    <tr>\n",
       "      <td>kevin.ruscitti@enron.com</td>\n",
       "      <td>2033</td>\n",
       "      <td>103.040462</td>\n",
       "    </tr>\n",
       "    <tr>\n",
       "      <td>tamara.black@enron.com</td>\n",
       "      <td>1925</td>\n",
       "      <td>1925.000000</td>\n",
       "    </tr>\n",
       "    <tr>\n",
       "      <td>daren.farmer@enron.com</td>\n",
       "      <td>1922</td>\n",
       "      <td>175.538373</td>\n",
       "    </tr>\n",
       "    <tr>\n",
       "      <td>susan.pereira@enron.com</td>\n",
       "      <td>1920</td>\n",
       "      <td>142.612903</td>\n",
       "    </tr>\n",
       "  </tbody>\n",
       "</table>\n",
       "</div>"
      ],
      "text/plain": [
       "                           length             \n",
       "                              max         mean\n",
       "from                                          \n",
       "lysa.akin@enron.com         25503   703.676923\n",
       "eric.bass@enron.com          4840   154.313914\n",
       "john.arnold@enron.com        4762   137.986982\n",
       "judy.hernandez@enron.com     4079   399.610132\n",
       "errol.mclaughlin@enron.com   3941   104.941176\n",
       "darron.giron@enron.com       3920   174.301923\n",
       "vince.kaminski@enron.com     3907   207.510114\n",
       "chris.germany@enron.com      3370   132.406333\n",
       "cooper.richey@enron.com      3037   203.009259\n",
       "mike.mcconnell@enron.com     3015   209.823598\n",
       "tracy.geaccone@enron.com     2865   191.750000\n",
       "kay.chapman@enron.com        2815   133.747664\n",
       "david.delainey@enron.com     2758   236.108949\n",
       "kay.mann@enron.com           2739   169.642689\n",
       "susan.scott@enron.com        2734   215.577796\n",
       "sandra.brawner@enron.com     2715   120.398601\n",
       "kate.symes@enron.com         2545   123.470942\n",
       "matt.smith@enron.com         2301    93.578014\n",
       "tori.kuykendall@enron.com    2278   117.729064\n",
       "mary.hain@enron.com          2263   280.028112\n",
       "drew.fossum@enron.com        2261   263.369710\n",
       "randall.gay@enron.com        2238   162.861111\n",
       "kim.ward@enron.com           2094   153.309804\n",
       "hunter.shively@enron.com     2070   140.713333\n",
       "larry.campbell@enron.com     2057   167.281250\n",
       "geoff.storey@enron.com       2035   263.307692\n",
       "kevin.ruscitti@enron.com     2033   103.040462\n",
       "tamara.black@enron.com       1925  1925.000000\n",
       "daren.farmer@enron.com       1922   175.538373\n",
       "susan.pereira@enron.com      1920   142.612903"
      ]
     },
     "execution_count": 86,
     "metadata": {},
     "output_type": "execute_result"
    }
   ],
   "source": [
    "means = pd.DataFrame()\n",
    "means['from'] = data['from']\n",
    "means['length'] = message_len\n",
    "\n",
    "means = means.groupby('from').agg({'length': ['max', 'mean']})\n",
    "means.sort_values(by=[('length', 'max')], ascending=False, inplace=True)\n",
    "means.head(30)"
   ]
  },
  {
   "cell_type": "code",
   "execution_count": 87,
   "metadata": {
    "ExecuteTime": {
     "end_time": "2020-06-24T20:41:50.433575Z",
     "start_time": "2020-06-24T20:41:50.411971Z"
    },
    "scrolled": true
   },
   "outputs": [
    {
     "data": {
      "text/html": [
       "<div>\n",
       "<style scoped>\n",
       "    .dataframe tbody tr th:only-of-type {\n",
       "        vertical-align: middle;\n",
       "    }\n",
       "\n",
       "    .dataframe tbody tr th {\n",
       "        vertical-align: top;\n",
       "    }\n",
       "\n",
       "    .dataframe thead tr th {\n",
       "        text-align: left;\n",
       "    }\n",
       "\n",
       "    .dataframe thead tr:last-of-type th {\n",
       "        text-align: right;\n",
       "    }\n",
       "</style>\n",
       "<table border=\"1\" class=\"dataframe\">\n",
       "  <thead>\n",
       "    <tr>\n",
       "      <th></th>\n",
       "      <th colspan=\"2\" halign=\"left\">length</th>\n",
       "    </tr>\n",
       "    <tr>\n",
       "      <th></th>\n",
       "      <th>max</th>\n",
       "      <th>mean</th>\n",
       "    </tr>\n",
       "    <tr>\n",
       "      <th>from</th>\n",
       "      <th></th>\n",
       "      <th></th>\n",
       "    </tr>\n",
       "  </thead>\n",
       "  <tbody>\n",
       "    <tr>\n",
       "      <td>tamara.black@enron.com</td>\n",
       "      <td>1925</td>\n",
       "      <td>1925.000000</td>\n",
       "    </tr>\n",
       "    <tr>\n",
       "      <td>lysa.akin@enron.com</td>\n",
       "      <td>25503</td>\n",
       "      <td>703.676923</td>\n",
       "    </tr>\n",
       "    <tr>\n",
       "      <td>jeff.king@enron.com</td>\n",
       "      <td>847</td>\n",
       "      <td>640.250000</td>\n",
       "    </tr>\n",
       "    <tr>\n",
       "      <td>judy.hernandez@enron.com</td>\n",
       "      <td>4079</td>\n",
       "      <td>399.610132</td>\n",
       "    </tr>\n",
       "    <tr>\n",
       "      <td>j.harris@enron.com</td>\n",
       "      <td>326</td>\n",
       "      <td>326.000000</td>\n",
       "    </tr>\n",
       "    <tr>\n",
       "      <td>clint.dean@enron.com</td>\n",
       "      <td>860</td>\n",
       "      <td>314.166667</td>\n",
       "    </tr>\n",
       "    <tr>\n",
       "      <td>james.derrick@enron.com</td>\n",
       "      <td>1688</td>\n",
       "      <td>308.785714</td>\n",
       "    </tr>\n",
       "    <tr>\n",
       "      <td>mary.hain@enron.com</td>\n",
       "      <td>2263</td>\n",
       "      <td>280.028112</td>\n",
       "    </tr>\n",
       "    <tr>\n",
       "      <td>lynn.blair@enron.com</td>\n",
       "      <td>668</td>\n",
       "      <td>264.327586</td>\n",
       "    </tr>\n",
       "    <tr>\n",
       "      <td>drew.fossum@enron.com</td>\n",
       "      <td>2261</td>\n",
       "      <td>263.369710</td>\n",
       "    </tr>\n",
       "    <tr>\n",
       "      <td>geoff.storey@enron.com</td>\n",
       "      <td>2035</td>\n",
       "      <td>263.307692</td>\n",
       "    </tr>\n",
       "    <tr>\n",
       "      <td>cathy.phillips@enron.com</td>\n",
       "      <td>924</td>\n",
       "      <td>262.333333</td>\n",
       "    </tr>\n",
       "    <tr>\n",
       "      <td>joannie.williamson@enron.com</td>\n",
       "      <td>1215</td>\n",
       "      <td>260.304348</td>\n",
       "    </tr>\n",
       "    <tr>\n",
       "      <td>katherine.brown@enron.com</td>\n",
       "      <td>536</td>\n",
       "      <td>253.857143</td>\n",
       "    </tr>\n",
       "    <tr>\n",
       "      <td>rod.hayslett@enron.com</td>\n",
       "      <td>744</td>\n",
       "      <td>240.906977</td>\n",
       "    </tr>\n",
       "    <tr>\n",
       "      <td>david.delainey@enron.com</td>\n",
       "      <td>2758</td>\n",
       "      <td>236.108949</td>\n",
       "    </tr>\n",
       "    <tr>\n",
       "      <td>sally.beck@enron.com</td>\n",
       "      <td>1733</td>\n",
       "      <td>230.587469</td>\n",
       "    </tr>\n",
       "    <tr>\n",
       "      <td>susan.scott@enron.com</td>\n",
       "      <td>2734</td>\n",
       "      <td>215.577796</td>\n",
       "    </tr>\n",
       "    <tr>\n",
       "      <td>mike.mcconnell@enron.com</td>\n",
       "      <td>3015</td>\n",
       "      <td>209.823598</td>\n",
       "    </tr>\n",
       "    <tr>\n",
       "      <td>vince.kaminski@enron.com</td>\n",
       "      <td>3907</td>\n",
       "      <td>207.510114</td>\n",
       "    </tr>\n",
       "    <tr>\n",
       "      <td>cooper.richey@enron.com</td>\n",
       "      <td>3037</td>\n",
       "      <td>203.009259</td>\n",
       "    </tr>\n",
       "    <tr>\n",
       "      <td>sherri.reinartz@enron.com</td>\n",
       "      <td>445</td>\n",
       "      <td>197.733333</td>\n",
       "    </tr>\n",
       "    <tr>\n",
       "      <td>tracy.geaccone@enron.com</td>\n",
       "      <td>2865</td>\n",
       "      <td>191.750000</td>\n",
       "    </tr>\n",
       "    <tr>\n",
       "      <td>andrea.ring@enron.com</td>\n",
       "      <td>1458</td>\n",
       "      <td>185.961240</td>\n",
       "    </tr>\n",
       "    <tr>\n",
       "      <td>scott.neal@enron.com</td>\n",
       "      <td>1861</td>\n",
       "      <td>178.971591</td>\n",
       "    </tr>\n",
       "    <tr>\n",
       "      <td>sherri.sera@enron.com</td>\n",
       "      <td>753</td>\n",
       "      <td>175.647059</td>\n",
       "    </tr>\n",
       "    <tr>\n",
       "      <td>daren.farmer@enron.com</td>\n",
       "      <td>1922</td>\n",
       "      <td>175.538373</td>\n",
       "    </tr>\n",
       "    <tr>\n",
       "      <td>darron.giron@enron.com</td>\n",
       "      <td>3920</td>\n",
       "      <td>174.301923</td>\n",
       "    </tr>\n",
       "    <tr>\n",
       "      <td>kay.mann@enron.com</td>\n",
       "      <td>2739</td>\n",
       "      <td>169.642689</td>\n",
       "    </tr>\n",
       "    <tr>\n",
       "      <td>larry.campbell@enron.com</td>\n",
       "      <td>2057</td>\n",
       "      <td>167.281250</td>\n",
       "    </tr>\n",
       "  </tbody>\n",
       "</table>\n",
       "</div>"
      ],
      "text/plain": [
       "                             length             \n",
       "                                max         mean\n",
       "from                                            \n",
       "tamara.black@enron.com         1925  1925.000000\n",
       "lysa.akin@enron.com           25503   703.676923\n",
       "jeff.king@enron.com             847   640.250000\n",
       "judy.hernandez@enron.com       4079   399.610132\n",
       "j.harris@enron.com              326   326.000000\n",
       "clint.dean@enron.com            860   314.166667\n",
       "james.derrick@enron.com        1688   308.785714\n",
       "mary.hain@enron.com            2263   280.028112\n",
       "lynn.blair@enron.com            668   264.327586\n",
       "drew.fossum@enron.com          2261   263.369710\n",
       "geoff.storey@enron.com         2035   263.307692\n",
       "cathy.phillips@enron.com        924   262.333333\n",
       "joannie.williamson@enron.com   1215   260.304348\n",
       "katherine.brown@enron.com       536   253.857143\n",
       "rod.hayslett@enron.com          744   240.906977\n",
       "david.delainey@enron.com       2758   236.108949\n",
       "sally.beck@enron.com           1733   230.587469\n",
       "susan.scott@enron.com          2734   215.577796\n",
       "mike.mcconnell@enron.com       3015   209.823598\n",
       "vince.kaminski@enron.com       3907   207.510114\n",
       "cooper.richey@enron.com        3037   203.009259\n",
       "sherri.reinartz@enron.com       445   197.733333\n",
       "tracy.geaccone@enron.com       2865   191.750000\n",
       "andrea.ring@enron.com          1458   185.961240\n",
       "scott.neal@enron.com           1861   178.971591\n",
       "sherri.sera@enron.com           753   175.647059\n",
       "daren.farmer@enron.com         1922   175.538373\n",
       "darron.giron@enron.com         3920   174.301923\n",
       "kay.mann@enron.com             2739   169.642689\n",
       "larry.campbell@enron.com       2057   167.281250"
      ]
     },
     "execution_count": 87,
     "metadata": {},
     "output_type": "execute_result"
    }
   ],
   "source": [
    "means.sort_values(by=[('length', 'mean')], ascending=False, inplace=True)\n",
    "means.head(30)"
   ]
  },
  {
   "cell_type": "markdown",
   "metadata": {
    "ExecuteTime": {
     "end_time": "2020-06-24T20:46:11.279427Z",
     "start_time": "2020-06-24T20:46:11.276482Z"
    }
   },
   "source": [
    "There we can see some important persons of this story: Vince Kaminski, Kay Mann and John Arnold"
   ]
  },
  {
   "cell_type": "markdown",
   "metadata": {},
   "source": [
    "## Graph features\n",
    "This data is about emails and therefore it can be considered as complex network data."
   ]
  },
  {
   "cell_type": "code",
   "execution_count": 18,
   "metadata": {
    "ExecuteTime": {
     "end_time": "2020-06-24T19:29:54.515292Z",
     "start_time": "2020-06-24T19:29:54.511112Z"
    }
   },
   "outputs": [],
   "source": [
    "import numpy as np\n",
    "import nxviz as nv\n",
    "import networkx as nx\n",
    "import matplotlib.pyplot as plt\n",
    "%matplotlib inline\n",
    "\n",
    "np.random.seed(999)"
   ]
  },
  {
   "cell_type": "code",
   "execution_count": 19,
   "metadata": {
    "ExecuteTime": {
     "end_time": "2020-06-24T19:30:09.787811Z",
     "start_time": "2020-06-24T19:29:54.710075Z"
    }
   },
   "outputs": [
    {
     "data": {
      "image/png": "[encoded data removed]",
      "text/plain": [
       "<Figure size 432x432 with 1 Axes>"
      ]
     },
     "metadata": {},
     "output_type": "display_data"
    }
   ],
   "source": [
    "G = nx.from_pandas_edgelist(\n",
    "    data, \n",
    "    'from', \n",
    "    'to', \n",
    "    edge_attr=['date', 'subject']\n",
    ")\n",
    "plot = nv.ArcPlot(G)\n",
    "plot.draw();"
   ]
  },
  {
   "cell_type": "code",
   "execution_count": 20,
   "metadata": {
    "ExecuteTime": {
     "end_time": "2020-06-24T19:30:26.343135Z",
     "start_time": "2020-06-24T19:30:09.789501Z"
    }
   },
   "outputs": [
    {
     "data": {
      "image/png": "[encoded data removed]",
      "text/plain": [
       "<Figure size 432x432 with 1 Axes>"
      ]
     },
     "metadata": {},
     "output_type": "display_data"
    }
   ],
   "source": [
    "plot = nv.CircosPlot(G)\n",
    "plot.draw();"
   ]
  },
  {
   "cell_type": "markdown",
   "metadata": {},
   "source": [
    "Our complex network looks like \"hairy ball\" that is why we try to see on data just by centrality measures."
   ]
  },
  {
   "cell_type": "code",
   "execution_count": 29,
   "metadata": {
    "ExecuteTime": {
     "end_time": "2020-06-24T20:10:31.700596Z",
     "start_time": "2020-06-24T20:10:31.696662Z"
    }
   },
   "outputs": [],
   "source": [
    "import seaborn as sns\n",
    "\n",
    "def plot_top(cent, centrality_s=\"Closeness\"):\n",
    "    plt.figure(figsize=(10, 25))\n",
    "    _ = sns.barplot(x='centrality', y='name', data=cent[:30], orient='h')\n",
    "    _ = plt.xlabel(f'{centrality_s} Centrality')\n",
    "    _ = plt.ylabel('Correspondent')\n",
    "    _ = plt.title(f'Top 30 {centrality_s} Centrality Scores in Enron Email Network')\n",
    "    plt.show()"
   ]
  },
  {
   "cell_type": "code",
   "execution_count": 30,
   "metadata": {
    "ExecuteTime": {
     "end_time": "2020-06-24T20:10:32.661580Z",
     "start_time": "2020-06-24T20:10:32.096297Z"
    },
    "scrolled": true
   },
   "outputs": [
    {
     "data": {
      "image/png": "[encoded data removed]",
      "text/plain": [
       "<Figure size 720x1800 with 1 Axes>"
      ]
     },
     "metadata": {
      "needs_background": "light"
     },
     "output_type": "display_data"
    }
   ],
   "source": [
    "cent = nx.degree_centrality(G)\n",
    "cent = pd.DataFrame(cent.items())\n",
    "cent.columns = ['name', 'centrality']\n",
    "cent = cent.sort_values(by='centrality', ascending=False)\n",
    "\n",
    "plot_top(cent, 'Degree')"
   ]
  },
  {
   "cell_type": "code",
   "execution_count": 31,
   "metadata": {
    "ExecuteTime": {
     "end_time": "2020-06-24T20:15:27.198373Z",
     "start_time": "2020-06-24T20:10:32.663043Z"
    },
    "scrolled": true
   },
   "outputs": [
    {
     "data": {
      "image/png": "[encoded data removed]",
      "text/plain": [
       "<Figure size 720x1800 with 1 Axes>"
      ]
     },
     "metadata": {
      "needs_background": "light"
     },
     "output_type": "display_data"
    }
   ],
   "source": [
    "cent = nx.betweenness_centrality(G)\n",
    "cent = pd.DataFrame(cent.items())\n",
    "cent.columns = ['name', 'centrality']\n",
    "cent = cent.sort_values(by='centrality', ascending=False)\n",
    "\n",
    "plot_top(cent, 'Betweenness')"
   ]
  },
  {
   "cell_type": "code",
   "execution_count": 32,
   "metadata": {
    "ExecuteTime": {
     "end_time": "2020-06-24T20:16:50.537473Z",
     "start_time": "2020-06-24T20:15:27.199875Z"
    },
    "scrolled": true
   },
   "outputs": [
    {
     "data": {
      "image/png": "[encoded data removed]",
      "text/plain": [
       "<Figure size 720x1800 with 1 Axes>"
      ]
     },
     "metadata": {
      "needs_background": "light"
     },
     "output_type": "display_data"
    }
   ],
   "source": [
    "cent = nx.closeness_centrality(G)\n",
    "cent = pd.DataFrame(cent.items())\n",
    "cent.columns = ['name', 'centrality']\n",
    "cent = cent.sort_values(by='centrality', ascending=False)\n",
    "\n",
    "plot_top(cent, 'Closeness')"
   ]
  },
  {
   "cell_type": "code",
   "execution_count": 33,
   "metadata": {
    "ExecuteTime": {
     "end_time": "2020-06-24T20:16:50.554159Z",
     "start_time": "2020-06-24T20:16:50.538850Z"
    },
    "scrolled": true
   },
   "outputs": [
    {
     "data": {
      "text/plain": [
       "[('kay.mann@enron.com', 5088),\n",
       " ('vince.kaminski@enron.com', 3609),\n",
       " ('chris.germany@enron.com', 2621),\n",
       " ('eric.bass@enron.com', 1768),\n",
       " ('kate.symes@enron.com', 1497),\n",
       " ('drew.fossum@enron.com', 1347),\n",
       " ('sally.beck@enron.com', 1229),\n",
       " ('susan.scott@enron.com', 1189),\n",
       " ('phillip.love@enron.com', 1140),\n",
       " ('darron.giron@enron.com', 1040),\n",
       " ('david.delainey@enron.com', 1028),\n",
       " ('benjamin.rogers@enron.com', 996),\n",
       " ('daren.farmer@enron.com', 873),\n",
       " ('mike.mcconnell@enron.com', 856),\n",
       " ('john.arnold@enron.com', 845),\n",
       " ('robin.rodrigue@enron.com', 815),\n",
       " ('phillip.allen@enron.com', 668),\n",
       " ('john.lavorato@enron.com', 550),\n",
       " ('scott.neal@enron.com', 528),\n",
       " ('mary.hain@enron.com', 498),\n",
       " ('judy.hernandez@enron.com', 454),\n",
       " ('mark.guzman@enron.com', 358),\n",
       " ('mike.grigsby@enron.com', 348),\n",
       " ('errol.mclaughlin@enron.com', 306),\n",
       " ('hunter.shively@enron.com', 300),\n",
       " ('matt.smith@enron.com', 282),\n",
       " ('larry.campbell@enron.com', 256),\n",
       " ('kim.ward@enron.com', 255),\n",
       " ('patrice.mims@enron.com', 243),\n",
       " ('jane.tholt@enron.com', 239)]"
      ]
     },
     "execution_count": 33,
     "metadata": {},
     "output_type": "execute_result"
    }
   ],
   "source": [
    "from collections import Counter\n",
    "sorted(Counter(data['from']).items(), key=lambda x: -x[1])[:30]"
   ]
  },
  {
   "cell_type": "code",
   "execution_count": 34,
   "metadata": {
    "ExecuteTime": {
     "end_time": "2020-06-24T20:16:50.593776Z",
     "start_time": "2020-06-24T20:16:50.555378Z"
    },
    "scrolled": true
   },
   "outputs": [
    {
     "data": {
      "text/plain": [
       "[('vkaminski@aol.com', 1061),\n",
       " ('suzanne.adams@enron.com', 427),\n",
       " ('shirley.crenshaw@enron.com', 301),\n",
       " ('nmann@erac.com', 285),\n",
       " ('gabriel.monroy@enron.com', 242),\n",
       " ('ben.jacoby@enron.com', 239),\n",
       " ('evelyn.metoyer@enron.com', 236),\n",
       " ('kathleen.carnahan@enron.com', 229),\n",
       " ('kerri.thompson@enron.com', 226),\n",
       " ('carlos.sole@enron.com', 210),\n",
       " ('john.lavorato@enron.com', 200),\n",
       " ('bryan.hull@enron.com', 194),\n",
       " ('martha.benner@enron.com', 178),\n",
       " ('sheila.tweed@enron.com', 175),\n",
       " ('jkeffer@kslaw.com', 171),\n",
       " ('jason.bass2@compaq.com', 162),\n",
       " ('shanna.husser@enron.com', 162),\n",
       " ('ccampbell@kslaw.com', 154),\n",
       " ('timothy.blanchard@enron.com', 144),\n",
       " ('susan.scott@enron.com', 134),\n",
       " ('jeffrey.shankman@enron.com', 132),\n",
       " ('ina.rangel@enron.com', 132),\n",
       " ('roseann.engeldorf@enron.com', 128),\n",
       " ('tim.belden@enron.com', 127),\n",
       " ('matthew.lenhart@enron.com', 126),\n",
       " ('phillip.love@enron.com', 123),\n",
       " ('stinson.gibner@enron.com', 121),\n",
       " ('david.baumbach@enron.com', 120),\n",
       " ('victor.lamadrid@enron.com', 117),\n",
       " ('katie.trullinger@wfsg.com', 116)]"
      ]
     },
     "execution_count": 34,
     "metadata": {},
     "output_type": "execute_result"
    }
   ],
   "source": [
    "sorted(Counter(data['to']).items(), key=lambda x: -x[1])[:30]"
   ]
  },
  {
   "cell_type": "markdown",
   "metadata": {},
   "source": [
    "Vince Kaminski was the Managing Director for Research at Enron. Kaminski repeatedly raised strong objections to the financial practices of Enron’s Chief Financial Officer, Andrew Fastow, designed to fraudulently conceal the company’s burgeoning debt.\n",
    "\n",
    "David Delainey, John Lavorato were top Executives, John D. Arnold was a gas trader. Sally Beck was Chief Operating Officer at Enron Networks LLC.\n",
    "\n",
    "Kay Mann was a head of Legal of Enron company and its node has the biggest number of \"from\"."
   ]
  },
  {
   "cell_type": "markdown",
   "metadata": {},
   "source": [
    "## Time distribution"
   ]
  },
  {
   "cell_type": "code",
   "execution_count": 100,
   "metadata": {
    "ExecuteTime": {
     "end_time": "2020-06-24T20:54:09.750358Z",
     "start_time": "2020-06-24T20:54:09.718209Z"
    }
   },
   "outputs": [
    {
     "data": {
      "text/html": [
       "<div>\n",
       "<style scoped>\n",
       "    .dataframe tbody tr th:only-of-type {\n",
       "        vertical-align: middle;\n",
       "    }\n",
       "\n",
       "    .dataframe tbody tr th {\n",
       "        vertical-align: top;\n",
       "    }\n",
       "\n",
       "    .dataframe thead th {\n",
       "        text-align: right;\n",
       "    }\n",
       "</style>\n",
       "<table border=\"1\" class=\"dataframe\">\n",
       "  <thead>\n",
       "    <tr style=\"text-align: right;\">\n",
       "      <th></th>\n",
       "      <th></th>\n",
       "      <th>date</th>\n",
       "    </tr>\n",
       "    <tr>\n",
       "      <th>from</th>\n",
       "      <th>only_date</th>\n",
       "      <th></th>\n",
       "    </tr>\n",
       "  </thead>\n",
       "  <tbody>\n",
       "    <tr>\n",
       "      <td>amelia.alder@enron.com</td>\n",
       "      <td>2001-03-29</td>\n",
       "      <td>1</td>\n",
       "    </tr>\n",
       "    <tr>\n",
       "      <td rowspan=\"4\" valign=\"top\">andrea.ring@enron.com</td>\n",
       "      <td>2000-06-06</td>\n",
       "      <td>1</td>\n",
       "    </tr>\n",
       "    <tr>\n",
       "      <td>2000-07-11</td>\n",
       "      <td>2</td>\n",
       "    </tr>\n",
       "    <tr>\n",
       "      <td>2000-07-25</td>\n",
       "      <td>1</td>\n",
       "    </tr>\n",
       "    <tr>\n",
       "      <td>2000-08-09</td>\n",
       "      <td>1</td>\n",
       "    </tr>\n",
       "  </tbody>\n",
       "</table>\n",
       "</div>"
      ],
      "text/plain": [
       "                                   date\n",
       "from                   only_date       \n",
       "amelia.alder@enron.com 2001-03-29     1\n",
       "andrea.ring@enron.com  2000-06-06     1\n",
       "                       2000-07-11     2\n",
       "                       2000-07-25     1\n",
       "                       2000-08-09     1"
      ]
     },
     "execution_count": 100,
     "metadata": {},
     "output_type": "execute_result"
    }
   ],
   "source": [
    "data['only_date'] = data['date'].dt.date\n",
    "df = data[['from', 'only_date', 'date']].groupby(by=['from', 'only_date']).agg('count')\n",
    "df.head()"
   ]
  },
  {
   "cell_type": "code",
   "execution_count": 113,
   "metadata": {
    "ExecuteTime": {
     "end_time": "2020-06-24T20:59:34.389808Z",
     "start_time": "2020-06-24T20:59:34.234454Z"
    }
   },
   "outputs": [
    {
     "data": {
      "image/png": "[encoded data removed]",
      "text/plain": [
       "<Figure size 432x288 with 1 Axes>"
      ]
     },
     "metadata": {
      "needs_background": "light"
     },
     "output_type": "display_data"
    }
   ],
   "source": [
    "kay_mann = df.T['kay.mann@enron.com'].T.sort_index()\n",
    "plt.plot(kay_mann);"
   ]
  },
  {
   "cell_type": "code",
   "execution_count": 115,
   "metadata": {
    "ExecuteTime": {
     "end_time": "2020-06-24T21:00:31.134644Z",
     "start_time": "2020-06-24T21:00:30.986381Z"
    }
   },
   "outputs": [
    {
     "data": {
      "image/png": "[encoded data removed]",
      "text/plain": [
       "<Figure size 432x288 with 1 Axes>"
      ]
     },
     "metadata": {
      "needs_background": "light"
     },
     "output_type": "display_data"
    }
   ],
   "source": [
    "john_arnold = df.T['john.arnold@enron.com'].T.sort_index()\n",
    "plt.plot(john_arnold);"
   ]
  },
  {
   "cell_type": "code",
   "execution_count": 114,
   "metadata": {
    "ExecuteTime": {
     "end_time": "2020-06-24T20:59:35.108721Z",
     "start_time": "2020-06-24T20:59:34.953736Z"
    }
   },
   "outputs": [
    {
     "data": {
      "image/png": "[encoded data removed]",
      "text/plain": [
       "<Figure size 432x288 with 1 Axes>"
      ]
     },
     "metadata": {
      "needs_background": "light"
     },
     "output_type": "display_data"
    }
   ],
   "source": [
    "vince_kaminski = df.T['vince.kaminski@enron.com'].T.sort_index()\n",
    "plt.plot(vince_kaminski);"
   ]
  },
  {
   "cell_type": "markdown",
   "metadata": {},
   "source": [
    "Head of Legal and gas trader numbers of letters were increased from 2000 to 2001.\n",
    "\n",
    "It is looks organically."
   ]
  }
 ],
 "metadata": {
  "kernelspec": {
   "display_name": "classicml",
   "language": "python",
   "name": "classicml"
  },
  "language_info": {
   "codemirror_mode": {
    "name": "ipython",
    "version": 3
   },
   "file_extension": ".py",
   "mimetype": "text/x-python",
   "name": "python",
   "nbconvert_exporter": "python",
   "pygments_lexer": "ipython3",
   "version": "3.6.10"
  }
 },
 "nbformat": 4,
 "nbformat_minor": 4
}
